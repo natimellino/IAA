{
  "cells": [
    {
      "cell_type": "markdown",
      "metadata": {
        "id": "KnVj-slC1wcs"
      },
      "source": [
        "# TP Final - Redes Neuronales Convolucionales\n",
        "## Mellino, Natalia - Introducción al Aprendizaje Automatizado"
      ]
    },
    {
      "cell_type": "code",
      "source": [
        "# Imports\n",
        "\n",
        "import tensorflow as tf\n",
        "\n",
        "from tensorflow import keras\n",
        "from tensorflow.keras import datasets, layers, models\n",
        "import matplotlib.pyplot as plt\n",
        "from sklearn.model_selection import train_test_split"
      ],
      "metadata": {
        "id": "lsVzSddZ1yxS"
      },
      "execution_count": 1,
      "outputs": []
    },
    {
      "cell_type": "code",
      "source": [
        "def graficar_resultados(history, model, title):\n",
        "  # Calculamos el error a partir del accuracy para poder graficar\n",
        "  train_error = list(map(lambda x: 1 - x, history.history['accuracy']))\n",
        "  val_error = list(map(lambda x: 1 - x,  history.history['val_accuracy']))\n",
        "\n",
        "  xs = list(range(1, len(train_error) + 1))\n",
        "\n",
        "  # Graficamos\n",
        "  plt.plot(xs, train_error, label='Train Error')\n",
        "  plt.plot(xs, val_error, label = 'Val Error')\n",
        "  plt.xlabel('Epoca')\n",
        "  plt.ylabel('Error')\n",
        "  plt.legend()\n",
        "  plt.title(title)\n",
        "  plt.show()\n",
        "\n",
        "  # Error de test\n",
        "\n",
        "  (train_images, train_labels), (test_images, test_labels) = datasets.cifar10.load_data()\n",
        "  # Normalize pixel values to be between 0 and 1\n",
        "  train_images, test_images = train_images / 255.0, test_images / 255.0\n",
        "  test_loss, test_acc = model.evaluate(test_images,  test_labels)\n",
        "  print(f\"Test error en el modelo final: {1 - test_acc}\")"
      ],
      "metadata": {
        "id": "KCEAg6AwXLWl"
      },
      "execution_count": 2,
      "outputs": []
    },
    {
      "cell_type": "markdown",
      "source": [
        "## Ejercicio 1"
      ],
      "metadata": {
        "id": "pFUnVZ6Cg1fv"
      }
    },
    {
      "cell_type": "code",
      "source": [
        "def ej1(model):\n",
        "\n",
        "  (train_images, train_labels), (test_images, test_labels) = datasets.cifar10.load_data()\n",
        "\n",
        "  # Normalizamos como lo hace el ejemplo del tutorial\n",
        "  train_images, test_images = train_images / 255.0, test_images / 255.0\n",
        "\n",
        "\n",
        "  # Separamos conjunto de validación\n",
        "  train_images, val_images, train_labels, val_labels = train_test_split(\n",
        "      train_images, train_labels, test_size=0.2, random_state=0\n",
        "  )\n",
        "\n",
        "  # Compilamos y entrenamos\n",
        "\n",
        "  model.compile(\n",
        "      optimizer='adam',\n",
        "      loss=tf.keras.losses.SparseCategoricalCrossentropy(from_logits=True),\n",
        "      metrics=['accuracy']\n",
        "  )\n",
        "\n",
        "  history = model.fit(\n",
        "      train_images, \n",
        "      train_labels, \n",
        "      epochs=10, \n",
        "      validation_data=(val_images, val_labels)\n",
        "  )\n",
        "\n",
        "  return history, model"
      ],
      "metadata": {
        "id": "ZFkCxBg8Zq-p"
      },
      "execution_count": null,
      "outputs": []
    },
    {
      "cell_type": "code",
      "source": [
        "# Agregamos las capas\n",
        "model1 = models.Sequential()\n",
        "model1.add(layers.Conv2D(32, (3, 3), activation='relu', padding='same', input_shape=(32, 32, 3)))\n",
        "model1.add(layers.MaxPooling2D((2, 2)))\n",
        "model1.add(layers.Conv2D(64, (3, 3), padding='same', activation='relu'))\n",
        "model1.add(layers.Conv2D(64, (3, 3), padding='same', activation='relu'))\n",
        "model1.add(layers.MaxPooling2D((2, 2)))\n",
        "model1.add(layers.Conv2D(64, (3, 3), padding='same', activation='relu'))\n",
        "model1.add(layers.Conv2D(64, (3, 3), padding='same', activation='relu'))\n",
        "# model.add(layers.MaxPooling2D((2, 2)))\n",
        "model1.add(layers.Flatten())\n",
        "model1.add(layers.Dense(64))\n",
        "model1.add(layers.Dense(128))\n",
        "model1.add(layers.Dense(128))\n",
        "model1.add(layers.Dense(10))\n",
        "\n",
        "history1, model1 = ej1(model1)"
      ],
      "metadata": {
        "colab": {
          "base_uri": "https://localhost:8080/"
        },
        "id": "pYwkKwpUcavp",
        "outputId": "f5489e2c-0921-4939-e5d4-47afd50b3aae"
      },
      "execution_count": null,
      "outputs": [
        {
          "output_type": "stream",
          "name": "stdout",
          "text": [
            "Epoch 1/10\n",
            "1250/1250 [==============================] - 8s 6ms/step - loss: 1.5149 - accuracy: 0.4418 - val_loss: 1.1985 - val_accuracy: 0.5771\n",
            "Epoch 2/10\n",
            "1250/1250 [==============================] - 9s 7ms/step - loss: 1.1222 - accuracy: 0.6001 - val_loss: 1.0246 - val_accuracy: 0.6378\n",
            "Epoch 3/10\n",
            "1250/1250 [==============================] - 8s 6ms/step - loss: 0.9404 - accuracy: 0.6672 - val_loss: 0.9508 - val_accuracy: 0.6660\n",
            "Epoch 4/10\n",
            "1250/1250 [==============================] - 7s 6ms/step - loss: 0.8252 - accuracy: 0.7079 - val_loss: 0.9101 - val_accuracy: 0.6824\n",
            "Epoch 5/10\n",
            "1250/1250 [==============================] - 6s 5ms/step - loss: 0.7322 - accuracy: 0.7409 - val_loss: 0.8578 - val_accuracy: 0.6999\n",
            "Epoch 6/10\n",
            "1250/1250 [==============================] - 7s 6ms/step - loss: 0.6523 - accuracy: 0.7698 - val_loss: 0.9439 - val_accuracy: 0.6777\n",
            "Epoch 7/10\n",
            "1250/1250 [==============================] - 7s 5ms/step - loss: 0.5858 - accuracy: 0.7927 - val_loss: 0.8910 - val_accuracy: 0.7095\n",
            "Epoch 8/10\n",
            "1250/1250 [==============================] - 7s 5ms/step - loss: 0.5315 - accuracy: 0.8120 - val_loss: 0.9034 - val_accuracy: 0.7038\n",
            "Epoch 9/10\n",
            "1250/1250 [==============================] - 7s 5ms/step - loss: 0.4802 - accuracy: 0.8303 - val_loss: 0.9525 - val_accuracy: 0.6983\n",
            "Epoch 10/10\n",
            "1250/1250 [==============================] - 6s 5ms/step - loss: 0.4296 - accuracy: 0.8461 - val_loss: 0.9653 - val_accuracy: 0.7090\n"
          ]
        }
      ]
    },
    {
      "cell_type": "markdown",
      "source": [
        "### Resultados"
      ],
      "metadata": {
        "id": "_ZaDlKtbI51Z"
      }
    },
    {
      "cell_type": "code",
      "source": [
        "graficar_resultados(history1, model1, 'Ejercicio 1')\n"
      ],
      "metadata": {
        "colab": {
          "base_uri": "https://localhost:8080/",
          "height": 330
        },
        "id": "MGv4ms0fcdVj",
        "outputId": "e7d370b3-2dd4-4654-fbae-26699a9aed6b"
      },
      "execution_count": null,
      "outputs": [
        {
          "output_type": "display_data",
          "data": {
            "text/plain": [
              "<Figure size 432x288 with 1 Axes>"
            ],
            "image/png": "[encoded data removed]"
          },
          "metadata": {
            "needs_background": "light"
          }
        },
        {
          "output_type": "stream",
          "name": "stdout",
          "text": [
            "313/313 [==============================] - 1s 3ms/step - loss: 0.9999 - accuracy: 0.7081\n",
            "Test error en el modelo final: 0.29189997911453247\n"
          ]
        }
      ]
    },
    {
      "cell_type": "markdown",
      "source": [
        "### Conclusiones\n",
        "\n",
        "Se logró un error de test de aproximadamente 0.29, pero podemos ver en la gráfica que ya en las primeras épocas comienza a haber un claro overfitting. Es posible que el diseño de esta red no sea el más adecuado para resolver este problema."
      ],
      "metadata": {
        "id": "vRcZs4OSjIaB"
      }
    },
    {
      "cell_type": "markdown",
      "source": [
        "## Ejercicio 2"
      ],
      "metadata": {
        "id": "l4bOOx9Ck85a"
      }
    },
    {
      "cell_type": "code",
      "source": [
        "def ej2(models):\n",
        "  results = []\n",
        "  for model in models:\n",
        "\n",
        "    (train_images, train_labels), (test_images, test_labels) = datasets.cifar10.load_data()\n",
        "\n",
        "    # Normalizamos como lo hace el ejemplo del tutorial\n",
        "    train_images, test_images = train_images / 255.0, test_images / 255.0\n",
        "\n",
        "\n",
        "    # Separamos conjunto de validación\n",
        "    train_images, val_images, train_labels, val_labels = train_test_split(\n",
        "        train_images, train_labels, test_size=0.2, random_state=0\n",
        "    )\n",
        "\n",
        "    # Compilamos y entrenamos\n",
        "\n",
        "    model.compile(\n",
        "        optimizer='adam',\n",
        "        loss=tf.keras.losses.SparseCategoricalCrossentropy(from_logits=True),\n",
        "        metrics=['accuracy']\n",
        "    )\n",
        "\n",
        "    history = model.fit(\n",
        "        train_images, \n",
        "        train_labels, \n",
        "        epochs=20,\n",
        "        validation_data=(val_images, val_labels)\n",
        "    )\n",
        "\n",
        "    results.append((history, model))\n",
        "\n",
        "  return results"
      ],
      "metadata": {
        "id": "e10NeNCTk-lO"
      },
      "execution_count": 6,
      "outputs": []
    },
    {
      "cell_type": "code",
      "source": [
        "ms2 = []\n",
        "for p in [0.2, 0.5]:\n",
        "    # Agregamos las capas\n",
        "    model2 = models.Sequential()\n",
        "    model2.add(layers.Conv2D(32, (3, 3), activation='relu', padding='same', input_shape=(32, 32, 3)))\n",
        "    model2.add(layers.MaxPooling2D((2, 2)))\n",
        "    model2.add(layers.Conv2D(64, (3, 3), padding='same', activation='relu'))\n",
        "    model2.add(layers.Conv2D(64, (3, 3), padding='same', activation='relu'))\n",
        "    model2.add(layers.MaxPooling2D((2, 2)))\n",
        "    model2.add(layers.Conv2D(64, (3, 3), padding='same', activation='relu'))\n",
        "    model2.add(layers.Conv2D(64, (3, 3), padding='same', activation='relu'))\n",
        "    model2.add(layers.Dropout(p, input_shape=(32, 32, 3))) # Dropout\n",
        "    model2.add(layers.Flatten())\n",
        "    model2.add(layers.Dense(64))\n",
        "    model2.add(layers.Dropout(p, input_shape=(32, 32, 3))) # Dropout\n",
        "    model2.add(layers.Dense(128))\n",
        "    model2.add(layers.Dense(128))\n",
        "    model2.add(layers.Dense(10))\n",
        "\n",
        "    ms2.append(model2)\n",
        "\n",
        "results2 = ej2(ms2)"
      ],
      "metadata": {
        "id": "JMjg_GoamjJv",
        "outputId": "b4ac2d63-93f0-4429-ff03-4038db0e308d",
        "colab": {
          "base_uri": "https://localhost:8080/"
        }
      },
      "execution_count": 7,
      "outputs": [
        {
          "output_type": "stream",
          "name": "stdout",
          "text": [
            "Epoch 1/20\n",
            "1250/1250 [==============================] - 7s 5ms/step - loss: 1.5779 - accuracy: 0.4181 - val_loss: 1.2263 - val_accuracy: 0.5556\n",
            "Epoch 2/20\n",
            "1250/1250 [==============================] - 6s 5ms/step - loss: 1.1770 - accuracy: 0.5811 - val_loss: 1.0618 - val_accuracy: 0.6335\n",
            "Epoch 3/20\n",
            "1250/1250 [==============================] - 6s 5ms/step - loss: 1.0011 - accuracy: 0.6478 - val_loss: 0.9496 - val_accuracy: 0.6647\n",
            "Epoch 4/20\n",
            "1250/1250 [==============================] - 6s 5ms/step - loss: 0.8965 - accuracy: 0.6855 - val_loss: 1.0436 - val_accuracy: 0.6394\n",
            "Epoch 5/20\n",
            "1250/1250 [==============================] - 6s 5ms/step - loss: 0.8212 - accuracy: 0.7110 - val_loss: 0.9278 - val_accuracy: 0.6797\n",
            "Epoch 6/20\n",
            "1250/1250 [==============================] - 6s 5ms/step - loss: 0.7626 - accuracy: 0.7349 - val_loss: 0.8729 - val_accuracy: 0.6965\n",
            "Epoch 7/20\n",
            "1250/1250 [==============================] - 6s 5ms/step - loss: 0.7145 - accuracy: 0.7487 - val_loss: 0.8499 - val_accuracy: 0.7086\n",
            "Epoch 8/20\n",
            "1250/1250 [==============================] - 6s 5ms/step - loss: 0.6637 - accuracy: 0.7680 - val_loss: 0.8400 - val_accuracy: 0.7129\n",
            "Epoch 9/20\n",
            "1250/1250 [==============================] - 6s 5ms/step - loss: 0.6199 - accuracy: 0.7816 - val_loss: 0.8639 - val_accuracy: 0.7159\n",
            "Epoch 10/20\n",
            "1250/1250 [==============================] - 6s 5ms/step - loss: 0.5892 - accuracy: 0.7911 - val_loss: 0.8021 - val_accuracy: 0.7232\n",
            "Epoch 11/20\n",
            "1250/1250 [==============================] - 6s 5ms/step - loss: 0.5469 - accuracy: 0.8074 - val_loss: 0.8194 - val_accuracy: 0.7312\n",
            "Epoch 12/20\n",
            "1250/1250 [==============================] - 6s 5ms/step - loss: 0.5186 - accuracy: 0.8170 - val_loss: 0.8383 - val_accuracy: 0.7222\n",
            "Epoch 13/20\n",
            "1250/1250 [==============================] - 6s 5ms/step - loss: 0.5005 - accuracy: 0.8239 - val_loss: 0.8702 - val_accuracy: 0.7193\n",
            "Epoch 14/20\n",
            "1250/1250 [==============================] - 6s 5ms/step - loss: 0.4633 - accuracy: 0.8369 - val_loss: 0.8987 - val_accuracy: 0.7204\n",
            "Epoch 15/20\n",
            "1250/1250 [==============================] - 6s 5ms/step - loss: 0.4366 - accuracy: 0.8458 - val_loss: 0.8747 - val_accuracy: 0.7303\n",
            "Epoch 16/20\n",
            "1250/1250 [==============================] - 6s 5ms/step - loss: 0.4103 - accuracy: 0.8532 - val_loss: 0.9255 - val_accuracy: 0.7176\n",
            "Epoch 17/20\n",
            "1250/1250 [==============================] - 6s 5ms/step - loss: 0.3930 - accuracy: 0.8605 - val_loss: 0.9319 - val_accuracy: 0.7244\n",
            "Epoch 18/20\n",
            "1250/1250 [==============================] - 6s 5ms/step - loss: 0.3791 - accuracy: 0.8645 - val_loss: 0.9058 - val_accuracy: 0.7267\n",
            "Epoch 19/20\n",
            "1250/1250 [==============================] - 7s 5ms/step - loss: 0.3564 - accuracy: 0.8727 - val_loss: 0.9151 - val_accuracy: 0.7321\n",
            "Epoch 20/20\n",
            "1250/1250 [==============================] - 6s 5ms/step - loss: 0.3386 - accuracy: 0.8795 - val_loss: 1.0012 - val_accuracy: 0.7140\n",
            "Epoch 1/20\n",
            "1250/1250 [==============================] - 7s 5ms/step - loss: 1.6666 - accuracy: 0.3770 - val_loss: 1.3801 - val_accuracy: 0.4804\n",
            "Epoch 2/20\n",
            "1250/1250 [==============================] - 6s 5ms/step - loss: 1.3310 - accuracy: 0.5149 - val_loss: 1.1431 - val_accuracy: 0.5863\n",
            "Epoch 3/20\n",
            "1250/1250 [==============================] - 6s 5ms/step - loss: 1.1843 - accuracy: 0.5767 - val_loss: 1.1550 - val_accuracy: 0.5922\n",
            "Epoch 4/20\n",
            "1250/1250 [==============================] - 6s 5ms/step - loss: 1.0795 - accuracy: 0.6150 - val_loss: 0.9626 - val_accuracy: 0.6669\n",
            "Epoch 5/20\n",
            "1250/1250 [==============================] - 6s 5ms/step - loss: 1.0059 - accuracy: 0.6453 - val_loss: 0.9167 - val_accuracy: 0.6793\n",
            "Epoch 6/20\n",
            "1250/1250 [==============================] - 6s 5ms/step - loss: 0.9529 - accuracy: 0.6657 - val_loss: 0.9371 - val_accuracy: 0.6696\n",
            "Epoch 7/20\n",
            "1250/1250 [==============================] - 6s 5ms/step - loss: 0.8937 - accuracy: 0.6862 - val_loss: 0.8483 - val_accuracy: 0.7019\n",
            "Epoch 8/20\n",
            "1250/1250 [==============================] - 6s 5ms/step - loss: 0.8540 - accuracy: 0.7014 - val_loss: 0.9540 - val_accuracy: 0.6761\n",
            "Epoch 9/20\n",
            "1250/1250 [==============================] - 6s 5ms/step - loss: 0.8107 - accuracy: 0.7195 - val_loss: 0.8233 - val_accuracy: 0.7168\n",
            "Epoch 10/20\n",
            "1250/1250 [==============================] - 6s 5ms/step - loss: 0.7810 - accuracy: 0.7252 - val_loss: 0.8204 - val_accuracy: 0.7209\n",
            "Epoch 11/20\n",
            "1250/1250 [==============================] - 6s 5ms/step - loss: 0.7536 - accuracy: 0.7383 - val_loss: 0.8007 - val_accuracy: 0.7273\n",
            "Epoch 12/20\n",
            "1250/1250 [==============================] - 6s 5ms/step - loss: 0.7289 - accuracy: 0.7490 - val_loss: 0.7654 - val_accuracy: 0.7414\n",
            "Epoch 13/20\n",
            "1250/1250 [==============================] - 7s 6ms/step - loss: 0.7009 - accuracy: 0.7557 - val_loss: 0.7869 - val_accuracy: 0.7355\n",
            "Epoch 14/20\n",
            "1250/1250 [==============================] - 6s 5ms/step - loss: 0.6855 - accuracy: 0.7602 - val_loss: 0.8057 - val_accuracy: 0.7269\n",
            "Epoch 15/20\n",
            "1250/1250 [==============================] - 6s 5ms/step - loss: 0.6550 - accuracy: 0.7683 - val_loss: 0.7453 - val_accuracy: 0.7511\n",
            "Epoch 16/20\n",
            "1250/1250 [==============================] - 6s 5ms/step - loss: 0.6315 - accuracy: 0.7815 - val_loss: 0.7631 - val_accuracy: 0.7435\n",
            "Epoch 17/20\n",
            "1250/1250 [==============================] - 6s 5ms/step - loss: 0.6218 - accuracy: 0.7858 - val_loss: 0.7720 - val_accuracy: 0.7414\n",
            "Epoch 18/20\n",
            "1250/1250 [==============================] - 6s 5ms/step - loss: 0.5923 - accuracy: 0.7940 - val_loss: 0.7659 - val_accuracy: 0.7469\n",
            "Epoch 19/20\n",
            "1250/1250 [==============================] - 6s 5ms/step - loss: 0.5736 - accuracy: 0.7983 - val_loss: 0.7931 - val_accuracy: 0.7365\n",
            "Epoch 20/20\n",
            "1250/1250 [==============================] - 6s 5ms/step - loss: 0.5583 - accuracy: 0.8061 - val_loss: 0.8022 - val_accuracy: 0.7449\n"
          ]
        }
      ]
    },
    {
      "cell_type": "markdown",
      "source": [
        "### Resultados"
      ],
      "metadata": {
        "id": "dBSj19mCI8tr"
      }
    },
    {
      "cell_type": "code",
      "source": [
        "# p = 0.2\n",
        "\n",
        "history2a, model2a = results2[0]\n",
        "graficar_resultados(history2a, model2a, 'Ejercicio 2 - p = 0.2')\n",
        "\n",
        "history2b, model2b = results2[1]\n",
        "graficar_resultados(history2b, model2b, 'Ejercicio 2 - p = 0.5')\n",
        "\n"
      ],
      "metadata": {
        "id": "K6y-XMusmzGp",
        "outputId": "263fce7c-601f-4c9e-ad52-5e5087fa1a83",
        "colab": {
          "base_uri": "https://localhost:8080/",
          "height": 642
        }
      },
      "execution_count": 8,
      "outputs": [
        {
          "output_type": "display_data",
          "data": {
            "text/plain": [
              "<Figure size 432x288 with 1 Axes>"
            ],
            "image/png": "[encoded data removed]"
          },
          "metadata": {
            "needs_background": "light"
          }
        },
        {
          "output_type": "stream",
          "name": "stdout",
          "text": [
            "313/313 [==============================] - 1s 3ms/step - loss: 1.0416 - accuracy: 0.7102\n",
            "Test error en el modelo final: 0.2897999882698059\n"
          ]
        },
        {
          "output_type": "display_data",
          "data": {
            "text/plain": [
              "<Figure size 432x288 with 1 Axes>"
            ],
            "image/png": "[encoded data removed]"
          },
          "metadata": {
            "needs_background": "light"
          }
        },
        {
          "output_type": "stream",
          "name": "stdout",
          "text": [
            "313/313 [==============================] - 1s 3ms/step - loss: 0.8302 - accuracy: 0.7393\n",
            "Test error en el modelo final: 0.260699987411499\n"
          ]
        }
      ]
    },
    {
      "cell_type": "markdown",
      "source": [
        "### Conclusiones\n",
        "\n",
        "Podemos ver claramente que con p = 0.2 hay un claro overfitting mientras que con p = 0.5 se reduce drásticamente. Aún así, para p = 0.5, se puede ver al final, en las últimas épocas, que las curvas comienzan a diverger lentamente. Restaría probar entrenar nuevamente con más épocas para constatar si esto efectivamente sucede así. En conclusión, nos quedamos con el valor de p = 0.5 como el óptimo, ya que tiene mucho menos overfitting y el valor del error en test es un poco mejor (en aproximadamente un 2%)."
      ],
      "metadata": {
        "id": "MmA70vJ2S5Pk"
      }
    },
    {
      "cell_type": "markdown",
      "source": [
        "## Ejercicio 3"
      ],
      "metadata": {
        "id": "rHuaAKTITnwP"
      }
    },
    {
      "cell_type": "code",
      "source": [
        "def ej3(model):\n",
        "\n",
        "  (train_images, train_labels), (test_images, test_labels) = datasets.cifar10.load_data()\n",
        "\n",
        "  # Normalizamos como lo hace el ejemplo del tutorial\n",
        "  train_images, test_images = train_images / 255.0, test_images / 255.0\n",
        "\n",
        "\n",
        "  # Separamos conjunto de validación\n",
        "  train_images, val_images, train_labels, val_labels = train_test_split(\n",
        "      train_images, train_labels, test_size=0.2, random_state=0\n",
        "  )\n",
        "\n",
        "  # Compilamos y entrenamos\n",
        "\n",
        "  model.compile(\n",
        "      optimizer='adam',\n",
        "      loss=tf.keras.losses.SparseCategoricalCrossentropy(from_logits=True),\n",
        "      metrics=['accuracy']\n",
        "  )\n",
        "\n",
        "  history = model.fit(\n",
        "      train_images, \n",
        "      train_labels, \n",
        "      epochs=40,\n",
        "      validation_data=(val_images, val_labels)\n",
        "  )\n",
        "\n",
        "  return history, model"
      ],
      "metadata": {
        "id": "4HZODoLiTvSr"
      },
      "execution_count": 3,
      "outputs": []
    },
    {
      "cell_type": "code",
      "source": [
        "img_height = 32\n",
        "img_width = 32\n",
        "data_augmentation = keras.Sequential(\n",
        "    [\n",
        "          layers.RandomFlip(\"horizontal\", input_shape=(img_height, img_width, 3)),\n",
        "          layers.RandomRotation(0.1),\n",
        "          layers.RandomZoom(0.1),\n",
        "     ]\n",
        ")\n",
        "\n",
        "# Agregamos las capas\n",
        "model3 = models.Sequential()\n",
        "model3.add(data_augmentation)\n",
        "model3.add(layers.Conv2D(32, (3, 3), activation='relu', padding='same', input_shape=(32, 32, 3)))\n",
        "model3.add(layers.MaxPooling2D((2, 2)))\n",
        "model3.add(layers.Conv2D(64, (3, 3), padding='same', activation='relu'))\n",
        "model3.add(layers.Conv2D(64, (3, 3), padding='same', activation='relu'))\n",
        "model3.add(layers.MaxPooling2D((2, 2)))\n",
        "model3.add(layers.Conv2D(64, (3, 3), padding='same', activation='relu'))\n",
        "model3.add(layers.Conv2D(64, (3, 3), padding='same', activation='relu'))\n",
        "model3.add(layers.Dropout(0.5, input_shape=(32, 32, 3))) # Dropout\n",
        "model3.add(layers.MaxPooling2D((2, 2)))\n",
        "model3.add(layers.Flatten())\n",
        "model3.add(layers.Dense(64))\n",
        "model3.add(layers.Dropout(0.5, input_shape=(32, 32, 3))) # Dropout\n",
        "model3.add(layers.Dense(128))\n",
        "model3.add(layers.Dense(128))\n",
        "model3.add(layers.Dense(10))\n",
        "\n",
        "history3, mdl3 = ej3(model3)"
      ],
      "metadata": {
        "id": "e2RSjfFTUXYW",
        "outputId": "06bd02a3-96cf-475b-eeac-9eb80aa20a34",
        "colab": {
          "base_uri": "https://localhost:8080/"
        }
      },
      "execution_count": 4,
      "outputs": [
        {
          "output_type": "stream",
          "name": "stdout",
          "text": [
            "Downloading data from https://www.cs.toronto.edu/~kriz/cifar-10-python.tar.gz\n",
            "170500096/170498071 [==============================] - 3s 0us/step\n",
            "170508288/170498071 [==============================] - 3s 0us/step\n",
            "Epoch 1/40\n",
            "1250/1250 [==============================] - 20s 6ms/step - loss: 1.7921 - accuracy: 0.3355 - val_loss: 1.5239 - val_accuracy: 0.4605\n",
            "Epoch 2/40\n",
            "1250/1250 [==============================] - 7s 6ms/step - loss: 1.5457 - accuracy: 0.4341 - val_loss: 1.4319 - val_accuracy: 0.4962\n",
            "Epoch 3/40\n",
            "1250/1250 [==============================] - 7s 6ms/step - loss: 1.4591 - accuracy: 0.4699 - val_loss: 1.3395 - val_accuracy: 0.5312\n",
            "Epoch 4/40\n",
            "1250/1250 [==============================] - 8s 7ms/step - loss: 1.3939 - accuracy: 0.4959 - val_loss: 1.2389 - val_accuracy: 0.5650\n",
            "Epoch 5/40\n",
            "1250/1250 [==============================] - 8s 6ms/step - loss: 1.3492 - accuracy: 0.5167 - val_loss: 1.2261 - val_accuracy: 0.5809\n",
            "Epoch 6/40\n",
            "1250/1250 [==============================] - 7s 6ms/step - loss: 1.3137 - accuracy: 0.5303 - val_loss: 1.1745 - val_accuracy: 0.6069\n",
            "Epoch 7/40\n",
            "1250/1250 [==============================] - 8s 6ms/step - loss: 1.2755 - accuracy: 0.5468 - val_loss: 1.1176 - val_accuracy: 0.6352\n",
            "Epoch 8/40\n",
            "1250/1250 [==============================] - 8s 6ms/step - loss: 1.2479 - accuracy: 0.5574 - val_loss: 1.0934 - val_accuracy: 0.6336\n",
            "Epoch 9/40\n",
            "1250/1250 [==============================] - 7s 6ms/step - loss: 1.2233 - accuracy: 0.5703 - val_loss: 1.0880 - val_accuracy: 0.6256\n",
            "Epoch 10/40\n",
            "1250/1250 [==============================] - 8s 6ms/step - loss: 1.1990 - accuracy: 0.5759 - val_loss: 1.0285 - val_accuracy: 0.6551\n",
            "Epoch 11/40\n",
            "1250/1250 [==============================] - 7s 6ms/step - loss: 1.1777 - accuracy: 0.5866 - val_loss: 1.0540 - val_accuracy: 0.6419\n",
            "Epoch 12/40\n",
            "1250/1250 [==============================] - 7s 6ms/step - loss: 1.1653 - accuracy: 0.5881 - val_loss: 1.0388 - val_accuracy: 0.6585\n",
            "Epoch 13/40\n",
            "1250/1250 [==============================] - 8s 6ms/step - loss: 1.1451 - accuracy: 0.5991 - val_loss: 1.0575 - val_accuracy: 0.6504\n",
            "Epoch 14/40\n",
            "1250/1250 [==============================] - 7s 6ms/step - loss: 1.1283 - accuracy: 0.6064 - val_loss: 1.0704 - val_accuracy: 0.6453\n",
            "Epoch 15/40\n",
            "1250/1250 [==============================] - 8s 6ms/step - loss: 1.1107 - accuracy: 0.6113 - val_loss: 0.9883 - val_accuracy: 0.6660\n",
            "Epoch 16/40\n",
            "1250/1250 [==============================] - 7s 6ms/step - loss: 1.0999 - accuracy: 0.6166 - val_loss: 0.9936 - val_accuracy: 0.6630\n",
            "Epoch 17/40\n",
            "1250/1250 [==============================] - 7s 6ms/step - loss: 1.0857 - accuracy: 0.6238 - val_loss: 0.9702 - val_accuracy: 0.6696\n",
            "Epoch 18/40\n",
            "1250/1250 [==============================] - 8s 6ms/step - loss: 1.0769 - accuracy: 0.6238 - val_loss: 0.9860 - val_accuracy: 0.6728\n",
            "Epoch 19/40\n",
            "1250/1250 [==============================] - 7s 6ms/step - loss: 1.0606 - accuracy: 0.6329 - val_loss: 0.9047 - val_accuracy: 0.6953\n",
            "Epoch 20/40\n",
            "1250/1250 [==============================] - 7s 6ms/step - loss: 1.0543 - accuracy: 0.6331 - val_loss: 0.9129 - val_accuracy: 0.6981\n",
            "Epoch 21/40\n",
            "1250/1250 [==============================] - 7s 6ms/step - loss: 1.0413 - accuracy: 0.6382 - val_loss: 0.9541 - val_accuracy: 0.6807\n",
            "Epoch 22/40\n",
            "1250/1250 [==============================] - 7s 6ms/step - loss: 1.0344 - accuracy: 0.6426 - val_loss: 0.9187 - val_accuracy: 0.6870\n",
            "Epoch 23/40\n",
            "1250/1250 [==============================] - 7s 6ms/step - loss: 1.0300 - accuracy: 0.6461 - val_loss: 0.8965 - val_accuracy: 0.7033\n",
            "Epoch 24/40\n",
            "1250/1250 [==============================] - 8s 6ms/step - loss: 1.0101 - accuracy: 0.6485 - val_loss: 0.9494 - val_accuracy: 0.6761\n",
            "Epoch 25/40\n",
            "1250/1250 [==============================] - 8s 6ms/step - loss: 1.0120 - accuracy: 0.6477 - val_loss: 0.9159 - val_accuracy: 0.6935\n",
            "Epoch 26/40\n",
            "1250/1250 [==============================] - 7s 6ms/step - loss: 0.9966 - accuracy: 0.6567 - val_loss: 0.8782 - val_accuracy: 0.7026\n",
            "Epoch 27/40\n",
            "1250/1250 [==============================] - 7s 6ms/step - loss: 0.9882 - accuracy: 0.6608 - val_loss: 0.8644 - val_accuracy: 0.7143\n",
            "Epoch 28/40\n",
            "1250/1250 [==============================] - 7s 6ms/step - loss: 0.9855 - accuracy: 0.6596 - val_loss: 0.9867 - val_accuracy: 0.6569\n",
            "Epoch 29/40\n",
            "1250/1250 [==============================] - 7s 6ms/step - loss: 0.9783 - accuracy: 0.6633 - val_loss: 0.8880 - val_accuracy: 0.7051\n",
            "Epoch 30/40\n",
            "1250/1250 [==============================] - 7s 6ms/step - loss: 0.9688 - accuracy: 0.6658 - val_loss: 0.8550 - val_accuracy: 0.7119\n",
            "Epoch 31/40\n",
            "1250/1250 [==============================] - 8s 6ms/step - loss: 0.9651 - accuracy: 0.6664 - val_loss: 0.8488 - val_accuracy: 0.7151\n",
            "Epoch 32/40\n",
            "1250/1250 [==============================] - 8s 6ms/step - loss: 0.9531 - accuracy: 0.6726 - val_loss: 0.9651 - val_accuracy: 0.6671\n",
            "Epoch 33/40\n",
            "1250/1250 [==============================] - 7s 6ms/step - loss: 0.9482 - accuracy: 0.6708 - val_loss: 0.8824 - val_accuracy: 0.7003\n",
            "Epoch 34/40\n",
            "1250/1250 [==============================] - 8s 6ms/step - loss: 0.9414 - accuracy: 0.6764 - val_loss: 0.8166 - val_accuracy: 0.7253\n",
            "Epoch 35/40\n",
            "1250/1250 [==============================] - 8s 6ms/step - loss: 0.9451 - accuracy: 0.6754 - val_loss: 0.7960 - val_accuracy: 0.7306\n",
            "Epoch 36/40\n",
            "1250/1250 [==============================] - 8s 6ms/step - loss: 0.9279 - accuracy: 0.6831 - val_loss: 0.8179 - val_accuracy: 0.7229\n",
            "Epoch 37/40\n",
            "1250/1250 [==============================] - 8s 6ms/step - loss: 0.9285 - accuracy: 0.6806 - val_loss: 0.7811 - val_accuracy: 0.7397\n",
            "Epoch 38/40\n",
            "1250/1250 [==============================] - 7s 6ms/step - loss: 0.9191 - accuracy: 0.6839 - val_loss: 0.8406 - val_accuracy: 0.7100\n",
            "Epoch 39/40\n",
            "1250/1250 [==============================] - 8s 6ms/step - loss: 0.9209 - accuracy: 0.6863 - val_loss: 0.8268 - val_accuracy: 0.7207\n",
            "Epoch 40/40\n",
            "1250/1250 [==============================] - 8s 6ms/step - loss: 0.9117 - accuracy: 0.6865 - val_loss: 0.8095 - val_accuracy: 0.7233\n"
          ]
        }
      ]
    },
    {
      "cell_type": "markdown",
      "source": [
        "### Resultados"
      ],
      "metadata": {
        "id": "swvZBDp1I_Zr"
      }
    },
    {
      "cell_type": "code",
      "source": [
        "graficar_resultados(history3, mdl3, 'Ejercicio 3 - Data Augmentation')"
      ],
      "metadata": {
        "id": "YMCy_LydVr5w",
        "outputId": "aaed4b57-58f1-4e67-d391-ee300958fa61",
        "colab": {
          "base_uri": "https://localhost:8080/",
          "height": 330
        }
      },
      "execution_count": 5,
      "outputs": [
        {
          "output_type": "display_data",
          "data": {
            "text/plain": [
              "<Figure size 432x288 with 1 Axes>"
            ],
            "image/png": "[encoded data removed]"
          },
          "metadata": {
            "needs_background": "light"
          }
        },
        {
          "output_type": "stream",
          "name": "stdout",
          "text": [
            "313/313 [==============================] - 1s 3ms/step - loss: 0.8191 - accuracy: 0.7223\n",
            "Test error en el modelo final: 0.2777000069618225\n"
          ]
        }
      ]
    },
    {
      "cell_type": "markdown",
      "source": [
        "### Conclusiones\n",
        "\n",
        "Hay menos sobreajuste ya que en esta gráfica las curvas se ven más 'similares', más allá de que la curva de validación presenta más 'picos' que la de entrenamiento. Sin embargo, no se ven mejoras en el error. En el ejercicio anterior vimos un error del 0.26 en test y acá vemos un error de aproximadamente 0.31. Por lo que indica que la capa de data augmentation no funcionó muy bien para reducir el error, pero si para el overfitting.\n",
        "\n",
        "TODO: probar de usar 40 épocas en vez de 20"
      ],
      "metadata": {
        "id": "Jw1LspVLV6Wn"
      }
    },
    {
      "cell_type": "markdown",
      "source": [
        "## Ejercicio 4"
      ],
      "metadata": {
        "id": "AToxomKNIIOf"
      }
    },
    {
      "cell_type": "markdown",
      "source": [
        "### Ejercicio 1 mejorado"
      ],
      "metadata": {
        "id": "HWqy8nxdQT4u"
      }
    },
    {
      "cell_type": "code",
      "source": [
        "model = tf.keras.models.Sequential()\n",
        "model.add(layers.Conv2D(32, (3, 3), activation='relu', padding='same', input_shape=(32, 32, 3)))\n",
        "model.add(layers.Conv2D(32, (3, 3), activation='relu', padding='same', input_shape=(32, 32, 3)))\n",
        "model.add(layers.MaxPooling2D((2, 2)))\n",
        "model.add(layers.Conv2D(64, (3, 3), padding='same', activation='relu'))\n",
        "model.add(layers.Conv2D(64, (3, 3), padding='same', activation='relu'))\n",
        "model.add(layers.MaxPooling2D((2, 2)))\n",
        "model.add(layers.Conv2D(128, (3, 3), padding='same', activation='relu'))\n",
        "model.add(layers.Conv2D(128, (3, 3), padding='same', activation='relu'))\n",
        "# model.add(layers.MaxPooling2D((2, 2)))\n",
        "model.add(layers.Flatten())\n",
        "# model.add(layers.Dense(64))\n",
        "# model.add(layers.Dense(128))\n",
        "model.add(layers.Dense(128))\n",
        "model.add(layers.Dense(10))\n",
        "\n",
        "history, mdl = ej1(model)"
      ],
      "metadata": {
        "id": "TfwEX_s7V_Kw",
        "outputId": "a993fdd9-50c7-4acb-9e29-509ee1362861",
        "colab": {
          "base_uri": "https://localhost:8080/"
        }
      },
      "execution_count": null,
      "outputs": [
        {
          "output_type": "stream",
          "name": "stdout",
          "text": [
            "Epoch 1/10\n",
            "1250/1250 [==============================] - 8s 6ms/step - loss: 1.5183 - accuracy: 0.4457 - val_loss: 1.1825 - val_accuracy: 0.5829\n",
            "Epoch 2/10\n",
            "1250/1250 [==============================] - 8s 6ms/step - loss: 1.0334 - accuracy: 0.6346 - val_loss: 0.9254 - val_accuracy: 0.6721\n",
            "Epoch 3/10\n",
            "1250/1250 [==============================] - 7s 6ms/step - loss: 0.8446 - accuracy: 0.7009 - val_loss: 0.9284 - val_accuracy: 0.6781\n",
            "Epoch 4/10\n",
            "1250/1250 [==============================] - 7s 5ms/step - loss: 0.7234 - accuracy: 0.7468 - val_loss: 0.8003 - val_accuracy: 0.7204\n",
            "Epoch 5/10\n",
            "1250/1250 [==============================] - 7s 6ms/step - loss: 0.6360 - accuracy: 0.7753 - val_loss: 0.7753 - val_accuracy: 0.7273\n",
            "Epoch 6/10\n",
            "1250/1250 [==============================] - 7s 6ms/step - loss: 0.5519 - accuracy: 0.8053 - val_loss: 0.8334 - val_accuracy: 0.7139\n",
            "Epoch 7/10\n",
            "1250/1250 [==============================] - 8s 6ms/step - loss: 0.4814 - accuracy: 0.8284 - val_loss: 0.8851 - val_accuracy: 0.7177\n",
            "Epoch 8/10\n",
            "1250/1250 [==============================] - 8s 6ms/step - loss: 0.4204 - accuracy: 0.8505 - val_loss: 0.8776 - val_accuracy: 0.7230\n",
            "Epoch 9/10\n",
            "1250/1250 [==============================] - 7s 5ms/step - loss: 0.3660 - accuracy: 0.8693 - val_loss: 0.9790 - val_accuracy: 0.7268\n",
            "Epoch 10/10\n",
            "1250/1250 [==============================] - 7s 5ms/step - loss: 0.3158 - accuracy: 0.8880 - val_loss: 1.0022 - val_accuracy: 0.7250\n"
          ]
        }
      ]
    },
    {
      "cell_type": "markdown",
      "source": [
        "### Resultados - Ejercicio 1 Mejorado"
      ],
      "metadata": {
        "id": "bLm3WwNsJGln"
      }
    },
    {
      "cell_type": "code",
      "source": [
        "# Calculamos el error a partir del accuracy para poder graficar\n",
        "train_error = map(lambda x: 1 - x, history.history['accuracy'])\n",
        "val_error = map(lambda x: 1 - x,  history.history['val_accuracy'])\n",
        "\n",
        "# Graficamos\n",
        "plt.plot(list(train_error), label='Train Error')\n",
        "plt.plot(list(val_error), label = 'Val Error')\n",
        "plt.xlabel('Epoca')\n",
        "plt.ylabel('Error')\n",
        "plt.legend()\n",
        "plt.title('Ejercicio 1')\n",
        "plt.show()\n",
        "\n",
        "# Error de test\n",
        "\n",
        "(train_images, train_labels), (test_images, test_labels) = datasets.cifar10.load_data()\n",
        "\n",
        "# Normalize pixel values to be between 0 and 1\n",
        "train_images, test_images = train_images / 255.0, test_images / 255.0\n",
        "\n",
        "test_loss, test_acc = mdl.evaluate(test_images,  test_labels)\n",
        "print(f\"Test error en el modelo final {1 - test_acc}\")\n"
      ],
      "metadata": {
        "id": "FLz5wziXWIuC",
        "outputId": "f52156ce-f6ef-44dd-b4b3-08eb4c60c9b7",
        "colab": {
          "base_uri": "https://localhost:8080/",
          "height": 330
        }
      },
      "execution_count": null,
      "outputs": [
        {
          "output_type": "display_data",
          "data": {
            "text/plain": [
              "<Figure size 432x288 with 1 Axes>"
            ],
            "image/png": "[encoded data removed]"
          },
          "metadata": {
            "needs_background": "light"
          }
        },
        {
          "output_type": "stream",
          "name": "stdout",
          "text": [
            "313/313 [==============================] - 1s 4ms/step - loss: 1.0379 - accuracy: 0.7221\n",
            "Test error en el modelo final 0.27789998054504395\n"
          ]
        }
      ]
    },
    {
      "cell_type": "markdown",
      "source": [
        "### Ejercicio 2 mejorado"
      ],
      "metadata": {
        "id": "m-J7QNXwQmjg"
      }
    },
    {
      "cell_type": "code",
      "source": [
        "ms = []\n",
        "for p in [0.2, 0.5]:\n",
        "\n",
        "    model = tf.keras.models.Sequential()\n",
        "    model.add(layers.Conv2D(32, (3, 3), activation='relu', padding='same', input_shape=(32, 32, 3)))\n",
        "    model.add(layers.Conv2D(32, (3, 3), activation='relu', padding='same', input_shape=(32, 32, 3)))\n",
        "    model.add(layers.MaxPooling2D((2, 2)))\n",
        "    model.add(layers.Conv2D(64, (3, 3), padding='same', activation='relu'))\n",
        "    model.add(layers.Conv2D(64, (3, 3), padding='same', activation='relu'))\n",
        "    model.add(layers.MaxPooling2D((2, 2)))\n",
        "    model.add(layers.Conv2D(128, (3, 3), padding='same', activation='relu'))\n",
        "    model.add(layers.Conv2D(128, (3, 3), padding='same', activation='relu'))\n",
        "    model.add(layers.Dropout(p, input_shape=(32, 32, 3))) # Dropout\n",
        "    model.add(layers.Flatten())\n",
        "    model.add(layers.Dense(128))\n",
        "    model.add(layers.Dropout(p, input_shape=(32, 32, 3))) # Dropout\n",
        "    model.add(layers.Dense(10))\n",
        "\n",
        "    ms.append(model)\n",
        "\n",
        "modelos = ej2(ms)"
      ],
      "metadata": {
        "id": "o_ONAyJdQqCR",
        "outputId": "0ff2954a-b168-4948-efea-10eed1ac6483",
        "colab": {
          "base_uri": "https://localhost:8080/"
        }
      },
      "execution_count": null,
      "outputs": [
        {
          "output_type": "stream",
          "name": "stdout",
          "text": [
            "Epoch 1/20\n",
            "1250/1250 [==============================] - 8s 6ms/step - loss: 1.5102 - accuracy: 0.4458 - val_loss: 1.1353 - val_accuracy: 0.6012\n",
            "Epoch 2/20\n",
            "1250/1250 [==============================] - 7s 6ms/step - loss: 1.0442 - accuracy: 0.6317 - val_loss: 1.0516 - val_accuracy: 0.6324\n",
            "Epoch 3/20\n",
            "1250/1250 [==============================] - 7s 6ms/step - loss: 0.8683 - accuracy: 0.6941 - val_loss: 0.9163 - val_accuracy: 0.6766\n",
            "Epoch 4/20\n",
            "1250/1250 [==============================] - 7s 6ms/step - loss: 0.7493 - accuracy: 0.7365 - val_loss: 0.7962 - val_accuracy: 0.7253\n",
            "Epoch 5/20\n",
            "1250/1250 [==============================] - 7s 6ms/step - loss: 0.6624 - accuracy: 0.7678 - val_loss: 0.8016 - val_accuracy: 0.7207\n",
            "Epoch 6/20\n",
            "1250/1250 [==============================] - 10s 8ms/step - loss: 0.5904 - accuracy: 0.7918 - val_loss: 0.7855 - val_accuracy: 0.7389\n",
            "Epoch 7/20\n",
            "1250/1250 [==============================] - 8s 6ms/step - loss: 0.5261 - accuracy: 0.8131 - val_loss: 0.7898 - val_accuracy: 0.7342\n",
            "Epoch 8/20\n",
            "1250/1250 [==============================] - 8s 6ms/step - loss: 0.4758 - accuracy: 0.8307 - val_loss: 0.7704 - val_accuracy: 0.7554\n",
            "Epoch 9/20\n",
            "1250/1250 [==============================] - 7s 6ms/step - loss: 0.4367 - accuracy: 0.8439 - val_loss: 0.7755 - val_accuracy: 0.7463\n",
            "Epoch 10/20\n",
            "1250/1250 [==============================] - 7s 6ms/step - loss: 0.3967 - accuracy: 0.8609 - val_loss: 0.8626 - val_accuracy: 0.7381\n",
            "Epoch 11/20\n",
            "1250/1250 [==============================] - 8s 6ms/step - loss: 0.3593 - accuracy: 0.8724 - val_loss: 0.8428 - val_accuracy: 0.7542\n",
            "Epoch 12/20\n",
            "1250/1250 [==============================] - 7s 5ms/step - loss: 0.3375 - accuracy: 0.8825 - val_loss: 0.8737 - val_accuracy: 0.7532\n",
            "Epoch 13/20\n",
            "1250/1250 [==============================] - 7s 6ms/step - loss: 0.3035 - accuracy: 0.8924 - val_loss: 1.0499 - val_accuracy: 0.7346\n",
            "Epoch 14/20\n",
            "1250/1250 [==============================] - 7s 6ms/step - loss: 0.2852 - accuracy: 0.8966 - val_loss: 0.9680 - val_accuracy: 0.7514\n",
            "Epoch 15/20\n",
            "1250/1250 [==============================] - 7s 5ms/step - loss: 0.2706 - accuracy: 0.9046 - val_loss: 0.9843 - val_accuracy: 0.7548\n",
            "Epoch 16/20\n",
            "1250/1250 [==============================] - 7s 5ms/step - loss: 0.2520 - accuracy: 0.9111 - val_loss: 0.9740 - val_accuracy: 0.7525\n",
            "Epoch 17/20\n",
            "1250/1250 [==============================] - 7s 6ms/step - loss: 0.2408 - accuracy: 0.9155 - val_loss: 1.0329 - val_accuracy: 0.7442\n",
            "Epoch 18/20\n",
            "1250/1250 [==============================] - 7s 6ms/step - loss: 0.2329 - accuracy: 0.9184 - val_loss: 1.0833 - val_accuracy: 0.7439\n",
            "Epoch 19/20\n",
            "1250/1250 [==============================] - 8s 7ms/step - loss: 0.2263 - accuracy: 0.9225 - val_loss: 1.0545 - val_accuracy: 0.7469\n",
            "Epoch 20/20\n",
            "1250/1250 [==============================] - 7s 6ms/step - loss: 0.2169 - accuracy: 0.9238 - val_loss: 1.0806 - val_accuracy: 0.7437\n",
            "Epoch 1/20\n",
            "1250/1250 [==============================] - 9s 6ms/step - loss: 1.6285 - accuracy: 0.3966 - val_loss: 1.2786 - val_accuracy: 0.5391\n",
            "Epoch 2/20\n",
            "1250/1250 [==============================] - 7s 6ms/step - loss: 1.1949 - accuracy: 0.5756 - val_loss: 1.0293 - val_accuracy: 0.6328\n",
            "Epoch 3/20\n",
            "1250/1250 [==============================] - 7s 6ms/step - loss: 1.0104 - accuracy: 0.6461 - val_loss: 0.8730 - val_accuracy: 0.6909\n",
            "Epoch 4/20\n",
            "1250/1250 [==============================] - 8s 6ms/step - loss: 0.8874 - accuracy: 0.6902 - val_loss: 0.8358 - val_accuracy: 0.7035\n",
            "Epoch 5/20\n",
            "1250/1250 [==============================] - 7s 6ms/step - loss: 0.8149 - accuracy: 0.7172 - val_loss: 0.8095 - val_accuracy: 0.7161\n",
            "Epoch 6/20\n",
            "1250/1250 [==============================] - 7s 6ms/step - loss: 0.7532 - accuracy: 0.7396 - val_loss: 0.7369 - val_accuracy: 0.7435\n",
            "Epoch 7/20\n",
            "1250/1250 [==============================] - 7s 6ms/step - loss: 0.7060 - accuracy: 0.7549 - val_loss: 0.7401 - val_accuracy: 0.7458\n",
            "Epoch 8/20\n",
            "1250/1250 [==============================] - 7s 6ms/step - loss: 0.6636 - accuracy: 0.7713 - val_loss: 0.7150 - val_accuracy: 0.7559\n",
            "Epoch 9/20\n",
            "1250/1250 [==============================] - 7s 6ms/step - loss: 0.6203 - accuracy: 0.7862 - val_loss: 0.7281 - val_accuracy: 0.7534\n",
            "Epoch 10/20\n",
            "1250/1250 [==============================] - 7s 6ms/step - loss: 0.5916 - accuracy: 0.7934 - val_loss: 0.6724 - val_accuracy: 0.7732\n",
            "Epoch 11/20\n",
            "1250/1250 [==============================] - 7s 6ms/step - loss: 0.5743 - accuracy: 0.8001 - val_loss: 0.7022 - val_accuracy: 0.7645\n",
            "Epoch 12/20\n",
            "1250/1250 [==============================] - 8s 6ms/step - loss: 0.5379 - accuracy: 0.8122 - val_loss: 0.7204 - val_accuracy: 0.7616\n",
            "Epoch 13/20\n",
            "1250/1250 [==============================] - 7s 6ms/step - loss: 0.5131 - accuracy: 0.8223 - val_loss: 0.7194 - val_accuracy: 0.7654\n",
            "Epoch 14/20\n",
            "1250/1250 [==============================] - 7s 6ms/step - loss: 0.4986 - accuracy: 0.8259 - val_loss: 0.6761 - val_accuracy: 0.7767\n",
            "Epoch 15/20\n",
            "1250/1250 [==============================] - 7s 6ms/step - loss: 0.4707 - accuracy: 0.8360 - val_loss: 0.7302 - val_accuracy: 0.7623\n",
            "Epoch 16/20\n",
            "1250/1250 [==============================] - 7s 6ms/step - loss: 0.4581 - accuracy: 0.8389 - val_loss: 0.7691 - val_accuracy: 0.7626\n",
            "Epoch 17/20\n",
            "1250/1250 [==============================] - 8s 6ms/step - loss: 0.4383 - accuracy: 0.8479 - val_loss: 0.6886 - val_accuracy: 0.7771\n",
            "Epoch 18/20\n",
            "1250/1250 [==============================] - 7s 5ms/step - loss: 0.4312 - accuracy: 0.8514 - val_loss: 0.7211 - val_accuracy: 0.7707\n",
            "Epoch 19/20\n",
            "1250/1250 [==============================] - 7s 6ms/step - loss: 0.4157 - accuracy: 0.8559 - val_loss: 0.7487 - val_accuracy: 0.7645\n",
            "Epoch 20/20\n",
            "1250/1250 [==============================] - 7s 6ms/step - loss: 0.4089 - accuracy: 0.8561 - val_loss: 0.7600 - val_accuracy: 0.7716\n"
          ]
        }
      ]
    },
    {
      "cell_type": "markdown",
      "source": [
        "### Resultados - Ejercicio 2 Mejorado"
      ],
      "metadata": {
        "id": "mvn293lBSTnI"
      }
    },
    {
      "cell_type": "code",
      "source": [
        "graficar_resultados(history, modelos[0], 'Ejercicio 2 (mejorado) - Dropout')\n"
      ],
      "metadata": {
        "id": "lfctGVTRSZUG",
        "outputId": "0fb2faa2-a17a-4411-8539-8214823817d3",
        "colab": {
          "base_uri": "https://localhost:8080/",
          "height": 330
        }
      },
      "execution_count": null,
      "outputs": [
        {
          "output_type": "display_data",
          "data": {
            "text/plain": [
              "<Figure size 432x288 with 1 Axes>"
            ],
            "image/png": "[encoded data removed]"
          },
          "metadata": {
            "needs_background": "light"
          }
        },
        {
          "output_type": "stream",
          "name": "stdout",
          "text": [
            "313/313 [==============================] - 1s 4ms/step - loss: 1.1525 - accuracy: 0.7387\n",
            "Test error en el modelo final para p = 0.2: 0.2613000273704529\n"
          ]
        }
      ]
    },
    {
      "cell_type": "code",
      "source": [
        "graficar_resultados(history, modelos[1], 'Ejercicio 2 (mejorado) - Dropout')\n"
      ],
      "metadata": {
        "id": "AgNUyFjtS5ni",
        "outputId": "72063908-0c28-4acc-caf8-024a7ce48cc9",
        "colab": {
          "base_uri": "https://localhost:8080/",
          "height": 330
        }
      },
      "execution_count": null,
      "outputs": [
        {
          "output_type": "display_data",
          "data": {
            "text/plain": [
              "<Figure size 432x288 with 1 Axes>"
            ],
            "image/png": "[encoded data removed]"
          },
          "metadata": {
            "needs_background": "light"
          }
        },
        {
          "output_type": "stream",
          "name": "stdout",
          "text": [
            "313/313 [==============================] - 1s 4ms/step - loss: 0.8133 - accuracy: 0.7678\n",
            "Test error en el modelo final para p = 0.5: 0.232200026512146\n"
          ]
        }
      ]
    },
    {
      "cell_type": "markdown",
      "source": [
        "### Ejercicio 3 mejorado"
      ],
      "metadata": {
        "id": "CXpjBQiEUsah"
      }
    },
    {
      "cell_type": "code",
      "source": [
        "img_height = 32\n",
        "img_width = 32\n",
        "data_augmentation = keras.Sequential(\n",
        "    [\n",
        "          layers.RandomFlip(\"horizontal\", input_shape=(img_height, img_width, 3)),\n",
        "          layers.RandomRotation(0.1),\n",
        "          layers.RandomZoom(0.1),\n",
        "     ]\n",
        ")\n",
        "\n",
        "# Agregamos las capas\n",
        "model = tf.keras.models.Sequential()\n",
        "model.add(data_augmentation)\n",
        "model = tf.keras.models.Sequential()\n",
        "model.add(layers.Conv2D(32, (3, 3), activation='relu', padding='same', input_shape=(32, 32, 3)))\n",
        "model.add(layers.Conv2D(32, (3, 3), activation='relu', padding='same', input_shape=(32, 32, 3)))\n",
        "model.add(layers.MaxPooling2D((2, 2)))\n",
        "model.add(layers.Conv2D(64, (3, 3), padding='same', activation='relu'))\n",
        "model.add(layers.Conv2D(64, (3, 3), padding='same', activation='relu'))\n",
        "model.add(layers.MaxPooling2D((2, 2)))\n",
        "model.add(layers.Conv2D(128, (3, 3), padding='same', activation='relu'))\n",
        "model.add(layers.Conv2D(128, (3, 3), padding='same', activation='relu'))\n",
        "model.add(layers.Dropout(0.5, input_shape=(32, 32, 3))) # Dropout\n",
        "model.add(layers.Flatten())\n",
        "model.add(layers.Dense(128))\n",
        "model.add(layers.Dropout(0.5, input_shape=(32, 32, 3))) # Dropout\n",
        "model.add(layers.Dense(10))\n",
        "\n",
        "history, model = ej3(model)"
      ],
      "metadata": {
        "id": "E7hoMrgXU2VW",
        "outputId": "371b19b7-d485-47f4-94a7-79ef2ad75cdd",
        "colab": {
          "base_uri": "https://localhost:8080/"
        }
      },
      "execution_count": 9,
      "outputs": [
        {
          "output_type": "stream",
          "name": "stdout",
          "text": [
            "Epoch 1/40\n",
            "1250/1250 [==============================] - 8s 6ms/step - loss: 1.6216 - accuracy: 0.4008 - val_loss: 1.2125 - val_accuracy: 0.5661\n",
            "Epoch 2/40\n",
            "1250/1250 [==============================] - 7s 5ms/step - loss: 1.1714 - accuracy: 0.5835 - val_loss: 1.0758 - val_accuracy: 0.6210\n",
            "Epoch 3/40\n",
            "1250/1250 [==============================] - 7s 5ms/step - loss: 1.0110 - accuracy: 0.6453 - val_loss: 0.9265 - val_accuracy: 0.6779\n",
            "Epoch 4/40\n",
            "1250/1250 [==============================] - 7s 5ms/step - loss: 0.9052 - accuracy: 0.6831 - val_loss: 0.8262 - val_accuracy: 0.7101\n",
            "Epoch 5/40\n",
            "1250/1250 [==============================] - 7s 5ms/step - loss: 0.8246 - accuracy: 0.7112 - val_loss: 0.8258 - val_accuracy: 0.7119\n",
            "Epoch 6/40\n",
            "1250/1250 [==============================] - 7s 6ms/step - loss: 0.7671 - accuracy: 0.7319 - val_loss: 0.7596 - val_accuracy: 0.7357\n",
            "Epoch 7/40\n",
            "1250/1250 [==============================] - 7s 6ms/step - loss: 0.7142 - accuracy: 0.7513 - val_loss: 0.7891 - val_accuracy: 0.7324\n",
            "Epoch 8/40\n",
            "1250/1250 [==============================] - 7s 6ms/step - loss: 0.6787 - accuracy: 0.7635 - val_loss: 0.7614 - val_accuracy: 0.7403\n",
            "Epoch 9/40\n",
            "1250/1250 [==============================] - 7s 5ms/step - loss: 0.6384 - accuracy: 0.7786 - val_loss: 0.7126 - val_accuracy: 0.7563\n",
            "Epoch 10/40\n",
            "1250/1250 [==============================] - 7s 5ms/step - loss: 0.5975 - accuracy: 0.7906 - val_loss: 0.7197 - val_accuracy: 0.7577\n",
            "Epoch 11/40\n",
            "1250/1250 [==============================] - 7s 6ms/step - loss: 0.5776 - accuracy: 0.7980 - val_loss: 0.7401 - val_accuracy: 0.7572\n",
            "Epoch 12/40\n",
            "1250/1250 [==============================] - 7s 5ms/step - loss: 0.5589 - accuracy: 0.8046 - val_loss: 0.7116 - val_accuracy: 0.7634\n",
            "Epoch 13/40\n",
            "1250/1250 [==============================] - 7s 6ms/step - loss: 0.5293 - accuracy: 0.8161 - val_loss: 0.7095 - val_accuracy: 0.7649\n",
            "Epoch 14/40\n",
            "1250/1250 [==============================] - 7s 5ms/step - loss: 0.5074 - accuracy: 0.8241 - val_loss: 0.7295 - val_accuracy: 0.7619\n",
            "Epoch 15/40\n",
            "1250/1250 [==============================] - 7s 5ms/step - loss: 0.4915 - accuracy: 0.8262 - val_loss: 0.7382 - val_accuracy: 0.7636\n",
            "Epoch 16/40\n",
            "1250/1250 [==============================] - 7s 6ms/step - loss: 0.4669 - accuracy: 0.8376 - val_loss: 0.7290 - val_accuracy: 0.7678\n",
            "Epoch 17/40\n",
            "1250/1250 [==============================] - 7s 5ms/step - loss: 0.4533 - accuracy: 0.8422 - val_loss: 0.7437 - val_accuracy: 0.7663\n",
            "Epoch 18/40\n",
            "1250/1250 [==============================] - 7s 6ms/step - loss: 0.4351 - accuracy: 0.8470 - val_loss: 0.7403 - val_accuracy: 0.7680\n",
            "Epoch 19/40\n",
            "1250/1250 [==============================] - 7s 5ms/step - loss: 0.4232 - accuracy: 0.8525 - val_loss: 0.8195 - val_accuracy: 0.7480\n",
            "Epoch 20/40\n",
            "1250/1250 [==============================] - 7s 5ms/step - loss: 0.4147 - accuracy: 0.8544 - val_loss: 0.7925 - val_accuracy: 0.7658\n",
            "Epoch 21/40\n",
            "1250/1250 [==============================] - 7s 6ms/step - loss: 0.3972 - accuracy: 0.8615 - val_loss: 0.7986 - val_accuracy: 0.7568\n",
            "Epoch 22/40\n",
            "1250/1250 [==============================] - 7s 5ms/step - loss: 0.3898 - accuracy: 0.8638 - val_loss: 0.7646 - val_accuracy: 0.7706\n",
            "Epoch 23/40\n",
            "1250/1250 [==============================] - 7s 5ms/step - loss: 0.3747 - accuracy: 0.8710 - val_loss: 0.7695 - val_accuracy: 0.7680\n",
            "Epoch 24/40\n",
            "1250/1250 [==============================] - 7s 5ms/step - loss: 0.3759 - accuracy: 0.8675 - val_loss: 0.8456 - val_accuracy: 0.7639\n",
            "Epoch 25/40\n",
            "1250/1250 [==============================] - 7s 5ms/step - loss: 0.3640 - accuracy: 0.8742 - val_loss: 0.8118 - val_accuracy: 0.7575\n",
            "Epoch 26/40\n",
            "1250/1250 [==============================] - 7s 6ms/step - loss: 0.3642 - accuracy: 0.8735 - val_loss: 0.7716 - val_accuracy: 0.7735\n",
            "Epoch 27/40\n",
            "1250/1250 [==============================] - 7s 6ms/step - loss: 0.3437 - accuracy: 0.8802 - val_loss: 0.8968 - val_accuracy: 0.7598\n",
            "Epoch 28/40\n",
            "1250/1250 [==============================] - 7s 6ms/step - loss: 0.3417 - accuracy: 0.8810 - val_loss: 0.7832 - val_accuracy: 0.7750\n",
            "Epoch 29/40\n",
            "1250/1250 [==============================] - 7s 6ms/step - loss: 0.3347 - accuracy: 0.8855 - val_loss: 0.8095 - val_accuracy: 0.7764\n",
            "Epoch 30/40\n",
            "1250/1250 [==============================] - 7s 5ms/step - loss: 0.3405 - accuracy: 0.8828 - val_loss: 0.8379 - val_accuracy: 0.7738\n",
            "Epoch 31/40\n",
            "1250/1250 [==============================] - 7s 5ms/step - loss: 0.3316 - accuracy: 0.8849 - val_loss: 0.8297 - val_accuracy: 0.7644\n",
            "Epoch 32/40\n",
            "1250/1250 [==============================] - 7s 5ms/step - loss: 0.3213 - accuracy: 0.8885 - val_loss: 0.8842 - val_accuracy: 0.7703\n",
            "Epoch 33/40\n",
            "1250/1250 [==============================] - 7s 6ms/step - loss: 0.3248 - accuracy: 0.8900 - val_loss: 0.8601 - val_accuracy: 0.7657\n",
            "Epoch 34/40\n",
            "1250/1250 [==============================] - 7s 6ms/step - loss: 0.3206 - accuracy: 0.8917 - val_loss: 0.8508 - val_accuracy: 0.7704\n",
            "Epoch 35/40\n",
            "1250/1250 [==============================] - 7s 6ms/step - loss: 0.3186 - accuracy: 0.8905 - val_loss: 0.8627 - val_accuracy: 0.7623\n",
            "Epoch 36/40\n",
            "1250/1250 [==============================] - 7s 6ms/step - loss: 0.3166 - accuracy: 0.8924 - val_loss: 0.8779 - val_accuracy: 0.7629\n",
            "Epoch 37/40\n",
            "1250/1250 [==============================] - 7s 6ms/step - loss: 0.3130 - accuracy: 0.8964 - val_loss: 0.9586 - val_accuracy: 0.7559\n",
            "Epoch 38/40\n",
            "1250/1250 [==============================] - 7s 5ms/step - loss: 0.3164 - accuracy: 0.8938 - val_loss: 0.9297 - val_accuracy: 0.7723\n",
            "Epoch 39/40\n",
            "1250/1250 [==============================] - 7s 6ms/step - loss: 0.3050 - accuracy: 0.8968 - val_loss: 0.8455 - val_accuracy: 0.7768\n",
            "Epoch 40/40\n",
            "1250/1250 [==============================] - 7s 5ms/step - loss: 0.2996 - accuracy: 0.8994 - val_loss: 0.8575 - val_accuracy: 0.7714\n"
          ]
        }
      ]
    },
    {
      "cell_type": "markdown",
      "source": [
        "### Resultados - Ejercicio 3 mejorado"
      ],
      "metadata": {
        "id": "RW5fHpJ5UvpL"
      }
    },
    {
      "cell_type": "code",
      "source": [
        "graficar_resultados(history, model, 'Ejercicio 3 (mejorado) - Data Augmentation')"
      ],
      "metadata": {
        "id": "EExmJ_ChV8og",
        "outputId": "ccf5d8f7-9a88-4983-c658-89735daae0f6",
        "colab": {
          "base_uri": "https://localhost:8080/",
          "height": 330
        }
      },
      "execution_count": 10,
      "outputs": [
        {
          "output_type": "display_data",
          "data": {
            "text/plain": [
              "<Figure size 432x288 with 1 Axes>"
            ],
            "image/png": "[encoded data removed]"
          },
          "metadata": {
            "needs_background": "light"
          }
        },
        {
          "output_type": "stream",
          "name": "stdout",
          "text": [
            "313/313 [==============================] - 1s 4ms/step - loss: 0.9131 - accuracy: 0.7676\n",
            "Test error en el modelo final: 0.23240000009536743\n"
          ]
        }
      ]
    },
    {
      "cell_type": "markdown",
      "source": [
        "### Conclusiones"
      ],
      "metadata": {
        "id": "1c2MJRRrJIEd"
      }
    },
    {
      "cell_type": "markdown",
      "source": [
        "se pudooooooooooooooooooooooooooooooooooooo"
      ],
      "metadata": {
        "id": "F3Hm5ZL9LoQs"
      }
    },
    {
      "cell_type": "markdown",
      "source": [
        "## Ejercicio 5"
      ],
      "metadata": {
        "id": "B3wzJOiGIObn"
      }
    },
    {
      "cell_type": "code",
      "source": [
        "def ej5():\n",
        "  img_height = 32\n",
        "  img_width = 32\n",
        "  data_augmentation = keras.Sequential(\n",
        "      [\n",
        "            layers.RandomFlip(\"horizontal\", input_shape=(img_height, img_width, 3)),\n",
        "            layers.RandomRotation(0.1),\n",
        "            layers.RandomZoom(0.1),\n",
        "            layers.RandomContrast(0.1),\n",
        "            # tf.keras.layers.RandomBrightness(0.3),\n",
        "      ]\n",
        "  )\n",
        "\n",
        "  # Agregamos las capas\n",
        "  model = models.Sequential()\n",
        "  model.add(data_augmentation)\n",
        "  model.add(layers.Conv2D(32, (3, 3), activation='relu', padding='same', input_shape=(32, 32, 3)))\n",
        "  model.add(layers.MaxPooling2D((2, 2)))\n",
        "  model.add(layers.Conv2D(64, (3, 3), padding='same', activation='relu'))\n",
        "  model.add(layers.Conv2D(64, (3, 3), padding='same', activation='relu'))\n",
        "  model.add(layers.MaxPooling2D((2, 2)))\n",
        "  model.add(layers.Conv2D(64, (3, 3), padding='same', activation='relu'))\n",
        "  model.add(layers.Conv2D(64, (3, 3), padding='same', activation='relu'))\n",
        "  model.add(layers.Dropout(0.5, input_shape=(32, 32, 3))) # Dropout\n",
        "  model.add(layers.MaxPooling2D((2, 2)))\n",
        "  model.add(layers.Flatten())\n",
        "  model.add(layers.Dense(64))\n",
        "  model.add(layers.Dropout(0.5, input_shape=(32, 32, 3))) # Dropout\n",
        "  model.add(layers.Dense(128))\n",
        "  model.add(layers.Dense(128))\n",
        "  model.add(layers.Dense(10))\n",
        "\n",
        "  (train_images, train_labels), (test_images, test_labels) = datasets.cifar10.load_data()\n",
        "\n",
        "  # Normalizamos como lo hace el ejemplo del tutorial\n",
        "  train_images, test_images = train_images / 255.0, test_images / 255.0\n",
        "\n",
        "\n",
        "  # Separamos conjunto de validación\n",
        "  train_images, val_images, train_labels, val_labels = train_test_split(\n",
        "      train_images, train_labels, test_size=0.2, random_state=0\n",
        "  )\n",
        "\n",
        "  # Compilamos y entrenamos\n",
        "\n",
        "  model.compile(\n",
        "      optimizer='adam',\n",
        "      loss=tf.keras.losses.SparseCategoricalCrossentropy(from_logits=True),\n",
        "      metrics=['accuracy']\n",
        "  )\n",
        "\n",
        "  history = model.fit(\n",
        "      train_images, \n",
        "      train_labels, \n",
        "      epochs=20,\n",
        "      validation_data=(val_images, val_labels)\n",
        "  )\n",
        "\n",
        "  return history, model"
      ],
      "metadata": {
        "id": "_-ZweFSLIRB8"
      },
      "execution_count": null,
      "outputs": []
    },
    {
      "cell_type": "code",
      "source": [
        "history, model = ej5()"
      ],
      "metadata": {
        "colab": {
          "base_uri": "https://localhost:8080/"
        },
        "id": "TYxgNzXxIys3",
        "outputId": "4ca949b0-b23a-43d8-ed28-14619e1ebb47"
      },
      "execution_count": null,
      "outputs": [
        {
          "output_type": "stream",
          "name": "stdout",
          "text": [
            "Epoch 1/20\n",
            "1250/1250 [==============================] - 9s 6ms/step - loss: 1.7764 - accuracy: 0.3418 - val_loss: 1.4822 - val_accuracy: 0.4618\n",
            "Epoch 2/20\n",
            "1250/1250 [==============================] - 8s 6ms/step - loss: 1.5344 - accuracy: 0.4363 - val_loss: 1.4583 - val_accuracy: 0.4653\n",
            "Epoch 3/20\n",
            "1250/1250 [==============================] - 7s 6ms/step - loss: 1.4411 - accuracy: 0.4726 - val_loss: 1.2984 - val_accuracy: 0.5314\n",
            "Epoch 4/20\n",
            "1250/1250 [==============================] - 7s 6ms/step - loss: 1.3758 - accuracy: 0.5049 - val_loss: 1.2013 - val_accuracy: 0.5688\n",
            "Epoch 5/20\n",
            "1250/1250 [==============================] - 8s 6ms/step - loss: 1.3260 - accuracy: 0.5282 - val_loss: 1.2007 - val_accuracy: 0.5901\n",
            "Epoch 6/20\n",
            "1250/1250 [==============================] - 7s 6ms/step - loss: 1.2855 - accuracy: 0.5442 - val_loss: 1.1387 - val_accuracy: 0.6022\n",
            "Epoch 7/20\n",
            "1250/1250 [==============================] - 7s 6ms/step - loss: 1.2549 - accuracy: 0.5530 - val_loss: 1.1166 - val_accuracy: 0.6122\n",
            "Epoch 8/20\n",
            "1250/1250 [==============================] - 7s 6ms/step - loss: 1.2213 - accuracy: 0.5692 - val_loss: 1.1353 - val_accuracy: 0.6193\n",
            "Epoch 9/20\n",
            "1250/1250 [==============================] - 7s 6ms/step - loss: 1.1954 - accuracy: 0.5772 - val_loss: 1.0513 - val_accuracy: 0.6374\n",
            "Epoch 10/20\n",
            "1250/1250 [==============================] - 8s 6ms/step - loss: 1.1704 - accuracy: 0.5878 - val_loss: 1.0293 - val_accuracy: 0.6502\n",
            "Epoch 11/20\n",
            "1250/1250 [==============================] - 8s 6ms/step - loss: 1.1531 - accuracy: 0.5966 - val_loss: 1.0136 - val_accuracy: 0.6575\n",
            "Epoch 12/20\n",
            "1250/1250 [==============================] - 7s 6ms/step - loss: 1.1327 - accuracy: 0.6053 - val_loss: 1.0369 - val_accuracy: 0.6526\n",
            "Epoch 13/20\n",
            "1250/1250 [==============================] - 8s 6ms/step - loss: 1.1080 - accuracy: 0.6126 - val_loss: 0.9847 - val_accuracy: 0.6743\n",
            "Epoch 14/20\n",
            "1250/1250 [==============================] - 8s 6ms/step - loss: 1.0994 - accuracy: 0.6147 - val_loss: 0.9247 - val_accuracy: 0.6866\n",
            "Epoch 15/20\n",
            "1250/1250 [==============================] - 8s 6ms/step - loss: 1.0840 - accuracy: 0.6199 - val_loss: 0.9439 - val_accuracy: 0.6920\n",
            "Epoch 16/20\n",
            "1250/1250 [==============================] - 8s 6ms/step - loss: 1.0645 - accuracy: 0.6275 - val_loss: 0.9300 - val_accuracy: 0.6861\n",
            "Epoch 17/20\n",
            "1250/1250 [==============================] - 8s 6ms/step - loss: 1.0560 - accuracy: 0.6326 - val_loss: 0.9143 - val_accuracy: 0.6859\n",
            "Epoch 18/20\n",
            "1250/1250 [==============================] - 8s 6ms/step - loss: 1.0503 - accuracy: 0.6340 - val_loss: 0.9218 - val_accuracy: 0.6901\n",
            "Epoch 19/20\n",
            "1250/1250 [==============================] - 8s 6ms/step - loss: 1.0385 - accuracy: 0.6414 - val_loss: 0.8922 - val_accuracy: 0.7087\n",
            "Epoch 20/20\n",
            "1250/1250 [==============================] - 8s 6ms/step - loss: 1.0264 - accuracy: 0.6425 - val_loss: 0.8813 - val_accuracy: 0.7065\n"
          ]
        }
      ]
    },
    {
      "cell_type": "markdown",
      "source": [
        "### Resultados"
      ],
      "metadata": {
        "id": "M_L06D0dJB2Y"
      }
    },
    {
      "cell_type": "code",
      "source": [
        "# Calculamos el error a partir del accuracy para poder graficar\n",
        "train_error = map(lambda x: 1 - x, history.history['accuracy'])\n",
        "val_error = map(lambda x: 1 - x,  history.history['val_accuracy'])\n",
        "\n",
        "# Graficamos\n",
        "plt.plot(range(1, 21), list(train_error), label='Train Error')\n",
        "plt.plot(range(1, 21), list(val_error), label = 'Val Error')\n",
        "plt.xlabel('Epoca')\n",
        "plt.ylabel('Error')\n",
        "plt.legend()\n",
        "plt.title('Ejercicio 3 - Data Augmentation')\n",
        "plt.show()\n",
        "\n",
        "# Error de test\n",
        "\n",
        "(train_images, train_labels), (test_images, test_labels) = datasets.cifar10.load_data()\n",
        "# Normalize pixel values to be between 0 and 1\n",
        "train_images, test_images = train_images / 255.0, test_images / 255.0\n",
        "test_loss, test_acc = model.evaluate(test_images,  test_labels)\n",
        "print(f\"Test error en el modelo final: {1 - test_acc}\")"
      ],
      "metadata": {
        "colab": {
          "base_uri": "https://localhost:8080/",
          "height": 330
        },
        "id": "UhwDYytDItDY",
        "outputId": "a5db1aa7-3f0c-4112-e00b-998aeb1a8ea6"
      },
      "execution_count": null,
      "outputs": [
        {
          "output_type": "display_data",
          "data": {
            "text/plain": [
              "<Figure size 432x288 with 1 Axes>"
            ],
            "image/png": "[encoded data removed]"
          },
          "metadata": {
            "needs_background": "light"
          }
        },
        {
          "output_type": "stream",
          "name": "stdout",
          "text": [
            "313/313 [==============================] - 1s 3ms/step - loss: 0.8988 - accuracy: 0.6954\n",
            "Test error en el modelo final: 0.3046000003814697\n"
          ]
        }
      ]
    },
    {
      "cell_type": "markdown",
      "source": [
        "### Conclusiones"
      ],
      "metadata": {
        "id": "8VBzSqyGJDVE"
      }
    },
    {
      "cell_type": "markdown",
      "source": [
        "no hace mucha diferencia, no se pueden aplicar transformaciones que modifiquen el tamaño de la imagen porq se vuelve todo loco"
      ],
      "metadata": {
        "id": "DtCseFrvVdye"
      }
    }
  ],
  "metadata": {
    "language_info": {
      "name": "python"
    },
    "orig_nbformat": 4,
    "colab": {
      "name": "CNN.ipynb",
      "provenance": [],
      "toc_visible": true
    },
    "kernelspec": {
      "name": "python3",
      "display_name": "Python 3"
    },
    "gpuClass": "standard",
    "accelerator": "GPU"
  },
  "nbformat": 4,
  "nbformat_minor": 0
}