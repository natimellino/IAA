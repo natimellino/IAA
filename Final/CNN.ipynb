{
  "cells": [
    {
      "cell_type": "markdown",
      "metadata": {
        "id": "KnVj-slC1wcs"
      },
      "source": [
        "# TP Final - Redes Neuronales Convolucionales\n",
        "## Mellino, Natalia - Introducción al Aprendizaje Automatizado"
      ]
    },
    {
      "cell_type": "code",
      "source": [
        "# Imports\n",
        "\n",
        "import tensorflow as tf\n",
        "\n",
        "from tensorflow import keras\n",
        "from tensorflow.keras import datasets, layers, models\n",
        "import matplotlib.pyplot as plt\n",
        "from sklearn.model_selection import train_test_split"
      ],
      "metadata": {
        "id": "lsVzSddZ1yxS"
      },
      "execution_count": 1,
      "outputs": []
    },
    {
      "cell_type": "code",
      "source": [
        "def graficar_resultados(history, model, title):\n",
        "  # Calculamos el error a partir del accuracy para poder graficar\n",
        "  train_error = list(map(lambda x: 1 - x, history.history['accuracy']))\n",
        "  val_error = list(map(lambda x: 1 - x,  history.history['val_accuracy']))\n",
        "\n",
        "  xs = list(range(1, len(train_error) + 1))\n",
        "\n",
        "  # Graficamos\n",
        "  plt.plot(xs, train_error, label='Train Error')\n",
        "  plt.plot(xs, val_error, label = 'Val Error')\n",
        "  plt.xlabel('Epoca')\n",
        "  plt.ylabel('Error')\n",
        "  plt.legend()\n",
        "  plt.title(title)\n",
        "  plt.show()\n",
        "\n",
        "  # Error de test\n",
        "\n",
        "  (train_images, train_labels), (test_images, test_labels) = datasets.cifar10.load_data()\n",
        "  # Normalize pixel values to be between 0 and 1\n",
        "  train_images, test_images = train_images / 255.0, test_images / 255.0\n",
        "  test_loss, test_acc = model.evaluate(test_images,  test_labels)\n",
        "  print(f\"Test error en el modelo final: {1 - test_acc}\")"
      ],
      "metadata": {
        "id": "KCEAg6AwXLWl"
      },
      "execution_count": 8,
      "outputs": []
    },
    {
      "cell_type": "markdown",
      "source": [
        "## Ejercicio 1"
      ],
      "metadata": {
        "id": "pFUnVZ6Cg1fv"
      }
    },
    {
      "cell_type": "code",
      "source": [
        "def ej1(model):\n",
        "\n",
        "  (train_images, train_labels), (test_images, test_labels) = datasets.cifar10.load_data()\n",
        "\n",
        "  # Normalizamos como lo hace el ejemplo del tutorial\n",
        "  train_images, test_images = train_images / 255.0, test_images / 255.0\n",
        "\n",
        "\n",
        "  # Separamos conjunto de validación\n",
        "  train_images, val_images, train_labels, val_labels = train_test_split(\n",
        "      train_images, train_labels, test_size=0.2, random_state=0\n",
        "  )\n",
        "\n",
        "  # Compilamos y entrenamos\n",
        "\n",
        "  model.compile(\n",
        "      optimizer='adam',\n",
        "      loss=tf.keras.losses.SparseCategoricalCrossentropy(from_logits=True),\n",
        "      metrics=['accuracy']\n",
        "  )\n",
        "\n",
        "  history = model.fit(\n",
        "      train_images, \n",
        "      train_labels, \n",
        "      epochs=10, \n",
        "      validation_data=(val_images, val_labels)\n",
        "  )\n",
        "\n",
        "  return history, model"
      ],
      "metadata": {
        "id": "ZFkCxBg8Zq-p"
      },
      "execution_count": 9,
      "outputs": []
    },
    {
      "cell_type": "code",
      "source": [
        "# Agregamos las capas\n",
        "model1 = models.Sequential()\n",
        "model1.add(layers.Conv2D(32, (3, 3), activation='relu', padding='same', input_shape=(32, 32, 3)))\n",
        "model1.add(layers.MaxPooling2D((2, 2)))\n",
        "model1.add(layers.Conv2D(64, (3, 3), padding='same', activation='relu'))\n",
        "model1.add(layers.Conv2D(64, (3, 3), padding='same', activation='relu'))\n",
        "model1.add(layers.MaxPooling2D((2, 2)))\n",
        "model1.add(layers.Conv2D(64, (3, 3), padding='same', activation='relu'))\n",
        "model1.add(layers.Conv2D(64, (3, 3), padding='same', activation='relu'))\n",
        "# model.add(layers.MaxPooling2D((2, 2)))\n",
        "model1.add(layers.Flatten())\n",
        "model1.add(layers.Dense(64))\n",
        "model1.add(layers.Dense(128))\n",
        "model1.add(layers.Dense(128))\n",
        "model1.add(layers.Dense(10))\n",
        "\n",
        "history1, model1 = ej1(model1)"
      ],
      "metadata": {
        "colab": {
          "base_uri": "https://localhost:8080/"
        },
        "id": "pYwkKwpUcavp",
        "outputId": "f5489e2c-0921-4939-e5d4-47afd50b3aae"
      },
      "execution_count": 11,
      "outputs": [
        {
          "output_type": "stream",
          "name": "stdout",
          "text": [
            "Epoch 1/10\n",
            "1250/1250 [==============================] - 8s 6ms/step - loss: 1.5149 - accuracy: 0.4418 - val_loss: 1.1985 - val_accuracy: 0.5771\n",
            "Epoch 2/10\n",
            "1250/1250 [==============================] - 9s 7ms/step - loss: 1.1222 - accuracy: 0.6001 - val_loss: 1.0246 - val_accuracy: 0.6378\n",
            "Epoch 3/10\n",
            "1250/1250 [==============================] - 8s 6ms/step - loss: 0.9404 - accuracy: 0.6672 - val_loss: 0.9508 - val_accuracy: 0.6660\n",
            "Epoch 4/10\n",
            "1250/1250 [==============================] - 7s 6ms/step - loss: 0.8252 - accuracy: 0.7079 - val_loss: 0.9101 - val_accuracy: 0.6824\n",
            "Epoch 5/10\n",
            "1250/1250 [==============================] - 6s 5ms/step - loss: 0.7322 - accuracy: 0.7409 - val_loss: 0.8578 - val_accuracy: 0.6999\n",
            "Epoch 6/10\n",
            "1250/1250 [==============================] - 7s 6ms/step - loss: 0.6523 - accuracy: 0.7698 - val_loss: 0.9439 - val_accuracy: 0.6777\n",
            "Epoch 7/10\n",
            "1250/1250 [==============================] - 7s 5ms/step - loss: 0.5858 - accuracy: 0.7927 - val_loss: 0.8910 - val_accuracy: 0.7095\n",
            "Epoch 8/10\n",
            "1250/1250 [==============================] - 7s 5ms/step - loss: 0.5315 - accuracy: 0.8120 - val_loss: 0.9034 - val_accuracy: 0.7038\n",
            "Epoch 9/10\n",
            "1250/1250 [==============================] - 7s 5ms/step - loss: 0.4802 - accuracy: 0.8303 - val_loss: 0.9525 - val_accuracy: 0.6983\n",
            "Epoch 10/10\n",
            "1250/1250 [==============================] - 6s 5ms/step - loss: 0.4296 - accuracy: 0.8461 - val_loss: 0.9653 - val_accuracy: 0.7090\n"
          ]
        }
      ]
    },
    {
      "cell_type": "markdown",
      "source": [
        "### Resultados"
      ],
      "metadata": {
        "id": "_ZaDlKtbI51Z"
      }
    },
    {
      "cell_type": "code",
      "source": [
        "graficar_resultados(history1, model1, 'Ejercicio 1')\n"
      ],
      "metadata": {
        "colab": {
          "base_uri": "https://localhost:8080/",
          "height": 330
        },
        "id": "MGv4ms0fcdVj",
        "outputId": "e7d370b3-2dd4-4654-fbae-26699a9aed6b"
      },
      "execution_count": 12,
      "outputs": [
        {
          "output_type": "display_data",
          "data": {
            "text/plain": [
              "<Figure size 432x288 with 1 Axes>"
            ],
            "image/png": "[encoded data removed]"
          },
          "metadata": {
            "needs_background": "light"
          }
        },
        {
          "output_type": "stream",
          "name": "stdout",
          "text": [
            "313/313 [==============================] - 1s 3ms/step - loss: 0.9999 - accuracy: 0.7081\n",
            "Test error en el modelo final: 0.29189997911453247\n"
          ]
        }
      ]
    },
    {
      "cell_type": "markdown",
      "source": [
        "### Conclusiones\n",
        "\n",
        "ta malisimo la verda creo que hay un toq de overfitting "
      ],
      "metadata": {
        "id": "vRcZs4OSjIaB"
      }
    },
    {
      "cell_type": "markdown",
      "source": [
        "## Ejercicio 2"
      ],
      "metadata": {
        "id": "l4bOOx9Ck85a"
      }
    },
    {
      "cell_type": "code",
      "source": [
        "def ej2(models):\n",
        "  results = []\n",
        "  for model in models:\n",
        "\n",
        "    (train_images, train_labels), (test_images, test_labels) = datasets.cifar10.load_data()\n",
        "\n",
        "    # Normalizamos como lo hace el ejemplo del tutorial\n",
        "    train_images, test_images = train_images / 255.0, test_images / 255.0\n",
        "\n",
        "\n",
        "    # Separamos conjunto de validación\n",
        "    train_images, val_images, train_labels, val_labels = train_test_split(\n",
        "        train_images, train_labels, test_size=0.2, random_state=0\n",
        "    )\n",
        "\n",
        "    # Compilamos y entrenamos\n",
        "\n",
        "    model.compile(\n",
        "        optimizer='adam',\n",
        "        loss=tf.keras.losses.SparseCategoricalCrossentropy(from_logits=True),\n",
        "        metrics=['accuracy']\n",
        "    )\n",
        "\n",
        "    history = model.fit(\n",
        "        train_images, \n",
        "        train_labels, \n",
        "        epochs=20,\n",
        "        validation_data=(val_images, val_labels)\n",
        "    )\n",
        "\n",
        "    results.append((history, model))\n",
        "\n",
        "  return results"
      ],
      "metadata": {
        "id": "e10NeNCTk-lO"
      },
      "execution_count": 13,
      "outputs": []
    },
    {
      "cell_type": "code",
      "source": [
        "ms2 = []\n",
        "for p in [0.2, 0.5]:\n",
        "    # Agregamos las capas\n",
        "    model2 = models.Sequential()\n",
        "    model2.add(layers.Conv2D(32, (3, 3), activation='relu', padding='same', input_shape=(32, 32, 3)))\n",
        "    model2.add(layers.MaxPooling2D((2, 2)))\n",
        "    model2.add(layers.Conv2D(64, (3, 3), padding='same', activation='relu'))\n",
        "    model2.add(layers.Conv2D(64, (3, 3), padding='same', activation='relu'))\n",
        "    model2.add(layers.MaxPooling2D((2, 2)))\n",
        "    model2.add(layers.Conv2D(64, (3, 3), padding='same', activation='relu'))\n",
        "    model2.add(layers.Conv2D(64, (3, 3), padding='same', activation='relu'))\n",
        "    model2.add(layers.Dropout(p, input_shape=(32, 32, 3))) # Dropout\n",
        "    model2.add(layers.Flatten())\n",
        "    model2.add(layers.Dense(64))\n",
        "    model2.add(layers.Dropout(p, input_shape=(32, 32, 3))) # Dropout\n",
        "    model2.add(layers.Dense(128))\n",
        "    model2.add(layers.Dense(128))\n",
        "    model2.add(layers.Dense(10))\n",
        "\n",
        "    ms2.append(model2)\n",
        "\n",
        "results2 = ej2(ms2)"
      ],
      "metadata": {
        "id": "JMjg_GoamjJv",
        "outputId": "02889056-e753-457c-e420-f0ca22d5dd75",
        "colab": {
          "base_uri": "https://localhost:8080/"
        }
      },
      "execution_count": 14,
      "outputs": [
        {
          "output_type": "stream",
          "name": "stdout",
          "text": [
            "Epoch 1/20\n",
            "1250/1250 [==============================] - 7s 5ms/step - loss: 1.5920 - accuracy: 0.4110 - val_loss: 1.2758 - val_accuracy: 0.5336\n",
            "Epoch 2/20\n",
            "1250/1250 [==============================] - 7s 6ms/step - loss: 1.1791 - accuracy: 0.5774 - val_loss: 1.1381 - val_accuracy: 0.5873\n",
            "Epoch 3/20\n",
            "1250/1250 [==============================] - 7s 5ms/step - loss: 1.0146 - accuracy: 0.6402 - val_loss: 0.9368 - val_accuracy: 0.6644\n",
            "Epoch 4/20\n",
            "1250/1250 [==============================] - 6s 5ms/step - loss: 0.9068 - accuracy: 0.6823 - val_loss: 0.8687 - val_accuracy: 0.6942\n",
            "Epoch 5/20\n",
            "1250/1250 [==============================] - 7s 5ms/step - loss: 0.8304 - accuracy: 0.7070 - val_loss: 0.8923 - val_accuracy: 0.6821\n",
            "Epoch 6/20\n",
            "1250/1250 [==============================] - 6s 5ms/step - loss: 0.7708 - accuracy: 0.7314 - val_loss: 0.8794 - val_accuracy: 0.6960\n",
            "Epoch 7/20\n",
            "1250/1250 [==============================] - 6s 5ms/step - loss: 0.7169 - accuracy: 0.7487 - val_loss: 0.8143 - val_accuracy: 0.7222\n",
            "Epoch 8/20\n",
            "1250/1250 [==============================] - 7s 6ms/step - loss: 0.6712 - accuracy: 0.7652 - val_loss: 0.7879 - val_accuracy: 0.7275\n",
            "Epoch 9/20\n",
            "1250/1250 [==============================] - 6s 5ms/step - loss: 0.6267 - accuracy: 0.7792 - val_loss: 0.8153 - val_accuracy: 0.7250\n",
            "Epoch 10/20\n",
            "1250/1250 [==============================] - 7s 5ms/step - loss: 0.5901 - accuracy: 0.7917 - val_loss: 0.8596 - val_accuracy: 0.7088\n",
            "Epoch 11/20\n",
            "1250/1250 [==============================] - 6s 5ms/step - loss: 0.5479 - accuracy: 0.8077 - val_loss: 0.8195 - val_accuracy: 0.7315\n",
            "Epoch 12/20\n",
            "1250/1250 [==============================] - 6s 5ms/step - loss: 0.5205 - accuracy: 0.8167 - val_loss: 0.8530 - val_accuracy: 0.7177\n",
            "Epoch 13/20\n",
            "1250/1250 [==============================] - 6s 5ms/step - loss: 0.4845 - accuracy: 0.8292 - val_loss: 0.8881 - val_accuracy: 0.7146\n",
            "Epoch 14/20\n",
            "1250/1250 [==============================] - 6s 5ms/step - loss: 0.4672 - accuracy: 0.8350 - val_loss: 0.8413 - val_accuracy: 0.7382\n",
            "Epoch 15/20\n",
            "1250/1250 [==============================] - 6s 5ms/step - loss: 0.4420 - accuracy: 0.8457 - val_loss: 0.9233 - val_accuracy: 0.7192\n",
            "Epoch 16/20\n",
            "1250/1250 [==============================] - 7s 6ms/step - loss: 0.4161 - accuracy: 0.8519 - val_loss: 0.9154 - val_accuracy: 0.7174\n",
            "Epoch 17/20\n",
            "1250/1250 [==============================] - 7s 5ms/step - loss: 0.3982 - accuracy: 0.8595 - val_loss: 0.8817 - val_accuracy: 0.7370\n",
            "Epoch 18/20\n",
            "1250/1250 [==============================] - 7s 5ms/step - loss: 0.3769 - accuracy: 0.8665 - val_loss: 0.9086 - val_accuracy: 0.7289\n",
            "Epoch 19/20\n",
            "1250/1250 [==============================] - 6s 5ms/step - loss: 0.3576 - accuracy: 0.8731 - val_loss: 0.9724 - val_accuracy: 0.7266\n",
            "Epoch 20/20\n",
            "1250/1250 [==============================] - 7s 5ms/step - loss: 0.3424 - accuracy: 0.8784 - val_loss: 0.9797 - val_accuracy: 0.7162\n",
            "Epoch 1/20\n",
            "1250/1250 [==============================] - 8s 6ms/step - loss: 1.7190 - accuracy: 0.3604 - val_loss: 1.3762 - val_accuracy: 0.4957\n",
            "Epoch 2/20\n",
            "1250/1250 [==============================] - 6s 5ms/step - loss: 1.3700 - accuracy: 0.5040 - val_loss: 1.1775 - val_accuracy: 0.5725\n",
            "Epoch 3/20\n",
            "1250/1250 [==============================] - 6s 5ms/step - loss: 1.2274 - accuracy: 0.5618 - val_loss: 1.0968 - val_accuracy: 0.6078\n",
            "Epoch 4/20\n",
            "1250/1250 [==============================] - 7s 5ms/step - loss: 1.1191 - accuracy: 0.6026 - val_loss: 0.9914 - val_accuracy: 0.6450\n",
            "Epoch 5/20\n",
            "1250/1250 [==============================] - 6s 5ms/step - loss: 1.0480 - accuracy: 0.6313 - val_loss: 0.9452 - val_accuracy: 0.6645\n",
            "Epoch 6/20\n",
            "1250/1250 [==============================] - 7s 5ms/step - loss: 0.9743 - accuracy: 0.6568 - val_loss: 0.8927 - val_accuracy: 0.6872\n",
            "Epoch 7/20\n",
            "1250/1250 [==============================] - 7s 5ms/step - loss: 0.9284 - accuracy: 0.6755 - val_loss: 0.8775 - val_accuracy: 0.6882\n",
            "Epoch 8/20\n",
            "1250/1250 [==============================] - 6s 5ms/step - loss: 0.8836 - accuracy: 0.6897 - val_loss: 0.8825 - val_accuracy: 0.6915\n",
            "Epoch 9/20\n",
            "1250/1250 [==============================] - 6s 5ms/step - loss: 0.8531 - accuracy: 0.7045 - val_loss: 0.8206 - val_accuracy: 0.7160\n",
            "Epoch 10/20\n",
            "1250/1250 [==============================] - 7s 5ms/step - loss: 0.8119 - accuracy: 0.7171 - val_loss: 0.8091 - val_accuracy: 0.7154\n",
            "Epoch 11/20\n",
            "1250/1250 [==============================] - 7s 5ms/step - loss: 0.7849 - accuracy: 0.7270 - val_loss: 0.8391 - val_accuracy: 0.7112\n",
            "Epoch 12/20\n",
            "1250/1250 [==============================] - 6s 5ms/step - loss: 0.7549 - accuracy: 0.7401 - val_loss: 0.7779 - val_accuracy: 0.7300\n",
            "Epoch 13/20\n",
            "1250/1250 [==============================] - 6s 5ms/step - loss: 0.7324 - accuracy: 0.7469 - val_loss: 0.7796 - val_accuracy: 0.7299\n",
            "Epoch 14/20\n",
            "1250/1250 [==============================] - 7s 5ms/step - loss: 0.7121 - accuracy: 0.7532 - val_loss: 0.7439 - val_accuracy: 0.7392\n",
            "Epoch 15/20\n",
            "1250/1250 [==============================] - 7s 5ms/step - loss: 0.6879 - accuracy: 0.7616 - val_loss: 0.7435 - val_accuracy: 0.7442\n",
            "Epoch 16/20\n",
            "1250/1250 [==============================] - 6s 5ms/step - loss: 0.6651 - accuracy: 0.7695 - val_loss: 0.7847 - val_accuracy: 0.7273\n",
            "Epoch 17/20\n",
            "1250/1250 [==============================] - 6s 5ms/step - loss: 0.6487 - accuracy: 0.7747 - val_loss: 0.7500 - val_accuracy: 0.7421\n",
            "Epoch 18/20\n",
            "1250/1250 [==============================] - 6s 5ms/step - loss: 0.6306 - accuracy: 0.7826 - val_loss: 0.7615 - val_accuracy: 0.7358\n",
            "Epoch 19/20\n",
            "1250/1250 [==============================] - 6s 5ms/step - loss: 0.6138 - accuracy: 0.7861 - val_loss: 0.7868 - val_accuracy: 0.7305\n",
            "Epoch 20/20\n",
            "1250/1250 [==============================] - 7s 5ms/step - loss: 0.5941 - accuracy: 0.7927 - val_loss: 0.7802 - val_accuracy: 0.7422\n"
          ]
        }
      ]
    },
    {
      "cell_type": "markdown",
      "source": [
        "### Resultados"
      ],
      "metadata": {
        "id": "dBSj19mCI8tr"
      }
    },
    {
      "cell_type": "code",
      "source": [
        "# p = 0.2\n",
        "\n",
        "history2a, model2a = results2[0]\n",
        "graficar_resultados(history2a, model2a, 'Ejercicio 2 - p = 0.2')\n",
        "\n",
        "history2b, model2b = results2[1]\n",
        "graficar_resultados(history2b, model2b, 'Ejercicio 2 - p = 0.5')\n",
        "\n"
      ],
      "metadata": {
        "id": "K6y-XMusmzGp",
        "outputId": "e1a56859-9671-46d0-c3ac-211c59f3d556",
        "colab": {
          "base_uri": "https://localhost:8080/",
          "height": 642
        }
      },
      "execution_count": 15,
      "outputs": [
        {
          "output_type": "display_data",
          "data": {
            "text/plain": [
              "<Figure size 432x288 with 1 Axes>"
            ],
            "image/png": "[encoded data removed]"
          },
          "metadata": {
            "needs_background": "light"
          }
        },
        {
          "output_type": "stream",
          "name": "stdout",
          "text": [
            "313/313 [==============================] - 1s 3ms/step - loss: 1.0225 - accuracy: 0.7182\n",
            "Test error en el modelo final: 0.28179997205734253\n"
          ]
        },
        {
          "output_type": "display_data",
          "data": {
            "text/plain": [
              "<Figure size 432x288 with 1 Axes>"
            ],
            "image/png": "[encoded data removed]"
          },
          "metadata": {
            "needs_background": "light"
          }
        },
        {
          "output_type": "stream",
          "name": "stdout",
          "text": [
            "313/313 [==============================] - 1s 3ms/step - loss: 0.8134 - accuracy: 0.7372\n",
            "Test error en el modelo final: 0.2627999782562256\n"
          ]
        }
      ]
    },
    {
      "cell_type": "markdown",
      "source": [
        "### Conclusiones\n",
        "\n",
        "Hay menos sobreajuste con p = 0.5"
      ],
      "metadata": {
        "id": "MmA70vJ2S5Pk"
      }
    },
    {
      "cell_type": "markdown",
      "source": [
        "## Ejercicio 3"
      ],
      "metadata": {
        "id": "rHuaAKTITnwP"
      }
    },
    {
      "cell_type": "code",
      "source": [
        "def ej3(model):\n",
        "\n",
        "  (train_images, train_labels), (test_images, test_labels) = datasets.cifar10.load_data()\n",
        "\n",
        "  # Normalizamos como lo hace el ejemplo del tutorial\n",
        "  train_images, test_images = train_images / 255.0, test_images / 255.0\n",
        "\n",
        "\n",
        "  # Separamos conjunto de validación\n",
        "  train_images, val_images, train_labels, val_labels = train_test_split(\n",
        "      train_images, train_labels, test_size=0.2, random_state=0\n",
        "  )\n",
        "\n",
        "  # Compilamos y entrenamos\n",
        "\n",
        "  model.compile(\n",
        "      optimizer='adam',\n",
        "      loss=tf.keras.losses.SparseCategoricalCrossentropy(from_logits=True),\n",
        "      metrics=['accuracy']\n",
        "  )\n",
        "\n",
        "  history = model.fit(\n",
        "      train_images, \n",
        "      train_labels, \n",
        "      epochs=20,\n",
        "      validation_data=(val_images, val_labels)\n",
        "  )\n",
        "\n",
        "  return history, model"
      ],
      "metadata": {
        "id": "4HZODoLiTvSr"
      },
      "execution_count": 3,
      "outputs": []
    },
    {
      "cell_type": "code",
      "source": [
        "img_height = 32\n",
        "img_width = 32\n",
        "data_augmentation = keras.Sequential(\n",
        "    [\n",
        "          layers.RandomFlip(\"horizontal\", input_shape=(img_height, img_width, 3)),\n",
        "          layers.RandomRotation(0.1),\n",
        "          layers.RandomZoom(0.1),\n",
        "     ]\n",
        ")\n",
        "\n",
        "# Agregamos las capas\n",
        "model3 = models.Sequential()\n",
        "model3.add(data_augmentation)\n",
        "model3.add(layers.Conv2D(32, (3, 3), activation='relu', padding='same', input_shape=(32, 32, 3)))\n",
        "model3.add(layers.MaxPooling2D((2, 2)))\n",
        "model3.add(layers.Conv2D(64, (3, 3), padding='same', activation='relu'))\n",
        "model3.add(layers.Conv2D(64, (3, 3), padding='same', activation='relu'))\n",
        "model3.add(layers.MaxPooling2D((2, 2)))\n",
        "model3.add(layers.Conv2D(64, (3, 3), padding='same', activation='relu'))\n",
        "model3.add(layers.Conv2D(64, (3, 3), padding='same', activation='relu'))\n",
        "model3.add(layers.Dropout(0.5, input_shape=(32, 32, 3))) # Dropout\n",
        "model3.add(layers.MaxPooling2D((2, 2)))\n",
        "model3.add(layers.Flatten())\n",
        "model3.add(layers.Dense(64))\n",
        "model3.add(layers.Dropout(0.5, input_shape=(32, 32, 3))) # Dropout\n",
        "model3.add(layers.Dense(128))\n",
        "model3.add(layers.Dense(128))\n",
        "model3.add(layers.Dense(10))\n",
        "\n",
        "history3, mdl3 = ej3(model3)"
      ],
      "metadata": {
        "id": "e2RSjfFTUXYW",
        "outputId": "2ddb9273-d189-49c4-90aa-7db2f2d6fc76",
        "colab": {
          "base_uri": "https://localhost:8080/"
        }
      },
      "execution_count": 16,
      "outputs": [
        {
          "output_type": "stream",
          "name": "stdout",
          "text": [
            "Epoch 1/20\n",
            "1250/1250 [==============================] - 10s 7ms/step - loss: 1.8405 - accuracy: 0.3135 - val_loss: 1.6499 - val_accuracy: 0.4213\n",
            "Epoch 2/20\n",
            "1250/1250 [==============================] - 9s 7ms/step - loss: 1.5636 - accuracy: 0.4247 - val_loss: 1.4497 - val_accuracy: 0.4888\n",
            "Epoch 3/20\n",
            "1250/1250 [==============================] - 11s 9ms/step - loss: 1.4640 - accuracy: 0.4645 - val_loss: 1.3201 - val_accuracy: 0.5390\n",
            "Epoch 4/20\n",
            "1250/1250 [==============================] - 9s 7ms/step - loss: 1.4048 - accuracy: 0.4915 - val_loss: 1.3040 - val_accuracy: 0.5491\n",
            "Epoch 5/20\n",
            "1250/1250 [==============================] - 8s 6ms/step - loss: 1.3482 - accuracy: 0.5168 - val_loss: 1.2192 - val_accuracy: 0.5769\n",
            "Epoch 6/20\n",
            "1250/1250 [==============================] - 7s 6ms/step - loss: 1.3143 - accuracy: 0.5275 - val_loss: 1.2155 - val_accuracy: 0.5734\n",
            "Epoch 7/20\n",
            "1250/1250 [==============================] - 8s 6ms/step - loss: 1.2815 - accuracy: 0.5423 - val_loss: 1.1659 - val_accuracy: 0.6149\n",
            "Epoch 8/20\n",
            "1250/1250 [==============================] - 8s 6ms/step - loss: 1.2447 - accuracy: 0.5559 - val_loss: 1.1143 - val_accuracy: 0.6164\n",
            "Epoch 9/20\n",
            "1250/1250 [==============================] - 8s 6ms/step - loss: 1.2170 - accuracy: 0.5666 - val_loss: 1.1102 - val_accuracy: 0.6296\n",
            "Epoch 10/20\n",
            "1250/1250 [==============================] - 7s 6ms/step - loss: 1.1931 - accuracy: 0.5803 - val_loss: 1.0667 - val_accuracy: 0.6380\n",
            "Epoch 11/20\n",
            "1250/1250 [==============================] - 8s 6ms/step - loss: 1.1766 - accuracy: 0.5860 - val_loss: 1.0621 - val_accuracy: 0.6326\n",
            "Epoch 12/20\n",
            "1250/1250 [==============================] - 8s 6ms/step - loss: 1.1533 - accuracy: 0.5941 - val_loss: 1.1010 - val_accuracy: 0.6307\n",
            "Epoch 13/20\n",
            "1250/1250 [==============================] - 7s 6ms/step - loss: 1.1363 - accuracy: 0.6005 - val_loss: 1.0466 - val_accuracy: 0.6280\n",
            "Epoch 14/20\n",
            "1250/1250 [==============================] - 7s 6ms/step - loss: 1.1232 - accuracy: 0.6033 - val_loss: 1.0832 - val_accuracy: 0.6149\n",
            "Epoch 15/20\n",
            "1250/1250 [==============================] - 9s 7ms/step - loss: 1.1005 - accuracy: 0.6129 - val_loss: 0.9928 - val_accuracy: 0.6572\n",
            "Epoch 16/20\n",
            "1250/1250 [==============================] - 8s 6ms/step - loss: 1.0907 - accuracy: 0.6199 - val_loss: 1.0252 - val_accuracy: 0.6603\n",
            "Epoch 17/20\n",
            "1250/1250 [==============================] - 7s 6ms/step - loss: 1.0774 - accuracy: 0.6259 - val_loss: 0.9919 - val_accuracy: 0.6661\n",
            "Epoch 18/20\n",
            "1250/1250 [==============================] - 7s 6ms/step - loss: 1.0702 - accuracy: 0.6279 - val_loss: 0.9611 - val_accuracy: 0.6691\n",
            "Epoch 19/20\n",
            "1250/1250 [==============================] - 8s 6ms/step - loss: 1.0543 - accuracy: 0.6304 - val_loss: 0.9840 - val_accuracy: 0.6695\n",
            "Epoch 20/20\n",
            "1250/1250 [==============================] - 7s 6ms/step - loss: 1.0543 - accuracy: 0.6332 - val_loss: 0.9331 - val_accuracy: 0.6903\n"
          ]
        }
      ]
    },
    {
      "cell_type": "markdown",
      "source": [
        "### Resultados"
      ],
      "metadata": {
        "id": "swvZBDp1I_Zr"
      }
    },
    {
      "cell_type": "code",
      "source": [
        "graficar_resultados(history3, mdl3, 'Ejercicio 3 - Data Augmentation')"
      ],
      "metadata": {
        "id": "YMCy_LydVr5w",
        "outputId": "0d6f94b1-7aee-4586-ee73-64d7e9311351",
        "colab": {
          "base_uri": "https://localhost:8080/",
          "height": 330
        }
      },
      "execution_count": 17,
      "outputs": [
        {
          "output_type": "display_data",
          "data": {
            "text/plain": [
              "<Figure size 432x288 with 1 Axes>"
            ],
            "image/png": "[encoded data removed]"
          },
          "metadata": {
            "needs_background": "light"
          }
        },
        {
          "output_type": "stream",
          "name": "stdout",
          "text": [
            "313/313 [==============================] - 1s 3ms/step - loss: 0.9481 - accuracy: 0.6824\n",
            "Test error en el modelo final: 0.3176000118255615\n"
          ]
        }
      ]
    },
    {
      "cell_type": "markdown",
      "source": [
        "### Conclusiones\n",
        "\n",
        "Si hay menos sobreajuste"
      ],
      "metadata": {
        "id": "Jw1LspVLV6Wn"
      }
    },
    {
      "cell_type": "markdown",
      "source": [
        "## Ejercicio 4"
      ],
      "metadata": {
        "id": "AToxomKNIIOf"
      }
    },
    {
      "cell_type": "markdown",
      "source": [
        "### Ejercicio 1 mejorado"
      ],
      "metadata": {
        "id": "HWqy8nxdQT4u"
      }
    },
    {
      "cell_type": "code",
      "source": [
        "model = tf.keras.models.Sequential()\n",
        "model.add(layers.Conv2D(32, (3, 3), activation='relu', padding='same', input_shape=(32, 32, 3)))\n",
        "model.add(layers.Conv2D(32, (3, 3), activation='relu', padding='same', input_shape=(32, 32, 3)))\n",
        "model.add(layers.MaxPooling2D((2, 2)))\n",
        "model.add(layers.Conv2D(64, (3, 3), padding='same', activation='relu'))\n",
        "model.add(layers.Conv2D(64, (3, 3), padding='same', activation='relu'))\n",
        "model.add(layers.MaxPooling2D((2, 2)))\n",
        "model.add(layers.Conv2D(128, (3, 3), padding='same', activation='relu'))\n",
        "model.add(layers.Conv2D(128, (3, 3), padding='same', activation='relu'))\n",
        "# model.add(layers.MaxPooling2D((2, 2)))\n",
        "model.add(layers.Flatten())\n",
        "# model.add(layers.Dense(64))\n",
        "# model.add(layers.Dense(128))\n",
        "model.add(layers.Dense(128))\n",
        "model.add(layers.Dense(10))\n",
        "\n",
        "history, mdl = ej1(model)"
      ],
      "metadata": {
        "id": "TfwEX_s7V_Kw",
        "outputId": "a993fdd9-50c7-4acb-9e29-509ee1362861",
        "colab": {
          "base_uri": "https://localhost:8080/"
        }
      },
      "execution_count": 21,
      "outputs": [
        {
          "output_type": "stream",
          "name": "stdout",
          "text": [
            "Epoch 1/10\n",
            "1250/1250 [==============================] - 8s 6ms/step - loss: 1.5183 - accuracy: 0.4457 - val_loss: 1.1825 - val_accuracy: 0.5829\n",
            "Epoch 2/10\n",
            "1250/1250 [==============================] - 8s 6ms/step - loss: 1.0334 - accuracy: 0.6346 - val_loss: 0.9254 - val_accuracy: 0.6721\n",
            "Epoch 3/10\n",
            "1250/1250 [==============================] - 7s 6ms/step - loss: 0.8446 - accuracy: 0.7009 - val_loss: 0.9284 - val_accuracy: 0.6781\n",
            "Epoch 4/10\n",
            "1250/1250 [==============================] - 7s 5ms/step - loss: 0.7234 - accuracy: 0.7468 - val_loss: 0.8003 - val_accuracy: 0.7204\n",
            "Epoch 5/10\n",
            "1250/1250 [==============================] - 7s 6ms/step - loss: 0.6360 - accuracy: 0.7753 - val_loss: 0.7753 - val_accuracy: 0.7273\n",
            "Epoch 6/10\n",
            "1250/1250 [==============================] - 7s 6ms/step - loss: 0.5519 - accuracy: 0.8053 - val_loss: 0.8334 - val_accuracy: 0.7139\n",
            "Epoch 7/10\n",
            "1250/1250 [==============================] - 8s 6ms/step - loss: 0.4814 - accuracy: 0.8284 - val_loss: 0.8851 - val_accuracy: 0.7177\n",
            "Epoch 8/10\n",
            "1250/1250 [==============================] - 8s 6ms/step - loss: 0.4204 - accuracy: 0.8505 - val_loss: 0.8776 - val_accuracy: 0.7230\n",
            "Epoch 9/10\n",
            "1250/1250 [==============================] - 7s 5ms/step - loss: 0.3660 - accuracy: 0.8693 - val_loss: 0.9790 - val_accuracy: 0.7268\n",
            "Epoch 10/10\n",
            "1250/1250 [==============================] - 7s 5ms/step - loss: 0.3158 - accuracy: 0.8880 - val_loss: 1.0022 - val_accuracy: 0.7250\n"
          ]
        }
      ]
    },
    {
      "cell_type": "markdown",
      "source": [
        "### Resultados - Ejercicio 1 Mejorado"
      ],
      "metadata": {
        "id": "bLm3WwNsJGln"
      }
    },
    {
      "cell_type": "code",
      "source": [
        "# Calculamos el error a partir del accuracy para poder graficar\n",
        "train_error = map(lambda x: 1 - x, history.history['accuracy'])\n",
        "val_error = map(lambda x: 1 - x,  history.history['val_accuracy'])\n",
        "\n",
        "# Graficamos\n",
        "plt.plot(list(train_error), label='Train Error')\n",
        "plt.plot(list(val_error), label = 'Val Error')\n",
        "plt.xlabel('Epoca')\n",
        "plt.ylabel('Error')\n",
        "plt.legend()\n",
        "plt.title('Ejercicio 1')\n",
        "plt.show()\n",
        "\n",
        "# Error de test\n",
        "\n",
        "(train_images, train_labels), (test_images, test_labels) = datasets.cifar10.load_data()\n",
        "\n",
        "# Normalize pixel values to be between 0 and 1\n",
        "train_images, test_images = train_images / 255.0, test_images / 255.0\n",
        "\n",
        "test_loss, test_acc = mdl.evaluate(test_images,  test_labels)\n",
        "print(f\"Test error en el modelo final {1 - test_acc}\")\n"
      ],
      "metadata": {
        "id": "FLz5wziXWIuC",
        "outputId": "f52156ce-f6ef-44dd-b4b3-08eb4c60c9b7",
        "colab": {
          "base_uri": "https://localhost:8080/",
          "height": 330
        }
      },
      "execution_count": 22,
      "outputs": [
        {
          "output_type": "display_data",
          "data": {
            "text/plain": [
              "<Figure size 432x288 with 1 Axes>"
            ],
            "image/png": "[encoded data removed]"
          },
          "metadata": {
            "needs_background": "light"
          }
        },
        {
          "output_type": "stream",
          "name": "stdout",
          "text": [
            "313/313 [==============================] - 1s 4ms/step - loss: 1.0379 - accuracy: 0.7221\n",
            "Test error en el modelo final 0.27789998054504395\n"
          ]
        }
      ]
    },
    {
      "cell_type": "markdown",
      "source": [
        "### Ejercicio 2 mejorado"
      ],
      "metadata": {
        "id": "m-J7QNXwQmjg"
      }
    },
    {
      "cell_type": "code",
      "source": [
        "ms = []\n",
        "for p in [0.2, 0.5]:\n",
        "\n",
        "    model = tf.keras.models.Sequential()\n",
        "    model.add(layers.Conv2D(32, (3, 3), activation='relu', padding='same', input_shape=(32, 32, 3)))\n",
        "    model.add(layers.Conv2D(32, (3, 3), activation='relu', padding='same', input_shape=(32, 32, 3)))\n",
        "    model.add(layers.MaxPooling2D((2, 2)))\n",
        "    model.add(layers.Conv2D(64, (3, 3), padding='same', activation='relu'))\n",
        "    model.add(layers.Conv2D(64, (3, 3), padding='same', activation='relu'))\n",
        "    model.add(layers.MaxPooling2D((2, 2)))\n",
        "    model.add(layers.Conv2D(128, (3, 3), padding='same', activation='relu'))\n",
        "    model.add(layers.Conv2D(128, (3, 3), padding='same', activation='relu'))\n",
        "    model.add(layers.Dropout(p, input_shape=(32, 32, 3))) # Dropout\n",
        "    model.add(layers.Flatten())\n",
        "    model.add(layers.Dense(128))\n",
        "    model.add(layers.Dropout(p, input_shape=(32, 32, 3))) # Dropout\n",
        "    model.add(layers.Dense(10))\n",
        "\n",
        "    ms.append(model)\n",
        "\n",
        "modelos = ej2(ms)"
      ],
      "metadata": {
        "id": "o_ONAyJdQqCR",
        "outputId": "0ff2954a-b168-4948-efea-10eed1ac6483",
        "colab": {
          "base_uri": "https://localhost:8080/"
        }
      },
      "execution_count": 24,
      "outputs": [
        {
          "output_type": "stream",
          "name": "stdout",
          "text": [
            "Epoch 1/20\n",
            "1250/1250 [==============================] - 8s 6ms/step - loss: 1.5102 - accuracy: 0.4458 - val_loss: 1.1353 - val_accuracy: 0.6012\n",
            "Epoch 2/20\n",
            "1250/1250 [==============================] - 7s 6ms/step - loss: 1.0442 - accuracy: 0.6317 - val_loss: 1.0516 - val_accuracy: 0.6324\n",
            "Epoch 3/20\n",
            "1250/1250 [==============================] - 7s 6ms/step - loss: 0.8683 - accuracy: 0.6941 - val_loss: 0.9163 - val_accuracy: 0.6766\n",
            "Epoch 4/20\n",
            "1250/1250 [==============================] - 7s 6ms/step - loss: 0.7493 - accuracy: 0.7365 - val_loss: 0.7962 - val_accuracy: 0.7253\n",
            "Epoch 5/20\n",
            "1250/1250 [==============================] - 7s 6ms/step - loss: 0.6624 - accuracy: 0.7678 - val_loss: 0.8016 - val_accuracy: 0.7207\n",
            "Epoch 6/20\n",
            "1250/1250 [==============================] - 10s 8ms/step - loss: 0.5904 - accuracy: 0.7918 - val_loss: 0.7855 - val_accuracy: 0.7389\n",
            "Epoch 7/20\n",
            "1250/1250 [==============================] - 8s 6ms/step - loss: 0.5261 - accuracy: 0.8131 - val_loss: 0.7898 - val_accuracy: 0.7342\n",
            "Epoch 8/20\n",
            "1250/1250 [==============================] - 8s 6ms/step - loss: 0.4758 - accuracy: 0.8307 - val_loss: 0.7704 - val_accuracy: 0.7554\n",
            "Epoch 9/20\n",
            "1250/1250 [==============================] - 7s 6ms/step - loss: 0.4367 - accuracy: 0.8439 - val_loss: 0.7755 - val_accuracy: 0.7463\n",
            "Epoch 10/20\n",
            "1250/1250 [==============================] - 7s 6ms/step - loss: 0.3967 - accuracy: 0.8609 - val_loss: 0.8626 - val_accuracy: 0.7381\n",
            "Epoch 11/20\n",
            "1250/1250 [==============================] - 8s 6ms/step - loss: 0.3593 - accuracy: 0.8724 - val_loss: 0.8428 - val_accuracy: 0.7542\n",
            "Epoch 12/20\n",
            "1250/1250 [==============================] - 7s 5ms/step - loss: 0.3375 - accuracy: 0.8825 - val_loss: 0.8737 - val_accuracy: 0.7532\n",
            "Epoch 13/20\n",
            "1250/1250 [==============================] - 7s 6ms/step - loss: 0.3035 - accuracy: 0.8924 - val_loss: 1.0499 - val_accuracy: 0.7346\n",
            "Epoch 14/20\n",
            "1250/1250 [==============================] - 7s 6ms/step - loss: 0.2852 - accuracy: 0.8966 - val_loss: 0.9680 - val_accuracy: 0.7514\n",
            "Epoch 15/20\n",
            "1250/1250 [==============================] - 7s 5ms/step - loss: 0.2706 - accuracy: 0.9046 - val_loss: 0.9843 - val_accuracy: 0.7548\n",
            "Epoch 16/20\n",
            "1250/1250 [==============================] - 7s 5ms/step - loss: 0.2520 - accuracy: 0.9111 - val_loss: 0.9740 - val_accuracy: 0.7525\n",
            "Epoch 17/20\n",
            "1250/1250 [==============================] - 7s 6ms/step - loss: 0.2408 - accuracy: 0.9155 - val_loss: 1.0329 - val_accuracy: 0.7442\n",
            "Epoch 18/20\n",
            "1250/1250 [==============================] - 7s 6ms/step - loss: 0.2329 - accuracy: 0.9184 - val_loss: 1.0833 - val_accuracy: 0.7439\n",
            "Epoch 19/20\n",
            "1250/1250 [==============================] - 8s 7ms/step - loss: 0.2263 - accuracy: 0.9225 - val_loss: 1.0545 - val_accuracy: 0.7469\n",
            "Epoch 20/20\n",
            "1250/1250 [==============================] - 7s 6ms/step - loss: 0.2169 - accuracy: 0.9238 - val_loss: 1.0806 - val_accuracy: 0.7437\n",
            "Epoch 1/20\n",
            "1250/1250 [==============================] - 9s 6ms/step - loss: 1.6285 - accuracy: 0.3966 - val_loss: 1.2786 - val_accuracy: 0.5391\n",
            "Epoch 2/20\n",
            "1250/1250 [==============================] - 7s 6ms/step - loss: 1.1949 - accuracy: 0.5756 - val_loss: 1.0293 - val_accuracy: 0.6328\n",
            "Epoch 3/20\n",
            "1250/1250 [==============================] - 7s 6ms/step - loss: 1.0104 - accuracy: 0.6461 - val_loss: 0.8730 - val_accuracy: 0.6909\n",
            "Epoch 4/20\n",
            "1250/1250 [==============================] - 8s 6ms/step - loss: 0.8874 - accuracy: 0.6902 - val_loss: 0.8358 - val_accuracy: 0.7035\n",
            "Epoch 5/20\n",
            "1250/1250 [==============================] - 7s 6ms/step - loss: 0.8149 - accuracy: 0.7172 - val_loss: 0.8095 - val_accuracy: 0.7161\n",
            "Epoch 6/20\n",
            "1250/1250 [==============================] - 7s 6ms/step - loss: 0.7532 - accuracy: 0.7396 - val_loss: 0.7369 - val_accuracy: 0.7435\n",
            "Epoch 7/20\n",
            "1250/1250 [==============================] - 7s 6ms/step - loss: 0.7060 - accuracy: 0.7549 - val_loss: 0.7401 - val_accuracy: 0.7458\n",
            "Epoch 8/20\n",
            "1250/1250 [==============================] - 7s 6ms/step - loss: 0.6636 - accuracy: 0.7713 - val_loss: 0.7150 - val_accuracy: 0.7559\n",
            "Epoch 9/20\n",
            "1250/1250 [==============================] - 7s 6ms/step - loss: 0.6203 - accuracy: 0.7862 - val_loss: 0.7281 - val_accuracy: 0.7534\n",
            "Epoch 10/20\n",
            "1250/1250 [==============================] - 7s 6ms/step - loss: 0.5916 - accuracy: 0.7934 - val_loss: 0.6724 - val_accuracy: 0.7732\n",
            "Epoch 11/20\n",
            "1250/1250 [==============================] - 7s 6ms/step - loss: 0.5743 - accuracy: 0.8001 - val_loss: 0.7022 - val_accuracy: 0.7645\n",
            "Epoch 12/20\n",
            "1250/1250 [==============================] - 8s 6ms/step - loss: 0.5379 - accuracy: 0.8122 - val_loss: 0.7204 - val_accuracy: 0.7616\n",
            "Epoch 13/20\n",
            "1250/1250 [==============================] - 7s 6ms/step - loss: 0.5131 - accuracy: 0.8223 - val_loss: 0.7194 - val_accuracy: 0.7654\n",
            "Epoch 14/20\n",
            "1250/1250 [==============================] - 7s 6ms/step - loss: 0.4986 - accuracy: 0.8259 - val_loss: 0.6761 - val_accuracy: 0.7767\n",
            "Epoch 15/20\n",
            "1250/1250 [==============================] - 7s 6ms/step - loss: 0.4707 - accuracy: 0.8360 - val_loss: 0.7302 - val_accuracy: 0.7623\n",
            "Epoch 16/20\n",
            "1250/1250 [==============================] - 7s 6ms/step - loss: 0.4581 - accuracy: 0.8389 - val_loss: 0.7691 - val_accuracy: 0.7626\n",
            "Epoch 17/20\n",
            "1250/1250 [==============================] - 8s 6ms/step - loss: 0.4383 - accuracy: 0.8479 - val_loss: 0.6886 - val_accuracy: 0.7771\n",
            "Epoch 18/20\n",
            "1250/1250 [==============================] - 7s 5ms/step - loss: 0.4312 - accuracy: 0.8514 - val_loss: 0.7211 - val_accuracy: 0.7707\n",
            "Epoch 19/20\n",
            "1250/1250 [==============================] - 7s 6ms/step - loss: 0.4157 - accuracy: 0.8559 - val_loss: 0.7487 - val_accuracy: 0.7645\n",
            "Epoch 20/20\n",
            "1250/1250 [==============================] - 7s 6ms/step - loss: 0.4089 - accuracy: 0.8561 - val_loss: 0.7600 - val_accuracy: 0.7716\n"
          ]
        }
      ]
    },
    {
      "cell_type": "markdown",
      "source": [
        "### Resultados - Ejercicio 2 Mejorado"
      ],
      "metadata": {
        "id": "mvn293lBSTnI"
      }
    },
    {
      "cell_type": "code",
      "source": [
        "graficar_resultados(history, modelos[0], 'Ejercicio 2 (mejorado) - Dropout')\n"
      ],
      "metadata": {
        "id": "lfctGVTRSZUG",
        "outputId": "0fb2faa2-a17a-4411-8539-8214823817d3",
        "colab": {
          "base_uri": "https://localhost:8080/",
          "height": 330
        }
      },
      "execution_count": 25,
      "outputs": [
        {
          "output_type": "display_data",
          "data": {
            "text/plain": [
              "<Figure size 432x288 with 1 Axes>"
            ],
            "image/png": "[encoded data removed]"
          },
          "metadata": {
            "needs_background": "light"
          }
        },
        {
          "output_type": "stream",
          "name": "stdout",
          "text": [
            "313/313 [==============================] - 1s 4ms/step - loss: 1.1525 - accuracy: 0.7387\n",
            "Test error en el modelo final para p = 0.2: 0.2613000273704529\n"
          ]
        }
      ]
    },
    {
      "cell_type": "code",
      "source": [
        "graficar_resultados(history, modelos[1], 'Ejercicio 2 (mejorado) - Dropout')\n"
      ],
      "metadata": {
        "id": "AgNUyFjtS5ni",
        "outputId": "72063908-0c28-4acc-caf8-024a7ce48cc9",
        "colab": {
          "base_uri": "https://localhost:8080/",
          "height": 330
        }
      },
      "execution_count": 26,
      "outputs": [
        {
          "output_type": "display_data",
          "data": {
            "text/plain": [
              "<Figure size 432x288 with 1 Axes>"
            ],
            "image/png": "[encoded data removed]"
          },
          "metadata": {
            "needs_background": "light"
          }
        },
        {
          "output_type": "stream",
          "name": "stdout",
          "text": [
            "313/313 [==============================] - 1s 4ms/step - loss: 0.8133 - accuracy: 0.7678\n",
            "Test error en el modelo final para p = 0.5: 0.232200026512146\n"
          ]
        }
      ]
    },
    {
      "cell_type": "markdown",
      "source": [
        "### Ejercicio 3 mejorado"
      ],
      "metadata": {
        "id": "CXpjBQiEUsah"
      }
    },
    {
      "cell_type": "code",
      "source": [
        "img_height = 32\n",
        "img_width = 32\n",
        "data_augmentation = keras.Sequential(\n",
        "    [\n",
        "          layers.RandomFlip(\"horizontal\", input_shape=(img_height, img_width, 3)),\n",
        "          layers.RandomRotation(0.1),\n",
        "          layers.RandomZoom(0.1),\n",
        "     ]\n",
        ")\n",
        "\n",
        "# Agregamos las capas\n",
        "model = tf.keras.models.Sequential()\n",
        "model.add(data_augmentation)\n",
        "model = tf.keras.models.Sequential()\n",
        "model.add(layers.Conv2D(32, (3, 3), activation='relu', padding='same', input_shape=(32, 32, 3)))\n",
        "model.add(layers.Conv2D(32, (3, 3), activation='relu', padding='same', input_shape=(32, 32, 3)))\n",
        "model.add(layers.MaxPooling2D((2, 2)))\n",
        "model.add(layers.Conv2D(64, (3, 3), padding='same', activation='relu'))\n",
        "model.add(layers.Conv2D(64, (3, 3), padding='same', activation='relu'))\n",
        "model.add(layers.MaxPooling2D((2, 2)))\n",
        "model.add(layers.Conv2D(128, (3, 3), padding='same', activation='relu'))\n",
        "model.add(layers.Conv2D(128, (3, 3), padding='same', activation='relu'))\n",
        "model.add(layers.Dropout(0.5, input_shape=(32, 32, 3))) # Dropout\n",
        "model.add(layers.Flatten())\n",
        "model.add(layers.Dense(128))\n",
        "model.add(layers.Dropout(0.5, input_shape=(32, 32, 3))) # Dropout\n",
        "model.add(layers.Dense(10))\n",
        "\n",
        "history, model = ej3(model)"
      ],
      "metadata": {
        "id": "E7hoMrgXU2VW",
        "outputId": "64e5de2c-7865-4c63-9a2b-03c6ff1bd9cb",
        "colab": {
          "base_uri": "https://localhost:8080/"
        }
      },
      "execution_count": 4,
      "outputs": [
        {
          "output_type": "stream",
          "name": "stdout",
          "text": [
            "Epoch 1/20\n",
            "1250/1250 [==============================] - 18s 6ms/step - loss: 1.5815 - accuracy: 0.4168 - val_loss: 1.2279 - val_accuracy: 0.5519\n",
            "Epoch 2/20\n",
            "1250/1250 [==============================] - 9s 7ms/step - loss: 1.1523 - accuracy: 0.5893 - val_loss: 1.0030 - val_accuracy: 0.6497\n",
            "Epoch 3/20\n",
            "1250/1250 [==============================] - 7s 6ms/step - loss: 0.9770 - accuracy: 0.6551 - val_loss: 0.8964 - val_accuracy: 0.6852\n",
            "Epoch 4/20\n",
            "1250/1250 [==============================] - 7s 6ms/step - loss: 0.8684 - accuracy: 0.6944 - val_loss: 0.8195 - val_accuracy: 0.7160\n",
            "Epoch 5/20\n",
            "1250/1250 [==============================] - 7s 6ms/step - loss: 0.7958 - accuracy: 0.7232 - val_loss: 0.7665 - val_accuracy: 0.7373\n",
            "Epoch 6/20\n",
            "1250/1250 [==============================] - 7s 6ms/step - loss: 0.7340 - accuracy: 0.7446 - val_loss: 0.7410 - val_accuracy: 0.7450\n",
            "Epoch 7/20\n",
            "1250/1250 [==============================] - 7s 6ms/step - loss: 0.6883 - accuracy: 0.7600 - val_loss: 0.7250 - val_accuracy: 0.7549\n",
            "Epoch 8/20\n",
            "1250/1250 [==============================] - 7s 6ms/step - loss: 0.6561 - accuracy: 0.7721 - val_loss: 0.6944 - val_accuracy: 0.7616\n",
            "Epoch 9/20\n",
            "1250/1250 [==============================] - 8s 6ms/step - loss: 0.6076 - accuracy: 0.7887 - val_loss: 0.7207 - val_accuracy: 0.7606\n",
            "Epoch 10/20\n",
            "1250/1250 [==============================] - 8s 6ms/step - loss: 0.5848 - accuracy: 0.7951 - val_loss: 0.7248 - val_accuracy: 0.7534\n",
            "Epoch 11/20\n",
            "1250/1250 [==============================] - 8s 6ms/step - loss: 0.5559 - accuracy: 0.8052 - val_loss: 0.7280 - val_accuracy: 0.7566\n",
            "Epoch 12/20\n",
            "1250/1250 [==============================] - 7s 6ms/step - loss: 0.5266 - accuracy: 0.8178 - val_loss: 0.7193 - val_accuracy: 0.7654\n",
            "Epoch 13/20\n",
            "1250/1250 [==============================] - 7s 6ms/step - loss: 0.5052 - accuracy: 0.8224 - val_loss: 0.7610 - val_accuracy: 0.7418\n",
            "Epoch 14/20\n",
            "1250/1250 [==============================] - 9s 7ms/step - loss: 0.4864 - accuracy: 0.8302 - val_loss: 0.7176 - val_accuracy: 0.7610\n",
            "Epoch 15/20\n",
            "1250/1250 [==============================] - 10s 8ms/step - loss: 0.4711 - accuracy: 0.8378 - val_loss: 0.7367 - val_accuracy: 0.7677\n",
            "Epoch 16/20\n",
            "1250/1250 [==============================] - 11s 9ms/step - loss: 0.4587 - accuracy: 0.8409 - val_loss: 0.7251 - val_accuracy: 0.7636\n",
            "Epoch 17/20\n",
            "1250/1250 [==============================] - 8s 6ms/step - loss: 0.4411 - accuracy: 0.8463 - val_loss: 0.7271 - val_accuracy: 0.7704\n",
            "Epoch 18/20\n",
            "1250/1250 [==============================] - 9s 7ms/step - loss: 0.4151 - accuracy: 0.8554 - val_loss: 0.7118 - val_accuracy: 0.7719\n",
            "Epoch 19/20\n",
            "1250/1250 [==============================] - 7s 6ms/step - loss: 0.4042 - accuracy: 0.8590 - val_loss: 0.7697 - val_accuracy: 0.7641\n",
            "Epoch 20/20\n",
            "1250/1250 [==============================] - 7s 6ms/step - loss: 0.4019 - accuracy: 0.8606 - val_loss: 0.7890 - val_accuracy: 0.7619\n"
          ]
        }
      ]
    },
    {
      "cell_type": "markdown",
      "source": [
        "### Resultados - Ejercicio 3 mejorado"
      ],
      "metadata": {
        "id": "RW5fHpJ5UvpL"
      }
    },
    {
      "cell_type": "code",
      "source": [
        "graficar_resultados(history, model, 'Ejercicio 3 (mejorado) - Data Augmentation')"
      ],
      "metadata": {
        "id": "EExmJ_ChV8og",
        "outputId": "f6bbea29-21fa-47bf-8107-a54116c102f4",
        "colab": {
          "base_uri": "https://localhost:8080/",
          "height": 330
        }
      },
      "execution_count": 6,
      "outputs": [
        {
          "output_type": "display_data",
          "data": {
            "text/plain": [
              "<Figure size 432x288 with 1 Axes>"
            ],
            "image/png": "[encoded data removed]"
          },
          "metadata": {
            "needs_background": "light"
          }
        },
        {
          "output_type": "stream",
          "name": "stdout",
          "text": [
            "313/313 [==============================] - 1s 4ms/step - loss: 0.8182 - accuracy: 0.7588\n",
            "Test error en el modelo final: 0.24119997024536133\n"
          ]
        }
      ]
    },
    {
      "cell_type": "markdown",
      "source": [
        "### Conclusiones"
      ],
      "metadata": {
        "id": "1c2MJRRrJIEd"
      }
    },
    {
      "cell_type": "markdown",
      "source": [
        "## Ejercicio 5"
      ],
      "metadata": {
        "id": "B3wzJOiGIObn"
      }
    },
    {
      "cell_type": "code",
      "source": [
        "def ej5():\n",
        "  img_height = 32\n",
        "  img_width = 32\n",
        "  data_augmentation = keras.Sequential(\n",
        "      [\n",
        "            layers.RandomFlip(\"horizontal\", input_shape=(img_height, img_width, 3)),\n",
        "            layers.RandomRotation(0.1),\n",
        "            layers.RandomZoom(0.1),\n",
        "            layers.RandomContrast(0.1),\n",
        "            # tf.keras.layers.RandomBrightness(0.3),\n",
        "      ]\n",
        "  )\n",
        "\n",
        "  # Agregamos las capas\n",
        "  model = models.Sequential()\n",
        "  model.add(data_augmentation)\n",
        "  model.add(layers.Conv2D(32, (3, 3), activation='relu', padding='same', input_shape=(32, 32, 3)))\n",
        "  model.add(layers.MaxPooling2D((2, 2)))\n",
        "  model.add(layers.Conv2D(64, (3, 3), padding='same', activation='relu'))\n",
        "  model.add(layers.Conv2D(64, (3, 3), padding='same', activation='relu'))\n",
        "  model.add(layers.MaxPooling2D((2, 2)))\n",
        "  model.add(layers.Conv2D(64, (3, 3), padding='same', activation='relu'))\n",
        "  model.add(layers.Conv2D(64, (3, 3), padding='same', activation='relu'))\n",
        "  model.add(layers.Dropout(0.5, input_shape=(32, 32, 3))) # Dropout\n",
        "  model.add(layers.MaxPooling2D((2, 2)))\n",
        "  model.add(layers.Flatten())\n",
        "  model.add(layers.Dense(64))\n",
        "  model.add(layers.Dropout(0.5, input_shape=(32, 32, 3))) # Dropout\n",
        "  model.add(layers.Dense(128))\n",
        "  model.add(layers.Dense(128))\n",
        "  model.add(layers.Dense(10))\n",
        "\n",
        "  (train_images, train_labels), (test_images, test_labels) = datasets.cifar10.load_data()\n",
        "\n",
        "  # Normalizamos como lo hace el ejemplo del tutorial\n",
        "  train_images, test_images = train_images / 255.0, test_images / 255.0\n",
        "\n",
        "\n",
        "  # Separamos conjunto de validación\n",
        "  train_images, val_images, train_labels, val_labels = train_test_split(\n",
        "      train_images, train_labels, test_size=0.2, random_state=0\n",
        "  )\n",
        "\n",
        "  # Compilamos y entrenamos\n",
        "\n",
        "  model.compile(\n",
        "      optimizer='adam',\n",
        "      loss=tf.keras.losses.SparseCategoricalCrossentropy(from_logits=True),\n",
        "      metrics=['accuracy']\n",
        "  )\n",
        "\n",
        "  history = model.fit(\n",
        "      train_images, \n",
        "      train_labels, \n",
        "      epochs=20,\n",
        "      validation_data=(val_images, val_labels)\n",
        "  )\n",
        "\n",
        "  return history, model"
      ],
      "metadata": {
        "id": "_-ZweFSLIRB8"
      },
      "execution_count": null,
      "outputs": []
    },
    {
      "cell_type": "code",
      "source": [
        "history, model = ej5()"
      ],
      "metadata": {
        "colab": {
          "base_uri": "https://localhost:8080/"
        },
        "id": "TYxgNzXxIys3",
        "outputId": "4ca949b0-b23a-43d8-ed28-14619e1ebb47"
      },
      "execution_count": null,
      "outputs": [
        {
          "output_type": "stream",
          "name": "stdout",
          "text": [
            "Epoch 1/20\n",
            "1250/1250 [==============================] - 9s 6ms/step - loss: 1.7764 - accuracy: 0.3418 - val_loss: 1.4822 - val_accuracy: 0.4618\n",
            "Epoch 2/20\n",
            "1250/1250 [==============================] - 8s 6ms/step - loss: 1.5344 - accuracy: 0.4363 - val_loss: 1.4583 - val_accuracy: 0.4653\n",
            "Epoch 3/20\n",
            "1250/1250 [==============================] - 7s 6ms/step - loss: 1.4411 - accuracy: 0.4726 - val_loss: 1.2984 - val_accuracy: 0.5314\n",
            "Epoch 4/20\n",
            "1250/1250 [==============================] - 7s 6ms/step - loss: 1.3758 - accuracy: 0.5049 - val_loss: 1.2013 - val_accuracy: 0.5688\n",
            "Epoch 5/20\n",
            "1250/1250 [==============================] - 8s 6ms/step - loss: 1.3260 - accuracy: 0.5282 - val_loss: 1.2007 - val_accuracy: 0.5901\n",
            "Epoch 6/20\n",
            "1250/1250 [==============================] - 7s 6ms/step - loss: 1.2855 - accuracy: 0.5442 - val_loss: 1.1387 - val_accuracy: 0.6022\n",
            "Epoch 7/20\n",
            "1250/1250 [==============================] - 7s 6ms/step - loss: 1.2549 - accuracy: 0.5530 - val_loss: 1.1166 - val_accuracy: 0.6122\n",
            "Epoch 8/20\n",
            "1250/1250 [==============================] - 7s 6ms/step - loss: 1.2213 - accuracy: 0.5692 - val_loss: 1.1353 - val_accuracy: 0.6193\n",
            "Epoch 9/20\n",
            "1250/1250 [==============================] - 7s 6ms/step - loss: 1.1954 - accuracy: 0.5772 - val_loss: 1.0513 - val_accuracy: 0.6374\n",
            "Epoch 10/20\n",
            "1250/1250 [==============================] - 8s 6ms/step - loss: 1.1704 - accuracy: 0.5878 - val_loss: 1.0293 - val_accuracy: 0.6502\n",
            "Epoch 11/20\n",
            "1250/1250 [==============================] - 8s 6ms/step - loss: 1.1531 - accuracy: 0.5966 - val_loss: 1.0136 - val_accuracy: 0.6575\n",
            "Epoch 12/20\n",
            "1250/1250 [==============================] - 7s 6ms/step - loss: 1.1327 - accuracy: 0.6053 - val_loss: 1.0369 - val_accuracy: 0.6526\n",
            "Epoch 13/20\n",
            "1250/1250 [==============================] - 8s 6ms/step - loss: 1.1080 - accuracy: 0.6126 - val_loss: 0.9847 - val_accuracy: 0.6743\n",
            "Epoch 14/20\n",
            "1250/1250 [==============================] - 8s 6ms/step - loss: 1.0994 - accuracy: 0.6147 - val_loss: 0.9247 - val_accuracy: 0.6866\n",
            "Epoch 15/20\n",
            "1250/1250 [==============================] - 8s 6ms/step - loss: 1.0840 - accuracy: 0.6199 - val_loss: 0.9439 - val_accuracy: 0.6920\n",
            "Epoch 16/20\n",
            "1250/1250 [==============================] - 8s 6ms/step - loss: 1.0645 - accuracy: 0.6275 - val_loss: 0.9300 - val_accuracy: 0.6861\n",
            "Epoch 17/20\n",
            "1250/1250 [==============================] - 8s 6ms/step - loss: 1.0560 - accuracy: 0.6326 - val_loss: 0.9143 - val_accuracy: 0.6859\n",
            "Epoch 18/20\n",
            "1250/1250 [==============================] - 8s 6ms/step - loss: 1.0503 - accuracy: 0.6340 - val_loss: 0.9218 - val_accuracy: 0.6901\n",
            "Epoch 19/20\n",
            "1250/1250 [==============================] - 8s 6ms/step - loss: 1.0385 - accuracy: 0.6414 - val_loss: 0.8922 - val_accuracy: 0.7087\n",
            "Epoch 20/20\n",
            "1250/1250 [==============================] - 8s 6ms/step - loss: 1.0264 - accuracy: 0.6425 - val_loss: 0.8813 - val_accuracy: 0.7065\n"
          ]
        }
      ]
    },
    {
      "cell_type": "markdown",
      "source": [
        "### Resultados"
      ],
      "metadata": {
        "id": "M_L06D0dJB2Y"
      }
    },
    {
      "cell_type": "code",
      "source": [
        "# Calculamos el error a partir del accuracy para poder graficar\n",
        "train_error = map(lambda x: 1 - x, history.history['accuracy'])\n",
        "val_error = map(lambda x: 1 - x,  history.history['val_accuracy'])\n",
        "\n",
        "# Graficamos\n",
        "plt.plot(range(1, 21), list(train_error), label='Train Error')\n",
        "plt.plot(range(1, 21), list(val_error), label = 'Val Error')\n",
        "plt.xlabel('Epoca')\n",
        "plt.ylabel('Error')\n",
        "plt.legend()\n",
        "plt.title('Ejercicio 3 - Data Augmentation')\n",
        "plt.show()\n",
        "\n",
        "# Error de test\n",
        "\n",
        "(train_images, train_labels), (test_images, test_labels) = datasets.cifar10.load_data()\n",
        "# Normalize pixel values to be between 0 and 1\n",
        "train_images, test_images = train_images / 255.0, test_images / 255.0\n",
        "test_loss, test_acc = model.evaluate(test_images,  test_labels)\n",
        "print(f\"Test error en el modelo final: {1 - test_acc}\")"
      ],
      "metadata": {
        "colab": {
          "base_uri": "https://localhost:8080/",
          "height": 330
        },
        "id": "UhwDYytDItDY",
        "outputId": "a5db1aa7-3f0c-4112-e00b-998aeb1a8ea6"
      },
      "execution_count": null,
      "outputs": [
        {
          "output_type": "display_data",
          "data": {
            "text/plain": [
              "<Figure size 432x288 with 1 Axes>"
            ],
            "image/png": "[encoded data removed]"
          },
          "metadata": {
            "needs_background": "light"
          }
        },
        {
          "output_type": "stream",
          "name": "stdout",
          "text": [
            "313/313 [==============================] - 1s 3ms/step - loss: 0.8988 - accuracy: 0.6954\n",
            "Test error en el modelo final: 0.3046000003814697\n"
          ]
        }
      ]
    },
    {
      "cell_type": "markdown",
      "source": [
        "### Conclusiones"
      ],
      "metadata": {
        "id": "8VBzSqyGJDVE"
      }
    },
    {
      "cell_type": "markdown",
      "source": [
        "no hace mucha diferencia, no se pueden aplicar transformaciones que modifiquen el tamaño de la imagen porq se vuelve todo loco"
      ],
      "metadata": {
        "id": "DtCseFrvVdye"
      }
    }
  ],
  "metadata": {
    "language_info": {
      "name": "python"
    },
    "orig_nbformat": 4,
    "colab": {
      "name": "CNN.ipynb",
      "provenance": [],
      "toc_visible": true
    },
    "kernelspec": {
      "name": "python3",
      "display_name": "Python 3"
    },
    "gpuClass": "standard",
    "accelerator": "GPU"
  },
  "nbformat": 4,
  "nbformat_minor": 0
}