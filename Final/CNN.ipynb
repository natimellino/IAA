{
  "cells": [
    {
      "cell_type": "markdown",
      "metadata": {
        "id": "KnVj-slC1wcs"
      },
      "source": [
        "# TP Final - Redes Neuronales Convolucionales\n",
        "## Mellino, Natalia - Introducción al Aprendizaje Automatizado"
      ]
    },
    {
      "cell_type": "code",
      "source": [
        "# Imports\n",
        "\n",
        "import tensorflow as tf\n",
        "\n",
        "from tensorflow import keras\n",
        "from tensorflow.keras import datasets, layers, models\n",
        "import matplotlib.pyplot as plt\n",
        "from sklearn.model_selection import train_test_split"
      ],
      "metadata": {
        "id": "lsVzSddZ1yxS"
      },
      "execution_count": 1,
      "outputs": []
    },
    {
      "cell_type": "code",
      "source": [
        "# Ejemplo\n",
        "\n",
        "(train_images, train_labels), (test_images, test_labels) = datasets.cifar10.load_data()\n",
        "\n",
        "# Normalize pixel values to be between 0 and 1\n",
        "train_images, test_images = train_images / 255.0, test_images / 255.0"
      ],
      "metadata": {
        "id": "kIJloJOV2bB9",
        "outputId": "0a236a31-6d03-444c-8006-8c03986ba33e",
        "colab": {
          "base_uri": "https://localhost:8080/"
        }
      },
      "execution_count": null,
      "outputs": [
        {
          "output_type": "stream",
          "name": "stdout",
          "text": [
            "Downloading data from https://www.cs.toronto.edu/~kriz/cifar-10-python.tar.gz\n",
            "170500096/170498071 [==============================] - 2s 0us/step\n",
            "170508288/170498071 [==============================] - 2s 0us/step\n"
          ]
        }
      ]
    },
    {
      "cell_type": "code",
      "source": [
        "class_names = ['airplane', 'automobile', 'bird', 'cat', 'deer',\n",
        "               'dog', 'frog', 'horse', 'ship', 'truck']\n",
        "\n",
        "plt.figure(figsize=(10,10))\n",
        "for i in range(25):\n",
        "    plt.subplot(5,5,i+1)\n",
        "    plt.xticks([])\n",
        "    plt.yticks([])\n",
        "    plt.grid(False)\n",
        "    plt.imshow(train_images[i])\n",
        "    # The CIFAR labels happen to be arrays, \n",
        "    # which is why you need the extra index\n",
        "    plt.xlabel(class_names[train_labels[i][0]])\n",
        "plt.show()"
      ],
      "metadata": {
        "id": "VHrmoGLy2qFE"
      },
      "execution_count": null,
      "outputs": []
    },
    {
      "cell_type": "code",
      "source": [
        "model = models.Sequential()\n",
        "model.add(layers.Conv2D(32, (3, 3), activation='relu', input_shape=(32, 32, 3)))\n",
        "model.add(layers.MaxPooling2D((2, 2)))\n",
        "model.add(layers.Conv2D(64, (3, 3), activation='relu'))\n",
        "model.add(layers.MaxPooling2D((2, 2)))\n",
        "model.add(layers.Conv2D(64, (3, 3), activation='relu'))\n",
        "model.add(layers.Flatten())\n",
        "model.add(layers.Dense(64, activation='relu'))\n",
        "model.add(layers.Dense(10))"
      ],
      "metadata": {
        "id": "hGP23iII29WD"
      },
      "execution_count": null,
      "outputs": []
    },
    {
      "cell_type": "code",
      "source": [
        "model.compile(optimizer='adam',\n",
        "              loss=tf.keras.losses.SparseCategoricalCrossentropy(from_logits=True),\n",
        "              metrics=['accuracy'])\n",
        "\n",
        "history = model.fit(train_images, train_labels, epochs=10, \n",
        "                    validation_data=(test_images, test_labels))"
      ],
      "metadata": {
        "id": "MGyAw1yW3CNT"
      },
      "execution_count": null,
      "outputs": []
    },
    {
      "cell_type": "code",
      "source": [
        "plt.plot(history.history['accuracy'], label='accuracy')\n",
        "plt.plot(history.history['val_accuracy'], label = 'val_accuracy')\n",
        "plt.xlabel('Epoch')\n",
        "plt.ylabel('Accuracy')\n",
        "plt.ylim([0.5, 1])\n",
        "plt.legend(loc='lower right')\n",
        "\n",
        "test_loss, test_acc = model.evaluate(test_images,  test_labels, verbose=2)"
      ],
      "metadata": {
        "id": "wWEBfHUj343j"
      },
      "execution_count": null,
      "outputs": []
    },
    {
      "cell_type": "code",
      "source": [
        "print(test_acc)"
      ],
      "metadata": {
        "id": "HbHrsz_o3-Wa"
      },
      "execution_count": null,
      "outputs": []
    },
    {
      "cell_type": "markdown",
      "source": [
        "## Ejercicio 1"
      ],
      "metadata": {
        "id": "pFUnVZ6Cg1fv"
      }
    },
    {
      "cell_type": "code",
      "source": [
        "def ej1():\n",
        "  # Agregamos las capas\n",
        "  model = models.Sequential()\n",
        "  model.add(layers.Conv2D(32, (3, 3), activation='relu', padding='same', input_shape=(32, 32, 3)))\n",
        "  model.add(layers.MaxPooling2D((2, 2)))\n",
        "  model.add(layers.Conv2D(64, (3, 3), padding='same', activation='relu'))\n",
        "  model.add(layers.Conv2D(64, (3, 3), padding='same', activation='relu'))\n",
        "  model.add(layers.MaxPooling2D((2, 2)))\n",
        "  model.add(layers.Conv2D(64, (3, 3), padding='same', activation='relu'))\n",
        "  model.add(layers.Conv2D(64, (3, 3), padding='same', activation='relu'))\n",
        "  # model.add(layers.MaxPooling2D((2, 2)))\n",
        "  model.add(layers.Flatten())\n",
        "  model.add(layers.Dense(64))\n",
        "  model.add(layers.Dense(128))\n",
        "  model.add(layers.Dense(128))\n",
        "  model.add(layers.Dense(10))\n",
        "\n",
        "  (train_images, train_labels), (test_images, test_labels) = datasets.cifar10.load_data()\n",
        "\n",
        "  # Normalizamos como lo hace el ejemplo del tutorial\n",
        "  train_images, test_images = train_images / 255.0, test_images / 255.0\n",
        "\n",
        "\n",
        "  # Separamos conjunto de validación\n",
        "  train_images, val_images, train_labels, val_labels = train_test_split(\n",
        "      train_images, train_labels, test_size=0.2, random_state=0\n",
        "  )\n",
        "\n",
        "  # Compilamos y entrenamos\n",
        "\n",
        "  model.compile(\n",
        "      optimizer='adam',\n",
        "      loss=tf.keras.losses.SparseCategoricalCrossentropy(from_logits=True),\n",
        "      metrics=['accuracy']\n",
        "  )\n",
        "\n",
        "  history = model.fit(\n",
        "      train_images, \n",
        "      train_labels, \n",
        "      epochs=10, \n",
        "      validation_data=(val_images, val_labels)\n",
        "  )\n",
        "\n",
        "  return history, model"
      ],
      "metadata": {
        "id": "ZFkCxBg8Zq-p"
      },
      "execution_count": 3,
      "outputs": []
    },
    {
      "cell_type": "code",
      "source": [
        "history, model = ej1()"
      ],
      "metadata": {
        "colab": {
          "base_uri": "https://localhost:8080/"
        },
        "id": "pYwkKwpUcavp",
        "outputId": "0675d4ec-8be4-41ec-ed47-3eb779369b82"
      },
      "execution_count": 4,
      "outputs": [
        {
          "output_type": "stream",
          "name": "stdout",
          "text": [
            "Downloading data from https://www.cs.toronto.edu/~kriz/cifar-10-python.tar.gz\n",
            "170500096/170498071 [==============================] - 2s 0us/step\n",
            "170508288/170498071 [==============================] - 2s 0us/step\n",
            "Epoch 1/10\n",
            "1250/1250 [==============================] - 17s 5ms/step - loss: 1.5217 - accuracy: 0.4403 - val_loss: 1.2134 - val_accuracy: 0.5663\n",
            "Epoch 2/10\n",
            "1250/1250 [==============================] - 6s 5ms/step - loss: 1.0997 - accuracy: 0.6085 - val_loss: 1.0382 - val_accuracy: 0.6332\n",
            "Epoch 3/10\n",
            "1250/1250 [==============================] - 6s 5ms/step - loss: 0.9283 - accuracy: 0.6716 - val_loss: 0.9298 - val_accuracy: 0.6725\n",
            "Epoch 4/10\n",
            "1250/1250 [==============================] - 6s 5ms/step - loss: 0.8098 - accuracy: 0.7145 - val_loss: 0.8541 - val_accuracy: 0.7022\n",
            "Epoch 5/10\n",
            "1250/1250 [==============================] - 6s 5ms/step - loss: 0.7204 - accuracy: 0.7462 - val_loss: 0.8303 - val_accuracy: 0.7145\n",
            "Epoch 6/10\n",
            "1250/1250 [==============================] - 6s 5ms/step - loss: 0.6379 - accuracy: 0.7761 - val_loss: 0.8553 - val_accuracy: 0.7082\n",
            "Epoch 7/10\n",
            "1250/1250 [==============================] - 6s 5ms/step - loss: 0.5772 - accuracy: 0.7962 - val_loss: 0.8857 - val_accuracy: 0.7038\n",
            "Epoch 8/10\n",
            "1250/1250 [==============================] - 6s 5ms/step - loss: 0.5164 - accuracy: 0.8168 - val_loss: 0.9018 - val_accuracy: 0.7077\n",
            "Epoch 9/10\n",
            "1250/1250 [==============================] - 7s 5ms/step - loss: 0.4551 - accuracy: 0.8386 - val_loss: 0.9318 - val_accuracy: 0.7039\n",
            "Epoch 10/10\n",
            "1250/1250 [==============================] - 6s 5ms/step - loss: 0.4122 - accuracy: 0.8530 - val_loss: 0.9731 - val_accuracy: 0.7021\n"
          ]
        }
      ]
    },
    {
      "cell_type": "code",
      "source": [
        "# Calculamos el error a partir del accuracy para poder graficar\n",
        "train_error = map(lambda x: 1 - x, history.history['accuracy'])\n",
        "val_error = map(lambda x: 1 - x,  history.history['val_accuracy'])\n",
        "\n",
        "# Graficamos\n",
        "plt.plot(list(train_error), label='Train Error')\n",
        "plt.plot(list(val_error), label = 'Val Error')\n",
        "plt.xlabel('Epoca')\n",
        "plt.ylabel('Error')\n",
        "plt.legend()\n",
        "plt.title('Ejercicio 1')\n",
        "plt.show()\n"
      ],
      "metadata": {
        "colab": {
          "base_uri": "https://localhost:8080/",
          "height": 295
        },
        "id": "MGv4ms0fcdVj",
        "outputId": "51103a99-a8cb-40ec-8475-6228878b855e"
      },
      "execution_count": 5,
      "outputs": [
        {
          "output_type": "display_data",
          "data": {
            "text/plain": [
              "<Figure size 432x288 with 1 Axes>"
            ],
            "image/png": "[encoded data removed]"
          },
          "metadata": {
            "needs_background": "light"
          }
        }
      ]
    },
    {
      "cell_type": "code",
      "source": [
        "# Error de test\n",
        "\n",
        "(train_images, train_labels), (test_images, test_labels) = datasets.cifar10.load_data()\n",
        "test_loss, test_acc = model.evaluate(test_images,  test_labels)\n",
        "print(f\"Test error en el modelo final {1 - test_acc}\")"
      ],
      "metadata": {
        "colab": {
          "base_uri": "https://localhost:8080/"
        },
        "id": "b1uk08cZfA8w",
        "outputId": "12b2c893-4c01-41e0-d64c-dd0696f2b4f7"
      },
      "execution_count": 6,
      "outputs": [
        {
          "output_type": "stream",
          "name": "stdout",
          "text": [
            "313/313 [==============================] - 1s 4ms/step - loss: 348.4713 - accuracy: 0.4215\n",
            "Test error en el modelo final 0.5785000026226044\n"
          ]
        }
      ]
    },
    {
      "cell_type": "markdown",
      "source": [
        "### Conclusiones\n",
        "\n",
        "ta malisimo la verda creo que hay un toq de overfitting "
      ],
      "metadata": {
        "id": "vRcZs4OSjIaB"
      }
    },
    {
      "cell_type": "markdown",
      "source": [
        "## Ejercicio 2"
      ],
      "metadata": {
        "id": "l4bOOx9Ck85a"
      }
    },
    {
      "cell_type": "code",
      "source": [
        "def ej2():\n",
        "  ps = [0.2, 0.5]\n",
        "  results = []\n",
        "  for p in ps:\n",
        "    # Agregamos las capas\n",
        "    model = models.Sequential()\n",
        "    model.add(layers.Conv2D(32, (3, 3), activation='relu', padding='same', input_shape=(32, 32, 3)))\n",
        "    model.add(layers.MaxPooling2D((2, 2)))\n",
        "    model.add(layers.Conv2D(64, (3, 3), padding='same', activation='relu'))\n",
        "    model.add(layers.Conv2D(64, (3, 3), padding='same', activation='relu'))\n",
        "    model.add(layers.MaxPooling2D((2, 2)))\n",
        "    model.add(layers.Conv2D(64, (3, 3), padding='same', activation='relu'))\n",
        "    model.add(layers.Conv2D(64, (3, 3), padding='same', activation='relu'))\n",
        "    model.add(layers.Dropout(p, input_shape=(32, 32, 3))) # Dropout\n",
        "    model.add(layers.Flatten())\n",
        "    model.add(layers.Dense(64))\n",
        "    model.add(layers.Dropout(p, input_shape=(32, 32, 3))) # Dropout\n",
        "    model.add(layers.Dense(128))\n",
        "    model.add(layers.Dense(128))\n",
        "    model.add(layers.Dense(10))\n",
        "\n",
        "    (train_images, train_labels), (test_images, test_labels) = datasets.cifar10.load_data()\n",
        "\n",
        "    # Normalizamos como lo hace el ejemplo del tutorial\n",
        "    train_images, test_images = train_images / 255.0, test_images / 255.0\n",
        "\n",
        "\n",
        "    # Separamos conjunto de validación\n",
        "    train_images, val_images, train_labels, val_labels = train_test_split(\n",
        "        train_images, train_labels, test_size=0.2, random_state=0\n",
        "    )\n",
        "\n",
        "    # Compilamos y entrenamos\n",
        "\n",
        "    model.compile(\n",
        "        optimizer='adam',\n",
        "        loss=tf.keras.losses.SparseCategoricalCrossentropy(from_logits=True),\n",
        "        metrics=['accuracy']\n",
        "    )\n",
        "\n",
        "    history = model.fit(\n",
        "        train_images, \n",
        "        train_labels, \n",
        "        epochs=20,\n",
        "        validation_data=(val_images, val_labels)\n",
        "    )\n",
        "\n",
        "    results.append((history, model))\n",
        "\n",
        "  return results"
      ],
      "metadata": {
        "id": "e10NeNCTk-lO"
      },
      "execution_count": 7,
      "outputs": []
    },
    {
      "cell_type": "code",
      "source": [
        "models = ej2()"
      ],
      "metadata": {
        "id": "JMjg_GoamjJv",
        "outputId": "530d1e29-c165-4543-ca22-92d7ef47ea9d",
        "colab": {
          "base_uri": "https://localhost:8080/"
        }
      },
      "execution_count": 8,
      "outputs": [
        {
          "output_type": "stream",
          "name": "stdout",
          "text": [
            "Epoch 1/20\n",
            "1250/1250 [==============================] - 8s 6ms/step - loss: 1.5733 - accuracy: 0.4205 - val_loss: 1.3027 - val_accuracy: 0.5199\n",
            "Epoch 2/20\n",
            "1250/1250 [==============================] - 6s 5ms/step - loss: 1.1770 - accuracy: 0.5763 - val_loss: 1.0140 - val_accuracy: 0.6411\n",
            "Epoch 3/20\n",
            "1250/1250 [==============================] - 7s 5ms/step - loss: 0.9996 - accuracy: 0.6454 - val_loss: 0.9315 - val_accuracy: 0.6720\n",
            "Epoch 4/20\n",
            "1250/1250 [==============================] - 6s 5ms/step - loss: 0.8929 - accuracy: 0.6855 - val_loss: 0.8974 - val_accuracy: 0.6860\n",
            "Epoch 5/20\n",
            "1250/1250 [==============================] - 7s 5ms/step - loss: 0.8231 - accuracy: 0.7133 - val_loss: 0.8724 - val_accuracy: 0.6929\n",
            "Epoch 6/20\n",
            "1250/1250 [==============================] - 7s 5ms/step - loss: 0.7581 - accuracy: 0.7326 - val_loss: 0.8739 - val_accuracy: 0.7012\n",
            "Epoch 7/20\n",
            "1250/1250 [==============================] - 6s 5ms/step - loss: 0.7058 - accuracy: 0.7528 - val_loss: 0.8635 - val_accuracy: 0.7017\n",
            "Epoch 8/20\n",
            "1250/1250 [==============================] - 7s 5ms/step - loss: 0.6550 - accuracy: 0.7704 - val_loss: 0.8310 - val_accuracy: 0.7177\n",
            "Epoch 9/20\n",
            "1250/1250 [==============================] - 7s 5ms/step - loss: 0.6169 - accuracy: 0.7807 - val_loss: 0.7903 - val_accuracy: 0.7317\n",
            "Epoch 10/20\n",
            "1250/1250 [==============================] - 7s 5ms/step - loss: 0.5722 - accuracy: 0.7980 - val_loss: 0.8529 - val_accuracy: 0.7207\n",
            "Epoch 11/20\n",
            "1250/1250 [==============================] - 6s 5ms/step - loss: 0.5437 - accuracy: 0.8062 - val_loss: 0.8540 - val_accuracy: 0.7221\n",
            "Epoch 12/20\n",
            "1250/1250 [==============================] - 7s 5ms/step - loss: 0.5046 - accuracy: 0.8220 - val_loss: 0.8660 - val_accuracy: 0.7182\n",
            "Epoch 13/20\n",
            "1250/1250 [==============================] - 7s 5ms/step - loss: 0.4752 - accuracy: 0.8312 - val_loss: 0.8750 - val_accuracy: 0.7210\n",
            "Epoch 14/20\n",
            "1250/1250 [==============================] - 6s 5ms/step - loss: 0.4458 - accuracy: 0.8403 - val_loss: 0.8677 - val_accuracy: 0.7273\n",
            "Epoch 15/20\n",
            "1250/1250 [==============================] - 6s 5ms/step - loss: 0.4202 - accuracy: 0.8500 - val_loss: 0.8956 - val_accuracy: 0.7328\n",
            "Epoch 16/20\n",
            "1250/1250 [==============================] - 6s 5ms/step - loss: 0.3964 - accuracy: 0.8585 - val_loss: 0.9257 - val_accuracy: 0.7232\n",
            "Epoch 17/20\n",
            "1250/1250 [==============================] - 6s 5ms/step - loss: 0.3792 - accuracy: 0.8651 - val_loss: 0.9684 - val_accuracy: 0.7201\n",
            "Epoch 18/20\n",
            "1250/1250 [==============================] - 7s 5ms/step - loss: 0.3578 - accuracy: 0.8729 - val_loss: 0.9114 - val_accuracy: 0.7308\n",
            "Epoch 19/20\n",
            "1250/1250 [==============================] - 6s 5ms/step - loss: 0.3410 - accuracy: 0.8789 - val_loss: 0.9621 - val_accuracy: 0.7312\n",
            "Epoch 20/20\n",
            "1250/1250 [==============================] - 6s 5ms/step - loss: 0.3331 - accuracy: 0.8818 - val_loss: 1.0096 - val_accuracy: 0.7262\n",
            "Epoch 1/20\n",
            "1250/1250 [==============================] - 8s 6ms/step - loss: 1.7026 - accuracy: 0.3634 - val_loss: 1.3720 - val_accuracy: 0.4881\n",
            "Epoch 2/20\n",
            "1250/1250 [==============================] - 7s 6ms/step - loss: 1.3528 - accuracy: 0.5119 - val_loss: 1.1489 - val_accuracy: 0.5920\n",
            "Epoch 3/20\n",
            "1250/1250 [==============================] - 6s 5ms/step - loss: 1.1987 - accuracy: 0.5717 - val_loss: 1.0145 - val_accuracy: 0.6317\n",
            "Epoch 4/20\n",
            "1250/1250 [==============================] - 7s 6ms/step - loss: 1.0988 - accuracy: 0.6123 - val_loss: 0.9790 - val_accuracy: 0.6534\n",
            "Epoch 5/20\n",
            "1250/1250 [==============================] - 7s 5ms/step - loss: 1.0147 - accuracy: 0.6416 - val_loss: 0.9650 - val_accuracy: 0.6571\n",
            "Epoch 6/20\n",
            "1250/1250 [==============================] - 6s 5ms/step - loss: 0.9449 - accuracy: 0.6695 - val_loss: 0.9296 - val_accuracy: 0.6759\n",
            "Epoch 7/20\n",
            "1250/1250 [==============================] - 7s 6ms/step - loss: 0.9058 - accuracy: 0.6858 - val_loss: 0.9071 - val_accuracy: 0.6906\n",
            "Epoch 8/20\n",
            "1250/1250 [==============================] - 6s 5ms/step - loss: 0.8530 - accuracy: 0.7028 - val_loss: 0.8721 - val_accuracy: 0.6999\n",
            "Epoch 9/20\n",
            "1250/1250 [==============================] - 7s 6ms/step - loss: 0.8232 - accuracy: 0.7149 - val_loss: 0.8512 - val_accuracy: 0.7067\n",
            "Epoch 10/20\n",
            "1250/1250 [==============================] - 7s 6ms/step - loss: 0.7893 - accuracy: 0.7264 - val_loss: 0.8066 - val_accuracy: 0.7244\n",
            "Epoch 11/20\n",
            "1250/1250 [==============================] - 7s 6ms/step - loss: 0.7520 - accuracy: 0.7401 - val_loss: 0.9046 - val_accuracy: 0.6940\n",
            "Epoch 12/20\n",
            "1250/1250 [==============================] - 7s 6ms/step - loss: 0.7320 - accuracy: 0.7454 - val_loss: 0.7730 - val_accuracy: 0.7362\n",
            "Epoch 13/20\n",
            "1250/1250 [==============================] - 6s 5ms/step - loss: 0.6996 - accuracy: 0.7568 - val_loss: 0.7712 - val_accuracy: 0.7362\n",
            "Epoch 14/20\n",
            "1250/1250 [==============================] - 6s 5ms/step - loss: 0.6752 - accuracy: 0.7675 - val_loss: 0.7687 - val_accuracy: 0.7413\n",
            "Epoch 15/20\n",
            "1250/1250 [==============================] - 6s 5ms/step - loss: 0.6561 - accuracy: 0.7715 - val_loss: 0.8105 - val_accuracy: 0.7217\n",
            "Epoch 16/20\n",
            "1250/1250 [==============================] - 7s 6ms/step - loss: 0.6357 - accuracy: 0.7806 - val_loss: 0.7706 - val_accuracy: 0.7408\n",
            "Epoch 17/20\n",
            "1250/1250 [==============================] - 7s 6ms/step - loss: 0.6149 - accuracy: 0.7870 - val_loss: 0.7837 - val_accuracy: 0.7393\n",
            "Epoch 18/20\n",
            "1250/1250 [==============================] - 6s 5ms/step - loss: 0.5968 - accuracy: 0.7937 - val_loss: 0.7707 - val_accuracy: 0.7410\n",
            "Epoch 19/20\n",
            "1250/1250 [==============================] - 7s 6ms/step - loss: 0.5742 - accuracy: 0.8008 - val_loss: 0.7503 - val_accuracy: 0.7504\n",
            "Epoch 20/20\n",
            "1250/1250 [==============================] - 7s 6ms/step - loss: 0.5598 - accuracy: 0.8057 - val_loss: 0.7625 - val_accuracy: 0.7459\n"
          ]
        }
      ]
    },
    {
      "cell_type": "code",
      "source": [
        "# p = 0.2\n",
        "\n",
        "history, model = models[0]\n",
        "# Calculamos el error a partir del accuracy para poder graficar\n",
        "train_error = map(lambda x: 1 - x, history.history['accuracy'])\n",
        "val_error = map(lambda x: 1 - x,  history.history['val_accuracy'])\n",
        "\n",
        "# Graficamos\n",
        "plt.plot(range(1, 21), list(train_error), label='Train Error')\n",
        "plt.plot(range(1, 21), list(val_error), label = 'Val Error')\n",
        "plt.xlabel('Epoca')\n",
        "plt.ylabel('Error')\n",
        "plt.legend()\n",
        "plt.title('Ejercicio 2 - P = 0.2')\n",
        "plt.show()\n",
        "\n",
        "# Error de test\n",
        "\n",
        "(train_images, train_labels), (test_images, test_labels) = datasets.cifar10.load_data()\n",
        "test_loss, test_acc = model.evaluate(test_images,  test_labels)\n",
        "print(f\"Test error en el modelo final para p = 0.2: {1 - test_acc}\")\n"
      ],
      "metadata": {
        "id": "K6y-XMusmzGp",
        "outputId": "e36cd692-f574-4a11-e2ee-8e179cb6558b",
        "colab": {
          "base_uri": "https://localhost:8080/",
          "height": 330
        }
      },
      "execution_count": 9,
      "outputs": [
        {
          "output_type": "display_data",
          "data": {
            "text/plain": [
              "<Figure size 432x288 with 1 Axes>"
            ],
            "image/png": "[encoded data removed]"
          },
          "metadata": {
            "needs_background": "light"
          }
        },
        {
          "output_type": "stream",
          "name": "stdout",
          "text": [
            "313/313 [==============================] - 1s 4ms/step - loss: 352.1445 - accuracy: 0.4999\n",
            "Test error en el modelo final para p = 0.2: 0.5000999867916107\n"
          ]
        }
      ]
    },
    {
      "cell_type": "code",
      "source": [
        "# p = 0.5\n",
        "\n",
        "history, model = models[1]\n",
        "# Calculamos el error a partir del accuracy para poder graficar\n",
        "train_error = map(lambda x: 1 - x, history.history['accuracy'])\n",
        "val_error = map(lambda x: 1 - x,  history.history['val_accuracy'])\n",
        "\n",
        "# Graficamos\n",
        "plt.plot(range(1, 21), list(train_error), label='Train Error')\n",
        "plt.plot(range(1, 21), list(val_error), label = 'Val Error')\n",
        "plt.xlabel('Epoca')\n",
        "plt.ylabel('Error')\n",
        "plt.legend()\n",
        "plt.title('Ejercicio 2 - P = 0.5')\n",
        "plt.show()\n",
        "\n",
        "# Error de test\n",
        "\n",
        "(train_images, train_labels), (test_images, test_labels) = datasets.cifar10.load_data()\n",
        "test_loss, test_acc = model.evaluate(test_images,  test_labels)\n",
        "print(f\"Test error en el modelo final para p = 0.5: {1 - test_acc}\")"
      ],
      "metadata": {
        "id": "znzcN5HynNJY",
        "outputId": "ea2a5295-cfc5-4a39-8034-f3a5f55da2b8",
        "colab": {
          "base_uri": "https://localhost:8080/",
          "height": 330
        }
      },
      "execution_count": 11,
      "outputs": [
        {
          "output_type": "display_data",
          "data": {
            "text/plain": [
              "<Figure size 432x288 with 1 Axes>"
            ],
            "image/png": "[encoded data removed]"
          },
          "metadata": {
            "needs_background": "light"
          }
        },
        {
          "output_type": "stream",
          "name": "stdout",
          "text": [
            "313/313 [==============================] - 1s 4ms/step - loss: 148.0436 - accuracy: 0.5030\n",
            "Test error en el modelo final para p = 0.5: 0.49699997901916504\n"
          ]
        }
      ]
    },
    {
      "cell_type": "markdown",
      "source": [
        "### Conclusiones\n",
        "\n",
        "Hay menos sobreajuste con p = 0.5"
      ],
      "metadata": {
        "id": "MmA70vJ2S5Pk"
      }
    },
    {
      "cell_type": "markdown",
      "source": [
        "## Ejercicio 3"
      ],
      "metadata": {
        "id": "rHuaAKTITnwP"
      }
    },
    {
      "cell_type": "code",
      "source": [
        "img_height = 32\n",
        "img_width = 32\n",
        "data_augmentation = keras.Sequential(\n",
        "    [\n",
        "          layers.RandomFlip(\"horizontal\", input_shape=(img_height, img_width, 3)),\n",
        "          layers.RandomRotation(0.1),\n",
        "          layers.RandomZoom(0.1),\n",
        "     ]\n",
        ")\n",
        "\n",
        "def ej3():\n",
        "\n",
        "  # Agregamos las capas\n",
        "  model = models.Sequential()\n",
        "  model.add(data_augmentation)\n",
        "  model.add(layers.Conv2D(32, (3, 3), activation='relu', padding='same', input_shape=(32, 32, 3)))\n",
        "  model.add(layers.MaxPooling2D((2, 2)))\n",
        "  model.add(layers.Conv2D(64, (3, 3), padding='same', activation='relu'))\n",
        "  model.add(layers.Conv2D(64, (3, 3), padding='same', activation='relu'))\n",
        "  model.add(layers.MaxPooling2D((2, 2)))\n",
        "  model.add(layers.Conv2D(64, (3, 3), padding='same', activation='relu'))\n",
        "  model.add(layers.Conv2D(64, (3, 3), padding='same', activation='relu'))\n",
        "  model.add(layers.Dropout(0.5, input_shape=(32, 32, 3))) # Dropout\n",
        "  model.add(layers.MaxPooling2D((2, 2)))\n",
        "  model.add(layers.Flatten())\n",
        "  model.add(layers.Dense(64))\n",
        "  model.add(layers.Dropout(0.5, input_shape=(32, 32, 3))) # Dropout\n",
        "  model.add(layers.Dense(128))\n",
        "  model.add(layers.Dense(128))\n",
        "  model.add(layers.Dense(10))\n",
        "\n",
        "  (train_images, train_labels), (test_images, test_labels) = datasets.cifar10.load_data()\n",
        "\n",
        "  # Normalizamos como lo hace el ejemplo del tutorial\n",
        "  train_images, test_images = train_images / 255.0, test_images / 255.0\n",
        "\n",
        "\n",
        "  # Separamos conjunto de validación\n",
        "  train_images, val_images, train_labels, val_labels = train_test_split(\n",
        "      train_images, train_labels, test_size=0.2, random_state=0\n",
        "  )\n",
        "\n",
        "  # Compilamos y entrenamos\n",
        "\n",
        "  model.compile(\n",
        "      optimizer='adam',\n",
        "      loss=tf.keras.losses.SparseCategoricalCrossentropy(from_logits=True),\n",
        "      metrics=['accuracy']\n",
        "  )\n",
        "\n",
        "  history = model.fit(\n",
        "      train_images, \n",
        "      train_labels, \n",
        "      epochs=20,\n",
        "      validation_data=(val_images, val_labels)\n",
        "  )\n",
        "\n",
        "  return history, model"
      ],
      "metadata": {
        "id": "4HZODoLiTvSr"
      },
      "execution_count": null,
      "outputs": []
    },
    {
      "cell_type": "code",
      "source": [
        "history, model = ej3()"
      ],
      "metadata": {
        "id": "e2RSjfFTUXYW",
        "outputId": "539e0607-276e-464b-d592-c251c02b9092",
        "colab": {
          "base_uri": "https://localhost:8080/"
        }
      },
      "execution_count": null,
      "outputs": [
        {
          "output_type": "stream",
          "name": "stdout",
          "text": [
            "Downloading data from https://www.cs.toronto.edu/~kriz/cifar-10-python.tar.gz\n",
            "170500096/170498071 [==============================] - 2s 0us/step\n",
            "170508288/170498071 [==============================] - 2s 0us/step\n",
            "Epoch 1/20\n",
            "1250/1250 [==============================] - 21s 6ms/step - loss: 1.7908 - accuracy: 0.3362 - val_loss: 1.5845 - val_accuracy: 0.4509\n",
            "Epoch 2/20\n",
            "1250/1250 [==============================] - 7s 6ms/step - loss: 1.5256 - accuracy: 0.4422 - val_loss: 1.3498 - val_accuracy: 0.5318\n",
            "Epoch 3/20\n",
            "1250/1250 [==============================] - 8s 6ms/step - loss: 1.4340 - accuracy: 0.4805 - val_loss: 1.3451 - val_accuracy: 0.5332\n",
            "Epoch 4/20\n",
            "1250/1250 [==============================] - 8s 6ms/step - loss: 1.3644 - accuracy: 0.5102 - val_loss: 1.2224 - val_accuracy: 0.5852\n",
            "Epoch 5/20\n",
            "1250/1250 [==============================] - 7s 6ms/step - loss: 1.3153 - accuracy: 0.5303 - val_loss: 1.1909 - val_accuracy: 0.5892\n",
            "Epoch 6/20\n",
            "1250/1250 [==============================] - 7s 6ms/step - loss: 1.2831 - accuracy: 0.5443 - val_loss: 1.1339 - val_accuracy: 0.6161\n",
            "Epoch 7/20\n",
            "1250/1250 [==============================] - 8s 6ms/step - loss: 1.2441 - accuracy: 0.5610 - val_loss: 1.1011 - val_accuracy: 0.6141\n",
            "Epoch 8/20\n",
            "1250/1250 [==============================] - 9s 7ms/step - loss: 1.2202 - accuracy: 0.5681 - val_loss: 1.1011 - val_accuracy: 0.6303\n",
            "Epoch 9/20\n",
            "1250/1250 [==============================] - 8s 6ms/step - loss: 1.1967 - accuracy: 0.5775 - val_loss: 1.0509 - val_accuracy: 0.6419\n",
            "Epoch 10/20\n",
            "1250/1250 [==============================] - 7s 6ms/step - loss: 1.1750 - accuracy: 0.5885 - val_loss: 1.0334 - val_accuracy: 0.6569\n",
            "Epoch 11/20\n",
            "1250/1250 [==============================] - 8s 6ms/step - loss: 1.1578 - accuracy: 0.5937 - val_loss: 1.0518 - val_accuracy: 0.6375\n",
            "Epoch 12/20\n",
            "1250/1250 [==============================] - 8s 6ms/step - loss: 1.1376 - accuracy: 0.5991 - val_loss: 1.0321 - val_accuracy: 0.6568\n",
            "Epoch 13/20\n",
            "1250/1250 [==============================] - 8s 6ms/step - loss: 1.1235 - accuracy: 0.6068 - val_loss: 0.9977 - val_accuracy: 0.6595\n",
            "Epoch 14/20\n",
            "1250/1250 [==============================] - 7s 6ms/step - loss: 1.1043 - accuracy: 0.6136 - val_loss: 1.0041 - val_accuracy: 0.6540\n",
            "Epoch 15/20\n",
            "1250/1250 [==============================] - 8s 6ms/step - loss: 1.0925 - accuracy: 0.6192 - val_loss: 0.9771 - val_accuracy: 0.6629\n",
            "Epoch 16/20\n",
            "1250/1250 [==============================] - 7s 6ms/step - loss: 1.0748 - accuracy: 0.6246 - val_loss: 0.9521 - val_accuracy: 0.6825\n",
            "Epoch 17/20\n",
            "1250/1250 [==============================] - 8s 6ms/step - loss: 1.0568 - accuracy: 0.6306 - val_loss: 0.9292 - val_accuracy: 0.6896\n",
            "Epoch 18/20\n",
            "1250/1250 [==============================] - 7s 6ms/step - loss: 1.0434 - accuracy: 0.6374 - val_loss: 0.9226 - val_accuracy: 0.6930\n",
            "Epoch 19/20\n",
            "1250/1250 [==============================] - 8s 6ms/step - loss: 1.0392 - accuracy: 0.6371 - val_loss: 0.9212 - val_accuracy: 0.6950\n",
            "Epoch 20/20\n",
            "1250/1250 [==============================] - 7s 6ms/step - loss: 1.0235 - accuracy: 0.6425 - val_loss: 0.8994 - val_accuracy: 0.6941\n"
          ]
        }
      ]
    },
    {
      "cell_type": "code",
      "source": [
        "# Calculamos el error a partir del accuracy para poder graficar\n",
        "train_error = map(lambda x: 1 - x, history.history['accuracy'])\n",
        "val_error = map(lambda x: 1 - x,  history.history['val_accuracy'])\n",
        "\n",
        "# Graficamos\n",
        "plt.plot(range(1, 21), list(train_error), label='Train Error')\n",
        "plt.plot(range(1, 21), list(val_error), label = 'Val Error')\n",
        "plt.xlabel('Epoca')\n",
        "plt.ylabel('Error')\n",
        "plt.legend()\n",
        "plt.title('Ejercicio 3 - Data Augmentation')\n",
        "plt.show()\n",
        "\n",
        "# Error de test\n",
        "\n",
        "(train_images, train_labels), (test_images, test_labels) = datasets.cifar10.load_data()\n",
        "test_loss, test_acc = model.evaluate(test_images,  test_labels)\n",
        "print(f\"Test error en el modelo final: {1 - test_acc}\")"
      ],
      "metadata": {
        "id": "YMCy_LydVr5w",
        "outputId": "af465669-a663-41ab-8601-7dcbc0e81910",
        "colab": {
          "base_uri": "https://localhost:8080/",
          "height": 330
        }
      },
      "execution_count": null,
      "outputs": [
        {
          "output_type": "display_data",
          "data": {
            "text/plain": [
              "<Figure size 432x288 with 1 Axes>"
            ],
            "image/png": "[encoded data removed]"
          },
          "metadata": {
            "needs_background": "light"
          }
        },
        {
          "output_type": "stream",
          "name": "stdout",
          "text": [
            "313/313 [==============================] - 1s 3ms/step - loss: 147.3713 - accuracy: 0.4029\n",
            "Test error en el modelo final: 0.5970999896526337\n"
          ]
        }
      ]
    },
    {
      "cell_type": "markdown",
      "source": [
        "### Conclusiones\n",
        "\n",
        "Si hay menos sobreajuste"
      ],
      "metadata": {
        "id": "Jw1LspVLV6Wn"
      }
    }
  ],
  "metadata": {
    "language_info": {
      "name": "python"
    },
    "orig_nbformat": 4,
    "colab": {
      "name": "CNN.ipynb",
      "provenance": [],
      "toc_visible": true
    },
    "kernelspec": {
      "name": "python3",
      "display_name": "Python 3"
    },
    "gpuClass": "standard",
    "accelerator": "GPU"
  },
  "nbformat": 4,
  "nbformat_minor": 0
}