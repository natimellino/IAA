{
  "cells": [
    {
      "cell_type": "markdown",
      "metadata": {
        "id": "KnVj-slC1wcs"
      },
      "source": [
        "# TP Final - Redes Neuronales Convolucionales\n",
        "## Mellino, Natalia - Introducción al Aprendizaje Automatizado"
      ]
    },
    {
      "cell_type": "code",
      "source": [
        "# Imports\n",
        "\n",
        "import tensorflow as tf\n",
        "\n",
        "from tensorflow.keras import datasets, layers, models\n",
        "import matplotlib.pyplot as plt\n",
        "from sklearn.model_selection import train_test_split"
      ],
      "metadata": {
        "id": "lsVzSddZ1yxS"
      },
      "execution_count": 4,
      "outputs": []
    },
    {
      "cell_type": "code",
      "source": [
        "# Ejemplo\n",
        "\n",
        "(train_images, train_labels), (test_images, test_labels) = datasets.cifar10.load_data()\n",
        "\n",
        "# Normalize pixel values to be between 0 and 1\n",
        "train_images, test_images = train_images / 255.0, test_images / 255.0"
      ],
      "metadata": {
        "id": "kIJloJOV2bB9",
        "outputId": "0a236a31-6d03-444c-8006-8c03986ba33e",
        "colab": {
          "base_uri": "https://localhost:8080/"
        }
      },
      "execution_count": 2,
      "outputs": [
        {
          "output_type": "stream",
          "name": "stdout",
          "text": [
            "Downloading data from https://www.cs.toronto.edu/~kriz/cifar-10-python.tar.gz\n",
            "170500096/170498071 [==============================] - 2s 0us/step\n",
            "170508288/170498071 [==============================] - 2s 0us/step\n"
          ]
        }
      ]
    },
    {
      "cell_type": "code",
      "source": [
        "class_names = ['airplane', 'automobile', 'bird', 'cat', 'deer',\n",
        "               'dog', 'frog', 'horse', 'ship', 'truck']\n",
        "\n",
        "plt.figure(figsize=(10,10))\n",
        "for i in range(25):\n",
        "    plt.subplot(5,5,i+1)\n",
        "    plt.xticks([])\n",
        "    plt.yticks([])\n",
        "    plt.grid(False)\n",
        "    plt.imshow(train_images[i])\n",
        "    # The CIFAR labels happen to be arrays, \n",
        "    # which is why you need the extra index\n",
        "    plt.xlabel(class_names[train_labels[i][0]])\n",
        "plt.show()"
      ],
      "metadata": {
        "id": "VHrmoGLy2qFE"
      },
      "execution_count": null,
      "outputs": []
    },
    {
      "cell_type": "code",
      "source": [
        "model = models.Sequential()\n",
        "model.add(layers.Conv2D(32, (3, 3), activation='relu', input_shape=(32, 32, 3)))\n",
        "model.add(layers.MaxPooling2D((2, 2)))\n",
        "model.add(layers.Conv2D(64, (3, 3), activation='relu'))\n",
        "model.add(layers.MaxPooling2D((2, 2)))\n",
        "model.add(layers.Conv2D(64, (3, 3), activation='relu'))\n",
        "model.add(layers.Flatten())\n",
        "model.add(layers.Dense(64, activation='relu'))\n",
        "model.add(layers.Dense(10))"
      ],
      "metadata": {
        "id": "hGP23iII29WD"
      },
      "execution_count": null,
      "outputs": []
    },
    {
      "cell_type": "code",
      "source": [
        "model.compile(optimizer='adam',\n",
        "              loss=tf.keras.losses.SparseCategoricalCrossentropy(from_logits=True),\n",
        "              metrics=['accuracy'])\n",
        "\n",
        "history = model.fit(train_images, train_labels, epochs=10, \n",
        "                    validation_data=(test_images, test_labels))"
      ],
      "metadata": {
        "id": "MGyAw1yW3CNT"
      },
      "execution_count": null,
      "outputs": []
    },
    {
      "cell_type": "code",
      "source": [
        "plt.plot(history.history['accuracy'], label='accuracy')\n",
        "plt.plot(history.history['val_accuracy'], label = 'val_accuracy')\n",
        "plt.xlabel('Epoch')\n",
        "plt.ylabel('Accuracy')\n",
        "plt.ylim([0.5, 1])\n",
        "plt.legend(loc='lower right')\n",
        "\n",
        "test_loss, test_acc = model.evaluate(test_images,  test_labels, verbose=2)"
      ],
      "metadata": {
        "id": "wWEBfHUj343j"
      },
      "execution_count": null,
      "outputs": []
    },
    {
      "cell_type": "code",
      "source": [
        "print(test_acc)"
      ],
      "metadata": {
        "id": "HbHrsz_o3-Wa"
      },
      "execution_count": null,
      "outputs": []
    },
    {
      "cell_type": "markdown",
      "source": [
        "## Ejercicio 1"
      ],
      "metadata": {
        "id": "pFUnVZ6Cg1fv"
      }
    },
    {
      "cell_type": "code",
      "source": [
        "def ej1():\n",
        "  # Agregamos las capas\n",
        "  model = models.Sequential()\n",
        "  model.add(layers.Conv2D(32, (3, 3), activation='relu', padding='same', input_shape=(32, 32, 3)))\n",
        "  model.add(layers.MaxPooling2D((2, 2)))\n",
        "  model.add(layers.Conv2D(64, (3, 3), padding='same', activation='relu'))\n",
        "  model.add(layers.Conv2D(64, (3, 3), padding='same', activation='relu'))\n",
        "  model.add(layers.MaxPooling2D((2, 2)))\n",
        "  model.add(layers.Conv2D(64, (3, 3), padding='same', activation='relu'))\n",
        "  model.add(layers.Conv2D(64, (3, 3), padding='same', activation='relu'))\n",
        "  model.add(layers.MaxPooling2D((2, 2)))\n",
        "  model.add(layers.Flatten())\n",
        "  model.add(layers.Dense(64))\n",
        "  model.add(layers.Dense(128))\n",
        "  model.add(layers.Dense(128))\n",
        "  model.add(layers.Dense(10))\n",
        "\n",
        "  (train_images, train_labels), (test_images, test_labels) = datasets.cifar10.load_data()\n",
        "\n",
        "  # Normalizamos como lo hace el ejemplo del tutorial\n",
        "  train_images, test_images = train_images / 255.0, test_images / 255.0\n",
        "\n",
        "\n",
        "  # Separamos conjunto de validación\n",
        "  train_images, val_images, train_labels, val_labels = train_test_split(\n",
        "      train_images, train_labels, test_size=0.2, random_state=0\n",
        "  )\n",
        "\n",
        "  # Compilamos y entrenamos\n",
        "\n",
        "  model.compile(\n",
        "      optimizer='adam',\n",
        "      loss=tf.keras.losses.SparseCategoricalCrossentropy(from_logits=True),\n",
        "      metrics=['accuracy']\n",
        "  )\n",
        "\n",
        "  history = model.fit(\n",
        "      train_images, \n",
        "      train_labels, \n",
        "      epochs=10, \n",
        "      validation_data=(val_images, val_labels)\n",
        "  )\n",
        "\n",
        "  return history, model"
      ],
      "metadata": {
        "id": "ZFkCxBg8Zq-p"
      },
      "execution_count": 12,
      "outputs": []
    },
    {
      "cell_type": "code",
      "source": [
        "history, model = ej1()"
      ],
      "metadata": {
        "colab": {
          "base_uri": "https://localhost:8080/"
        },
        "id": "pYwkKwpUcavp",
        "outputId": "634990da-c5ce-4d32-ceb5-8b281135c0d6"
      },
      "execution_count": 13,
      "outputs": [
        {
          "output_type": "stream",
          "name": "stdout",
          "text": [
            "Epoch 1/10\n",
            "1250/1250 [==============================] - 7s 5ms/step - loss: 1.5487 - accuracy: 0.4237 - val_loss: 1.3047 - val_accuracy: 0.5334\n",
            "Epoch 2/10\n",
            "1250/1250 [==============================] - 6s 5ms/step - loss: 1.1273 - accuracy: 0.6009 - val_loss: 1.0793 - val_accuracy: 0.6207\n",
            "Epoch 3/10\n",
            "1250/1250 [==============================] - 6s 5ms/step - loss: 0.9511 - accuracy: 0.6613 - val_loss: 0.9040 - val_accuracy: 0.6831\n",
            "Epoch 4/10\n",
            "1250/1250 [==============================] - 7s 6ms/step - loss: 0.8366 - accuracy: 0.7049 - val_loss: 0.8736 - val_accuracy: 0.6959\n",
            "Epoch 5/10\n",
            "1250/1250 [==============================] - 7s 6ms/step - loss: 0.7629 - accuracy: 0.7313 - val_loss: 0.8417 - val_accuracy: 0.7121\n",
            "Epoch 6/10\n",
            "1250/1250 [==============================] - 6s 5ms/step - loss: 0.6992 - accuracy: 0.7516 - val_loss: 0.8384 - val_accuracy: 0.7093\n",
            "Epoch 7/10\n",
            "1250/1250 [==============================] - 6s 5ms/step - loss: 0.6325 - accuracy: 0.7760 - val_loss: 0.8395 - val_accuracy: 0.7157\n",
            "Epoch 8/10\n",
            "1250/1250 [==============================] - 6s 5ms/step - loss: 0.5904 - accuracy: 0.7897 - val_loss: 0.8514 - val_accuracy: 0.7149\n",
            "Epoch 9/10\n",
            "1250/1250 [==============================] - 6s 5ms/step - loss: 0.5397 - accuracy: 0.8091 - val_loss: 0.8472 - val_accuracy: 0.7209\n",
            "Epoch 10/10\n",
            "1250/1250 [==============================] - 6s 5ms/step - loss: 0.4949 - accuracy: 0.8232 - val_loss: 0.8705 - val_accuracy: 0.7225\n"
          ]
        }
      ]
    },
    {
      "cell_type": "code",
      "source": [
        "# Calculamos el error a partir del accuracy para poder graficar\n",
        "train_error = map(lambda x: 1 - x, history.history['accuracy'])\n",
        "val_error = map(lambda x: 1 - x,  history.history['val_accuracy'])\n",
        "\n",
        "# Graficamos\n",
        "plt.plot(list(train_error), label='Train Error')\n",
        "plt.plot(list(val_error), label = 'Val Error')\n",
        "plt.xlabel('Epoca')\n",
        "plt.ylabel('Error')\n",
        "plt.legend()\n",
        "plt.title('Ejercicio 1')\n",
        "plt.show()\n"
      ],
      "metadata": {
        "colab": {
          "base_uri": "https://localhost:8080/",
          "height": 295
        },
        "id": "MGv4ms0fcdVj",
        "outputId": "fe8ab34b-f134-4280-ea76-b6e668badc52"
      },
      "execution_count": 28,
      "outputs": [
        {
          "output_type": "display_data",
          "data": {
            "text/plain": [
              "<Figure size 432x288 with 1 Axes>"
            ],
            "image/png": "[encoded data removed]"
          },
          "metadata": {
            "needs_background": "light"
          }
        }
      ]
    },
    {
      "cell_type": "code",
      "source": [
        "# Error de test\n",
        "\n",
        "(train_images, train_labels), (test_images, test_labels) = datasets.cifar10.load_data()\n",
        "test_loss, test_acc = model.evaluate(test_images,  test_labels)\n",
        "print(f\"Test error en el modelo final {1 - test_acc}\")"
      ],
      "metadata": {
        "colab": {
          "base_uri": "https://localhost:8080/"
        },
        "id": "b1uk08cZfA8w",
        "outputId": "7cc74017-3337-42da-9280-19adfa1e5fa8"
      },
      "execution_count": 27,
      "outputs": [
        {
          "output_type": "stream",
          "name": "stdout",
          "text": [
            "313/313 [==============================] - 1s 4ms/step - loss: 251.2352 - accuracy: 0.4872\n",
            "Test error en el modelo final 0.512800008058548\n"
          ]
        }
      ]
    },
    {
      "cell_type": "markdown",
      "source": [
        "### Conclusiones\n",
        "\n",
        "ta malisimo la verda creo que hay un toq de overfitting "
      ],
      "metadata": {
        "id": "vRcZs4OSjIaB"
      }
    }
  ],
  "metadata": {
    "language_info": {
      "name": "python"
    },
    "orig_nbformat": 4,
    "colab": {
      "name": "CNN.ipynb",
      "provenance": [],
      "toc_visible": true
    },
    "kernelspec": {
      "name": "python3",
      "display_name": "Python 3"
    },
    "gpuClass": "standard",
    "accelerator": "GPU"
  },
  "nbformat": 4,
  "nbformat_minor": 0
}