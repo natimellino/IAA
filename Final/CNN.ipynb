{
  "cells": [
    {
      "cell_type": "markdown",
      "metadata": {
        "id": "KnVj-slC1wcs"
      },
      "source": [
        "# TP Final - Redes Neuronales Convolucionales\n",
        "## Mellino, Natalia - Introducción al Aprendizaje Automatizado"
      ]
    },
    {
      "cell_type": "code",
      "source": [
        "# Imports\n",
        "\n",
        "import tensorflow as tf\n",
        "\n",
        "from tensorflow import keras\n",
        "from tensorflow.keras import datasets, layers, models\n",
        "import matplotlib.pyplot as plt\n",
        "from sklearn.model_selection import train_test_split"
      ],
      "metadata": {
        "id": "lsVzSddZ1yxS"
      },
      "execution_count": 3,
      "outputs": []
    },
    {
      "cell_type": "code",
      "source": [
        "# Ejemplo\n",
        "\n",
        "(train_images, train_labels), (test_images, test_labels) = datasets.cifar10.load_data()\n",
        "\n",
        "# Normalize pixel values to be between 0 and 1\n",
        "train_images, test_images = train_images / 255.0, test_images / 255.0"
      ],
      "metadata": {
        "id": "kIJloJOV2bB9",
        "outputId": "0a236a31-6d03-444c-8006-8c03986ba33e",
        "colab": {
          "base_uri": "https://localhost:8080/"
        }
      },
      "execution_count": null,
      "outputs": [
        {
          "output_type": "stream",
          "name": "stdout",
          "text": [
            "Downloading data from https://www.cs.toronto.edu/~kriz/cifar-10-python.tar.gz\n",
            "170500096/170498071 [==============================] - 2s 0us/step\n",
            "170508288/170498071 [==============================] - 2s 0us/step\n"
          ]
        }
      ]
    },
    {
      "cell_type": "code",
      "source": [
        "class_names = ['airplane', 'automobile', 'bird', 'cat', 'deer',\n",
        "               'dog', 'frog', 'horse', 'ship', 'truck']\n",
        "\n",
        "plt.figure(figsize=(10,10))\n",
        "for i in range(25):\n",
        "    plt.subplot(5,5,i+1)\n",
        "    plt.xticks([])\n",
        "    plt.yticks([])\n",
        "    plt.grid(False)\n",
        "    plt.imshow(train_images[i])\n",
        "    # The CIFAR labels happen to be arrays, \n",
        "    # which is why you need the extra index\n",
        "    plt.xlabel(class_names[train_labels[i][0]])\n",
        "plt.show()"
      ],
      "metadata": {
        "id": "VHrmoGLy2qFE"
      },
      "execution_count": null,
      "outputs": []
    },
    {
      "cell_type": "code",
      "source": [
        "model = models.Sequential()\n",
        "model.add(layers.Conv2D(32, (3, 3), activation='relu', input_shape=(32, 32, 3)))\n",
        "model.add(layers.MaxPooling2D((2, 2)))\n",
        "model.add(layers.Conv2D(64, (3, 3), activation='relu'))\n",
        "model.add(layers.MaxPooling2D((2, 2)))\n",
        "model.add(layers.Conv2D(64, (3, 3), activation='relu'))\n",
        "model.add(layers.Flatten())\n",
        "model.add(layers.Dense(64, activation='relu'))\n",
        "model.add(layers.Dense(10))"
      ],
      "metadata": {
        "id": "hGP23iII29WD"
      },
      "execution_count": null,
      "outputs": []
    },
    {
      "cell_type": "code",
      "source": [
        "model.compile(optimizer='adam',\n",
        "              loss=tf.keras.losses.SparseCategoricalCrossentropy(from_logits=True),\n",
        "              metrics=['accuracy'])\n",
        "\n",
        "history = model.fit(train_images, train_labels, epochs=10, \n",
        "                    validation_data=(test_images, test_labels))"
      ],
      "metadata": {
        "id": "MGyAw1yW3CNT"
      },
      "execution_count": null,
      "outputs": []
    },
    {
      "cell_type": "code",
      "source": [
        "plt.plot(history.history['accuracy'], label='accuracy')\n",
        "plt.plot(history.history['val_accuracy'], label = 'val_accuracy')\n",
        "plt.xlabel('Epoch')\n",
        "plt.ylabel('Accuracy')\n",
        "plt.ylim([0.5, 1])\n",
        "plt.legend(loc='lower right')\n",
        "\n",
        "test_loss, test_acc = model.evaluate(test_images,  test_labels, verbose=2)"
      ],
      "metadata": {
        "id": "wWEBfHUj343j"
      },
      "execution_count": null,
      "outputs": []
    },
    {
      "cell_type": "code",
      "source": [
        "print(test_acc)"
      ],
      "metadata": {
        "id": "HbHrsz_o3-Wa"
      },
      "execution_count": null,
      "outputs": []
    },
    {
      "cell_type": "markdown",
      "source": [
        "## Ejercicio 1"
      ],
      "metadata": {
        "id": "pFUnVZ6Cg1fv"
      }
    },
    {
      "cell_type": "code",
      "source": [
        "def ej1():\n",
        "  # Agregamos las capas\n",
        "  model = models.Sequential()\n",
        "  model.add(layers.Conv2D(32, (3, 3), activation='relu', padding='same', input_shape=(32, 32, 3)))\n",
        "  model.add(layers.MaxPooling2D((2, 2)))\n",
        "  model.add(layers.Conv2D(64, (3, 3), padding='same', activation='relu'))\n",
        "  model.add(layers.Conv2D(64, (3, 3), padding='same', activation='relu'))\n",
        "  model.add(layers.MaxPooling2D((2, 2)))\n",
        "  model.add(layers.Conv2D(64, (3, 3), padding='same', activation='relu'))\n",
        "  model.add(layers.Conv2D(64, (3, 3), padding='same', activation='relu'))\n",
        "  model.add(layers.MaxPooling2D((2, 2)))\n",
        "  model.add(layers.Flatten())\n",
        "  model.add(layers.Dense(64))\n",
        "  model.add(layers.Dense(128))\n",
        "  model.add(layers.Dense(128))\n",
        "  model.add(layers.Dense(10))\n",
        "\n",
        "  (train_images, train_labels), (test_images, test_labels) = datasets.cifar10.load_data()\n",
        "\n",
        "  # Normalizamos como lo hace el ejemplo del tutorial\n",
        "  train_images, test_images = train_images / 255.0, test_images / 255.0\n",
        "\n",
        "\n",
        "  # Separamos conjunto de validación\n",
        "  train_images, val_images, train_labels, val_labels = train_test_split(\n",
        "      train_images, train_labels, test_size=0.2, random_state=0\n",
        "  )\n",
        "\n",
        "  # Compilamos y entrenamos\n",
        "\n",
        "  model.compile(\n",
        "      optimizer='adam',\n",
        "      loss=tf.keras.losses.SparseCategoricalCrossentropy(from_logits=True),\n",
        "      metrics=['accuracy']\n",
        "  )\n",
        "\n",
        "  history = model.fit(\n",
        "      train_images, \n",
        "      train_labels, \n",
        "      epochs=10, \n",
        "      validation_data=(val_images, val_labels)\n",
        "  )\n",
        "\n",
        "  return history, model"
      ],
      "metadata": {
        "id": "ZFkCxBg8Zq-p"
      },
      "execution_count": null,
      "outputs": []
    },
    {
      "cell_type": "code",
      "source": [
        "history, model = ej1()"
      ],
      "metadata": {
        "colab": {
          "base_uri": "https://localhost:8080/"
        },
        "id": "pYwkKwpUcavp",
        "outputId": "634990da-c5ce-4d32-ceb5-8b281135c0d6"
      },
      "execution_count": null,
      "outputs": [
        {
          "output_type": "stream",
          "name": "stdout",
          "text": [
            "Epoch 1/10\n",
            "1250/1250 [==============================] - 7s 5ms/step - loss: 1.5487 - accuracy: 0.4237 - val_loss: 1.3047 - val_accuracy: 0.5334\n",
            "Epoch 2/10\n",
            "1250/1250 [==============================] - 6s 5ms/step - loss: 1.1273 - accuracy: 0.6009 - val_loss: 1.0793 - val_accuracy: 0.6207\n",
            "Epoch 3/10\n",
            "1250/1250 [==============================] - 6s 5ms/step - loss: 0.9511 - accuracy: 0.6613 - val_loss: 0.9040 - val_accuracy: 0.6831\n",
            "Epoch 4/10\n",
            "1250/1250 [==============================] - 7s 6ms/step - loss: 0.8366 - accuracy: 0.7049 - val_loss: 0.8736 - val_accuracy: 0.6959\n",
            "Epoch 5/10\n",
            "1250/1250 [==============================] - 7s 6ms/step - loss: 0.7629 - accuracy: 0.7313 - val_loss: 0.8417 - val_accuracy: 0.7121\n",
            "Epoch 6/10\n",
            "1250/1250 [==============================] - 6s 5ms/step - loss: 0.6992 - accuracy: 0.7516 - val_loss: 0.8384 - val_accuracy: 0.7093\n",
            "Epoch 7/10\n",
            "1250/1250 [==============================] - 6s 5ms/step - loss: 0.6325 - accuracy: 0.7760 - val_loss: 0.8395 - val_accuracy: 0.7157\n",
            "Epoch 8/10\n",
            "1250/1250 [==============================] - 6s 5ms/step - loss: 0.5904 - accuracy: 0.7897 - val_loss: 0.8514 - val_accuracy: 0.7149\n",
            "Epoch 9/10\n",
            "1250/1250 [==============================] - 6s 5ms/step - loss: 0.5397 - accuracy: 0.8091 - val_loss: 0.8472 - val_accuracy: 0.7209\n",
            "Epoch 10/10\n",
            "1250/1250 [==============================] - 6s 5ms/step - loss: 0.4949 - accuracy: 0.8232 - val_loss: 0.8705 - val_accuracy: 0.7225\n"
          ]
        }
      ]
    },
    {
      "cell_type": "code",
      "source": [
        "# Calculamos el error a partir del accuracy para poder graficar\n",
        "train_error = map(lambda x: 1 - x, history.history['accuracy'])\n",
        "val_error = map(lambda x: 1 - x,  history.history['val_accuracy'])\n",
        "\n",
        "# Graficamos\n",
        "plt.plot(list(train_error), label='Train Error')\n",
        "plt.plot(list(val_error), label = 'Val Error')\n",
        "plt.xlabel('Epoca')\n",
        "plt.ylabel('Error')\n",
        "plt.legend()\n",
        "plt.title('Ejercicio 1')\n",
        "plt.show()\n"
      ],
      "metadata": {
        "colab": {
          "base_uri": "https://localhost:8080/",
          "height": 295
        },
        "id": "MGv4ms0fcdVj",
        "outputId": "fe8ab34b-f134-4280-ea76-b6e668badc52"
      },
      "execution_count": null,
      "outputs": [
        {
          "output_type": "display_data",
          "data": {
            "text/plain": [
              "<Figure size 432x288 with 1 Axes>"
            ],
            "image/png": "[encoded data removed]"
          },
          "metadata": {
            "needs_background": "light"
          }
        }
      ]
    },
    {
      "cell_type": "code",
      "source": [
        "# Error de test\n",
        "\n",
        "(train_images, train_labels), (test_images, test_labels) = datasets.cifar10.load_data()\n",
        "test_loss, test_acc = model.evaluate(test_images,  test_labels)\n",
        "print(f\"Test error en el modelo final {1 - test_acc}\")"
      ],
      "metadata": {
        "colab": {
          "base_uri": "https://localhost:8080/"
        },
        "id": "b1uk08cZfA8w",
        "outputId": "7cc74017-3337-42da-9280-19adfa1e5fa8"
      },
      "execution_count": null,
      "outputs": [
        {
          "output_type": "stream",
          "name": "stdout",
          "text": [
            "313/313 [==============================] - 1s 4ms/step - loss: 251.2352 - accuracy: 0.4872\n",
            "Test error en el modelo final 0.512800008058548\n"
          ]
        }
      ]
    },
    {
      "cell_type": "markdown",
      "source": [
        "### Conclusiones\n",
        "\n",
        "ta malisimo la verda creo que hay un toq de overfitting "
      ],
      "metadata": {
        "id": "vRcZs4OSjIaB"
      }
    },
    {
      "cell_type": "markdown",
      "source": [
        "## Ejercicio 2"
      ],
      "metadata": {
        "id": "l4bOOx9Ck85a"
      }
    },
    {
      "cell_type": "code",
      "source": [
        "def ej2():\n",
        "  ps = [0.2, 0.5]\n",
        "  results = []\n",
        "  for p in ps:\n",
        "    # Agregamos las capas\n",
        "    model = models.Sequential()\n",
        "    model.add(layers.Conv2D(32, (3, 3), activation='relu', padding='same', input_shape=(32, 32, 3)))\n",
        "    model.add(layers.MaxPooling2D((2, 2)))\n",
        "    model.add(layers.Conv2D(64, (3, 3), padding='same', activation='relu'))\n",
        "    model.add(layers.Conv2D(64, (3, 3), padding='same', activation='relu'))\n",
        "    model.add(layers.MaxPooling2D((2, 2)))\n",
        "    model.add(layers.Conv2D(64, (3, 3), padding='same', activation='relu'))\n",
        "    model.add(layers.Conv2D(64, (3, 3), padding='same', activation='relu'))\n",
        "    model.add(layers.Dropout(p, input_shape=(32, 32, 3))) # Dropout\n",
        "    model.add(layers.MaxPooling2D((2, 2)))\n",
        "    model.add(layers.Flatten())\n",
        "    model.add(layers.Dense(64))\n",
        "    model.add(layers.Dropout(p, input_shape=(32, 32, 3))) # Dropout\n",
        "    model.add(layers.Dense(128))\n",
        "    model.add(layers.Dense(128))\n",
        "    model.add(layers.Dense(10))\n",
        "\n",
        "    (train_images, train_labels), (test_images, test_labels) = datasets.cifar10.load_data()\n",
        "\n",
        "    # Normalizamos como lo hace el ejemplo del tutorial\n",
        "    train_images, test_images = train_images / 255.0, test_images / 255.0\n",
        "\n",
        "\n",
        "    # Separamos conjunto de validación\n",
        "    train_images, val_images, train_labels, val_labels = train_test_split(\n",
        "        train_images, train_labels, test_size=0.2, random_state=0\n",
        "    )\n",
        "\n",
        "    # Compilamos y entrenamos\n",
        "\n",
        "    model.compile(\n",
        "        optimizer='adam',\n",
        "        loss=tf.keras.losses.SparseCategoricalCrossentropy(from_logits=True),\n",
        "        metrics=['accuracy']\n",
        "    )\n",
        "\n",
        "    history = model.fit(\n",
        "        train_images, \n",
        "        train_labels, \n",
        "        epochs=20,\n",
        "        validation_data=(val_images, val_labels)\n",
        "    )\n",
        "\n",
        "    results.append((history, model))\n",
        "\n",
        "  return results"
      ],
      "metadata": {
        "id": "e10NeNCTk-lO"
      },
      "execution_count": null,
      "outputs": []
    },
    {
      "cell_type": "code",
      "source": [
        "models = ej2()"
      ],
      "metadata": {
        "id": "JMjg_GoamjJv",
        "outputId": "049476ab-de41-4b92-d57a-fbd41b4d9cc9",
        "colab": {
          "base_uri": "https://localhost:8080/"
        }
      },
      "execution_count": null,
      "outputs": [
        {
          "output_type": "stream",
          "name": "stdout",
          "text": [
            "Epoch 1/20\n",
            "1250/1250 [==============================] - 8s 6ms/step - loss: 1.6113 - accuracy: 0.4034 - val_loss: 1.3682 - val_accuracy: 0.4925\n",
            "Epoch 2/20\n",
            "1250/1250 [==============================] - 8s 6ms/step - loss: 1.2127 - accuracy: 0.5641 - val_loss: 1.1416 - val_accuracy: 0.5993\n",
            "Epoch 3/20\n",
            "1250/1250 [==============================] - 6s 5ms/step - loss: 1.0525 - accuracy: 0.6301 - val_loss: 0.9951 - val_accuracy: 0.6566\n",
            "Epoch 4/20\n",
            "1250/1250 [==============================] - 7s 5ms/step - loss: 0.9514 - accuracy: 0.6659 - val_loss: 0.8974 - val_accuracy: 0.6872\n",
            "Epoch 5/20\n",
            "1250/1250 [==============================] - 8s 6ms/step - loss: 0.8806 - accuracy: 0.6921 - val_loss: 0.8850 - val_accuracy: 0.6930\n",
            "Epoch 6/20\n",
            "1250/1250 [==============================] - 7s 6ms/step - loss: 0.8113 - accuracy: 0.7158 - val_loss: 0.8648 - val_accuracy: 0.6995\n",
            "Epoch 7/20\n",
            "1250/1250 [==============================] - 6s 5ms/step - loss: 0.7684 - accuracy: 0.7310 - val_loss: 0.8338 - val_accuracy: 0.7089\n",
            "Epoch 8/20\n",
            "1250/1250 [==============================] - 7s 6ms/step - loss: 0.7224 - accuracy: 0.7459 - val_loss: 0.8506 - val_accuracy: 0.6971\n",
            "Epoch 9/20\n",
            "1250/1250 [==============================] - 7s 6ms/step - loss: 0.6815 - accuracy: 0.7616 - val_loss: 0.8231 - val_accuracy: 0.7151\n",
            "Epoch 10/20\n",
            "1250/1250 [==============================] - 8s 6ms/step - loss: 0.6490 - accuracy: 0.7722 - val_loss: 0.8389 - val_accuracy: 0.7116\n",
            "Epoch 11/20\n",
            "1250/1250 [==============================] - 6s 5ms/step - loss: 0.6166 - accuracy: 0.7852 - val_loss: 0.7889 - val_accuracy: 0.7265\n",
            "Epoch 12/20\n",
            "1250/1250 [==============================] - 7s 5ms/step - loss: 0.5831 - accuracy: 0.7957 - val_loss: 0.8230 - val_accuracy: 0.7220\n",
            "Epoch 13/20\n",
            "1250/1250 [==============================] - 7s 6ms/step - loss: 0.5569 - accuracy: 0.8046 - val_loss: 0.8120 - val_accuracy: 0.7249\n",
            "Epoch 14/20\n",
            "1250/1250 [==============================] - 7s 5ms/step - loss: 0.5345 - accuracy: 0.8112 - val_loss: 0.7847 - val_accuracy: 0.7311\n",
            "Epoch 15/20\n",
            "1250/1250 [==============================] - 7s 5ms/step - loss: 0.5103 - accuracy: 0.8188 - val_loss: 0.8247 - val_accuracy: 0.7303\n",
            "Epoch 16/20\n",
            "1250/1250 [==============================] - 7s 6ms/step - loss: 0.4922 - accuracy: 0.8265 - val_loss: 0.7968 - val_accuracy: 0.7328\n",
            "Epoch 17/20\n",
            "1250/1250 [==============================] - 9s 7ms/step - loss: 0.4620 - accuracy: 0.8365 - val_loss: 0.8502 - val_accuracy: 0.7249\n",
            "Epoch 18/20\n",
            "1250/1250 [==============================] - 7s 5ms/step - loss: 0.4491 - accuracy: 0.8407 - val_loss: 0.8120 - val_accuracy: 0.7351\n",
            "Epoch 19/20\n",
            "1250/1250 [==============================] - 6s 5ms/step - loss: 0.4268 - accuracy: 0.8495 - val_loss: 0.8381 - val_accuracy: 0.7337\n",
            "Epoch 20/20\n",
            "1250/1250 [==============================] - 6s 5ms/step - loss: 0.4120 - accuracy: 0.8530 - val_loss: 0.8373 - val_accuracy: 0.7320\n",
            "Epoch 1/20\n",
            "1250/1250 [==============================] - 7s 5ms/step - loss: 1.6748 - accuracy: 0.3749 - val_loss: 1.4660 - val_accuracy: 0.4850\n",
            "Epoch 2/20\n",
            "1250/1250 [==============================] - 7s 5ms/step - loss: 1.3169 - accuracy: 0.5234 - val_loss: 1.1740 - val_accuracy: 0.5921\n",
            "Epoch 3/20\n",
            "1250/1250 [==============================] - 7s 6ms/step - loss: 1.1673 - accuracy: 0.5804 - val_loss: 1.1898 - val_accuracy: 0.6014\n",
            "Epoch 4/20\n",
            "1250/1250 [==============================] - 7s 5ms/step - loss: 1.0755 - accuracy: 0.6155 - val_loss: 1.0474 - val_accuracy: 0.6538\n",
            "Epoch 5/20\n",
            "1250/1250 [==============================] - 6s 5ms/step - loss: 0.9911 - accuracy: 0.6484 - val_loss: 0.9817 - val_accuracy: 0.6638\n",
            "Epoch 6/20\n",
            "1250/1250 [==============================] - 6s 5ms/step - loss: 0.9445 - accuracy: 0.6680 - val_loss: 1.0247 - val_accuracy: 0.6577\n",
            "Epoch 7/20\n",
            "1250/1250 [==============================] - 6s 5ms/step - loss: 0.8913 - accuracy: 0.6849 - val_loss: 0.8842 - val_accuracy: 0.6968\n",
            "Epoch 8/20\n",
            "1250/1250 [==============================] - 7s 5ms/step - loss: 0.8488 - accuracy: 0.7014 - val_loss: 0.8666 - val_accuracy: 0.7052\n",
            "Epoch 9/20\n",
            "1250/1250 [==============================] - 6s 5ms/step - loss: 0.8168 - accuracy: 0.7139 - val_loss: 0.8397 - val_accuracy: 0.7060\n",
            "Epoch 10/20\n",
            "1250/1250 [==============================] - 7s 5ms/step - loss: 0.7872 - accuracy: 0.7267 - val_loss: 0.8118 - val_accuracy: 0.7237\n",
            "Epoch 11/20\n",
            "1250/1250 [==============================] - 7s 5ms/step - loss: 0.7592 - accuracy: 0.7347 - val_loss: 0.7942 - val_accuracy: 0.7343\n",
            "Epoch 12/20\n",
            "1250/1250 [==============================] - 6s 5ms/step - loss: 0.7171 - accuracy: 0.7495 - val_loss: 0.8057 - val_accuracy: 0.7228\n",
            "Epoch 13/20\n",
            "1250/1250 [==============================] - 6s 5ms/step - loss: 0.7030 - accuracy: 0.7560 - val_loss: 0.7913 - val_accuracy: 0.7359\n",
            "Epoch 14/20\n",
            "1250/1250 [==============================] - 7s 5ms/step - loss: 0.6721 - accuracy: 0.7662 - val_loss: 0.7533 - val_accuracy: 0.7455\n",
            "Epoch 15/20\n",
            "1250/1250 [==============================] - 7s 5ms/step - loss: 0.6561 - accuracy: 0.7715 - val_loss: 0.7722 - val_accuracy: 0.7347\n",
            "Epoch 16/20\n",
            "1250/1250 [==============================] - 6s 5ms/step - loss: 0.6356 - accuracy: 0.7796 - val_loss: 0.7486 - val_accuracy: 0.7446\n",
            "Epoch 17/20\n",
            "1250/1250 [==============================] - 6s 5ms/step - loss: 0.6199 - accuracy: 0.7852 - val_loss: 0.7502 - val_accuracy: 0.7445\n",
            "Epoch 18/20\n",
            "1250/1250 [==============================] - 6s 5ms/step - loss: 0.6028 - accuracy: 0.7918 - val_loss: 0.7651 - val_accuracy: 0.7403\n",
            "Epoch 19/20\n",
            "1250/1250 [==============================] - 7s 5ms/step - loss: 0.5811 - accuracy: 0.7996 - val_loss: 0.7325 - val_accuracy: 0.7490\n",
            "Epoch 20/20\n",
            "1250/1250 [==============================] - 7s 5ms/step - loss: 0.5653 - accuracy: 0.8056 - val_loss: 0.7473 - val_accuracy: 0.7416\n"
          ]
        }
      ]
    },
    {
      "cell_type": "code",
      "source": [
        "# p = 0.2\n",
        "\n",
        "history, model = models[0]\n",
        "# Calculamos el error a partir del accuracy para poder graficar\n",
        "train_error = map(lambda x: 1 - x, history.history['accuracy'])\n",
        "val_error = map(lambda x: 1 - x,  history.history['val_accuracy'])\n",
        "\n",
        "# Graficamos\n",
        "plt.plot(range(1, 21), list(train_error), label='Train Error')\n",
        "plt.plot(range(1, 21), list(val_error), label = 'Val Error')\n",
        "plt.xlabel('Epoca')\n",
        "plt.ylabel('Error')\n",
        "plt.legend()\n",
        "plt.title('Ejercicio 2 - P = 0.2')\n",
        "plt.show()\n",
        "\n",
        "# Error de test\n",
        "\n",
        "(train_images, train_labels), (test_images, test_labels) = datasets.cifar10.load_data()\n",
        "test_loss, test_acc = model.evaluate(test_images,  test_labels)\n",
        "print(f\"Test error en el modelo final para p = 0.2: {1 - test_acc}\")\n"
      ],
      "metadata": {
        "id": "K6y-XMusmzGp",
        "outputId": "70cf3197-4851-4a67-9e26-116700e646bf",
        "colab": {
          "base_uri": "https://localhost:8080/",
          "height": 330
        }
      },
      "execution_count": null,
      "outputs": [
        {
          "output_type": "display_data",
          "data": {
            "text/plain": [
              "<Figure size 432x288 with 1 Axes>"
            ],
            "image/png": "[encoded data removed]"
          },
          "metadata": {
            "needs_background": "light"
          }
        },
        {
          "output_type": "stream",
          "name": "stdout",
          "text": [
            "313/313 [==============================] - 1s 3ms/step - loss: 205.8533 - accuracy: 0.5027\n",
            "Test error en el modelo final para p = 0.2: 0.49730002880096436\n"
          ]
        }
      ]
    },
    {
      "cell_type": "code",
      "source": [
        "# p = 0.5\n",
        "\n",
        "history, model = models[1]\n",
        "# Calculamos el error a partir del accuracy para poder graficar\n",
        "train_error = map(lambda x: 1 - x, history.history['accuracy'])\n",
        "val_error = map(lambda x: 1 - x,  history.history['val_accuracy'])\n",
        "\n",
        "# Graficamos\n",
        "plt.plot(range(1, 21), list(train_error), label='Train Error')\n",
        "plt.plot(range(1, 21), list(val_error), label = 'Val Error')\n",
        "plt.xlabel('Epoca')\n",
        "plt.ylabel('Error')\n",
        "plt.legend()\n",
        "plt.title('Ejercicio 2 - P = 0.5')\n",
        "plt.show()\n",
        "\n",
        "# Error de test\n",
        "\n",
        "(train_images, train_labels), (test_images, test_labels) = datasets.cifar10.load_data()\n",
        "test_loss, test_acc = model.evaluate(test_images,  test_labels)\n",
        "print(f\"Test error en el modelo final para p = 0.5: {1 - test_acc}\")"
      ],
      "metadata": {
        "id": "znzcN5HynNJY",
        "outputId": "aaec09f0-5aa4-4895-8d27-fede7ccb3fbd",
        "colab": {
          "base_uri": "https://localhost:8080/",
          "height": 330
        }
      },
      "execution_count": null,
      "outputs": [
        {
          "output_type": "display_data",
          "data": {
            "text/plain": [
              "<Figure size 432x288 with 1 Axes>"
            ],
            "image/png": "[encoded data removed]"
          },
          "metadata": {
            "needs_background": "light"
          }
        },
        {
          "output_type": "stream",
          "name": "stdout",
          "text": [
            "313/313 [==============================] - 1s 4ms/step - loss: 207.2476 - accuracy: 0.4309\n",
            "Test error en el modelo final para p = 0.5: 0.5690999925136566\n"
          ]
        }
      ]
    },
    {
      "cell_type": "markdown",
      "source": [
        "### Conclusiones\n",
        "\n",
        "Hay menos sobreajuste con p = 0.5"
      ],
      "metadata": {
        "id": "MmA70vJ2S5Pk"
      }
    },
    {
      "cell_type": "markdown",
      "source": [
        "## Ejercicio 3"
      ],
      "metadata": {
        "id": "rHuaAKTITnwP"
      }
    },
    {
      "cell_type": "code",
      "source": [
        "img_height = 32\n",
        "img_width = 32\n",
        "data_augmentation = keras.Sequential(\n",
        "    [\n",
        "          layers.RandomFlip(\"horizontal\", input_shape=(img_height, img_width, 3)),\n",
        "          layers.RandomRotation(0.1),\n",
        "          layers.RandomZoom(0.1),\n",
        "     ]\n",
        ")\n",
        "\n",
        "def ej3():\n",
        "\n",
        "  # Agregamos las capas\n",
        "  model = models.Sequential()\n",
        "  model.add(data_augmentation)\n",
        "  model.add(layers.Conv2D(32, (3, 3), activation='relu', padding='same', input_shape=(32, 32, 3)))\n",
        "  model.add(layers.MaxPooling2D((2, 2)))\n",
        "  model.add(layers.Conv2D(64, (3, 3), padding='same', activation='relu'))\n",
        "  model.add(layers.Conv2D(64, (3, 3), padding='same', activation='relu'))\n",
        "  model.add(layers.MaxPooling2D((2, 2)))\n",
        "  model.add(layers.Conv2D(64, (3, 3), padding='same', activation='relu'))\n",
        "  model.add(layers.Conv2D(64, (3, 3), padding='same', activation='relu'))\n",
        "  model.add(layers.Dropout(0.5, input_shape=(32, 32, 3))) # Dropout\n",
        "  model.add(layers.MaxPooling2D((2, 2)))\n",
        "  model.add(layers.Flatten())\n",
        "  model.add(layers.Dense(64))\n",
        "  model.add(layers.Dropout(0.5, input_shape=(32, 32, 3))) # Dropout\n",
        "  model.add(layers.Dense(128))\n",
        "  model.add(layers.Dense(128))\n",
        "  model.add(layers.Dense(10))\n",
        "\n",
        "  (train_images, train_labels), (test_images, test_labels) = datasets.cifar10.load_data()\n",
        "\n",
        "  # Normalizamos como lo hace el ejemplo del tutorial\n",
        "  train_images, test_images = train_images / 255.0, test_images / 255.0\n",
        "\n",
        "\n",
        "  # Separamos conjunto de validación\n",
        "  train_images, val_images, train_labels, val_labels = train_test_split(\n",
        "      train_images, train_labels, test_size=0.2, random_state=0\n",
        "  )\n",
        "\n",
        "  # Compilamos y entrenamos\n",
        "\n",
        "  model.compile(\n",
        "      optimizer='adam',\n",
        "      loss=tf.keras.losses.SparseCategoricalCrossentropy(from_logits=True),\n",
        "      metrics=['accuracy']\n",
        "  )\n",
        "\n",
        "  history = model.fit(\n",
        "      train_images, \n",
        "      train_labels, \n",
        "      epochs=20,\n",
        "      validation_data=(val_images, val_labels)\n",
        "  )\n",
        "\n",
        "  return history, model"
      ],
      "metadata": {
        "id": "4HZODoLiTvSr"
      },
      "execution_count": 6,
      "outputs": []
    },
    {
      "cell_type": "code",
      "source": [
        "history, model = ej3()"
      ],
      "metadata": {
        "id": "e2RSjfFTUXYW",
        "outputId": "539e0607-276e-464b-d592-c251c02b9092",
        "colab": {
          "base_uri": "https://localhost:8080/"
        }
      },
      "execution_count": 7,
      "outputs": [
        {
          "output_type": "stream",
          "name": "stdout",
          "text": [
            "Downloading data from https://www.cs.toronto.edu/~kriz/cifar-10-python.tar.gz\n",
            "170500096/170498071 [==============================] - 2s 0us/step\n",
            "170508288/170498071 [==============================] - 2s 0us/step\n",
            "Epoch 1/20\n",
            "1250/1250 [==============================] - 21s 6ms/step - loss: 1.7908 - accuracy: 0.3362 - val_loss: 1.5845 - val_accuracy: 0.4509\n",
            "Epoch 2/20\n",
            "1250/1250 [==============================] - 7s 6ms/step - loss: 1.5256 - accuracy: 0.4422 - val_loss: 1.3498 - val_accuracy: 0.5318\n",
            "Epoch 3/20\n",
            "1250/1250 [==============================] - 8s 6ms/step - loss: 1.4340 - accuracy: 0.4805 - val_loss: 1.3451 - val_accuracy: 0.5332\n",
            "Epoch 4/20\n",
            "1250/1250 [==============================] - 8s 6ms/step - loss: 1.3644 - accuracy: 0.5102 - val_loss: 1.2224 - val_accuracy: 0.5852\n",
            "Epoch 5/20\n",
            "1250/1250 [==============================] - 7s 6ms/step - loss: 1.3153 - accuracy: 0.5303 - val_loss: 1.1909 - val_accuracy: 0.5892\n",
            "Epoch 6/20\n",
            "1250/1250 [==============================] - 7s 6ms/step - loss: 1.2831 - accuracy: 0.5443 - val_loss: 1.1339 - val_accuracy: 0.6161\n",
            "Epoch 7/20\n",
            "1250/1250 [==============================] - 8s 6ms/step - loss: 1.2441 - accuracy: 0.5610 - val_loss: 1.1011 - val_accuracy: 0.6141\n",
            "Epoch 8/20\n",
            "1250/1250 [==============================] - 9s 7ms/step - loss: 1.2202 - accuracy: 0.5681 - val_loss: 1.1011 - val_accuracy: 0.6303\n",
            "Epoch 9/20\n",
            "1250/1250 [==============================] - 8s 6ms/step - loss: 1.1967 - accuracy: 0.5775 - val_loss: 1.0509 - val_accuracy: 0.6419\n",
            "Epoch 10/20\n",
            "1250/1250 [==============================] - 7s 6ms/step - loss: 1.1750 - accuracy: 0.5885 - val_loss: 1.0334 - val_accuracy: 0.6569\n",
            "Epoch 11/20\n",
            "1250/1250 [==============================] - 8s 6ms/step - loss: 1.1578 - accuracy: 0.5937 - val_loss: 1.0518 - val_accuracy: 0.6375\n",
            "Epoch 12/20\n",
            "1250/1250 [==============================] - 8s 6ms/step - loss: 1.1376 - accuracy: 0.5991 - val_loss: 1.0321 - val_accuracy: 0.6568\n",
            "Epoch 13/20\n",
            "1250/1250 [==============================] - 8s 6ms/step - loss: 1.1235 - accuracy: 0.6068 - val_loss: 0.9977 - val_accuracy: 0.6595\n",
            "Epoch 14/20\n",
            "1250/1250 [==============================] - 7s 6ms/step - loss: 1.1043 - accuracy: 0.6136 - val_loss: 1.0041 - val_accuracy: 0.6540\n",
            "Epoch 15/20\n",
            "1250/1250 [==============================] - 8s 6ms/step - loss: 1.0925 - accuracy: 0.6192 - val_loss: 0.9771 - val_accuracy: 0.6629\n",
            "Epoch 16/20\n",
            "1250/1250 [==============================] - 7s 6ms/step - loss: 1.0748 - accuracy: 0.6246 - val_loss: 0.9521 - val_accuracy: 0.6825\n",
            "Epoch 17/20\n",
            "1250/1250 [==============================] - 8s 6ms/step - loss: 1.0568 - accuracy: 0.6306 - val_loss: 0.9292 - val_accuracy: 0.6896\n",
            "Epoch 18/20\n",
            "1250/1250 [==============================] - 7s 6ms/step - loss: 1.0434 - accuracy: 0.6374 - val_loss: 0.9226 - val_accuracy: 0.6930\n",
            "Epoch 19/20\n",
            "1250/1250 [==============================] - 8s 6ms/step - loss: 1.0392 - accuracy: 0.6371 - val_loss: 0.9212 - val_accuracy: 0.6950\n",
            "Epoch 20/20\n",
            "1250/1250 [==============================] - 7s 6ms/step - loss: 1.0235 - accuracy: 0.6425 - val_loss: 0.8994 - val_accuracy: 0.6941\n"
          ]
        }
      ]
    },
    {
      "cell_type": "code",
      "source": [
        "# Calculamos el error a partir del accuracy para poder graficar\n",
        "train_error = map(lambda x: 1 - x, history.history['accuracy'])\n",
        "val_error = map(lambda x: 1 - x,  history.history['val_accuracy'])\n",
        "\n",
        "# Graficamos\n",
        "plt.plot(range(1, 21), list(train_error), label='Train Error')\n",
        "plt.plot(range(1, 21), list(val_error), label = 'Val Error')\n",
        "plt.xlabel('Epoca')\n",
        "plt.ylabel('Error')\n",
        "plt.legend()\n",
        "plt.title('Ejercicio 3 - Data Augmentation')\n",
        "plt.show()\n",
        "\n",
        "# Error de test\n",
        "\n",
        "(train_images, train_labels), (test_images, test_labels) = datasets.cifar10.load_data()\n",
        "test_loss, test_acc = model.evaluate(test_images,  test_labels)\n",
        "print(f\"Test error en el modelo final: {1 - test_acc}\")"
      ],
      "metadata": {
        "id": "YMCy_LydVr5w",
        "outputId": "af465669-a663-41ab-8601-7dcbc0e81910",
        "colab": {
          "base_uri": "https://localhost:8080/",
          "height": 330
        }
      },
      "execution_count": 8,
      "outputs": [
        {
          "output_type": "display_data",
          "data": {
            "text/plain": [
              "<Figure size 432x288 with 1 Axes>"
            ],
            "image/png": "[encoded data removed]"
          },
          "metadata": {
            "needs_background": "light"
          }
        },
        {
          "output_type": "stream",
          "name": "stdout",
          "text": [
            "313/313 [==============================] - 1s 3ms/step - loss: 147.3713 - accuracy: 0.4029\n",
            "Test error en el modelo final: 0.5970999896526337\n"
          ]
        }
      ]
    },
    {
      "cell_type": "markdown",
      "source": [
        "### Conclusiones\n",
        "\n",
        "Si hay menos sobreajuste"
      ],
      "metadata": {
        "id": "Jw1LspVLV6Wn"
      }
    }
  ],
  "metadata": {
    "language_info": {
      "name": "python"
    },
    "orig_nbformat": 4,
    "colab": {
      "name": "CNN.ipynb",
      "provenance": [],
      "toc_visible": true
    },
    "kernelspec": {
      "name": "python3",
      "display_name": "Python 3"
    },
    "gpuClass": "standard",
    "accelerator": "GPU"
  },
  "nbformat": 4,
  "nbformat_minor": 0
}