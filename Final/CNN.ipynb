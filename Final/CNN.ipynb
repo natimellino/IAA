{
 "cells": [
  {
   "cell_type": "markdown",
   "metadata": {},
   "source": [
    "# TP Final - Redes Neuronales Convolucionales\n",
    "## Mellino, Natalia - Introducción al Aprendizaje Automatizado"
   ]
  }
 ],
 "metadata": {
  "language_info": {
   "name": "python"
  },
  "orig_nbformat": 4
 },
 "nbformat": 4,
 "nbformat_minor": 2
}
