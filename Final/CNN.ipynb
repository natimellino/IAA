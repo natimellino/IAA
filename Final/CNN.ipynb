{
  "cells": [
    {
      "cell_type": "markdown",
      "metadata": {
        "id": "KnVj-slC1wcs"
      },
      "source": [
        "# TP Final - Redes Neuronales Convolucionales\n",
        "## Mellino, Natalia - Introducción al Aprendizaje Automatizado"
      ]
    },
    {
      "cell_type": "code",
      "source": [
        "# Imports\n",
        "\n",
        "import tensorflow as tf\n",
        "\n",
        "from tensorflow import keras\n",
        "from tensorflow.keras import datasets, layers, models\n",
        "import matplotlib.pyplot as plt\n",
        "from sklearn.model_selection import train_test_split"
      ],
      "metadata": {
        "id": "lsVzSddZ1yxS"
      },
      "execution_count": 1,
      "outputs": []
    },
    {
      "cell_type": "code",
      "source": [
        "def graficar_resultados(history, model, title):\n",
        "  # Calculamos el error a partir del accuracy para poder graficar\n",
        "  train_error = list(map(lambda x: 1 - x, history.history['accuracy']))\n",
        "  val_error = list(map(lambda x: 1 - x,  history.history['val_accuracy']))\n",
        "\n",
        "  xs = list(range(1, len(train_error) + 1))\n",
        "\n",
        "  # Graficamos\n",
        "  plt.plot(xs, train_error, label='Train Error')\n",
        "  plt.plot(xs, val_error, label = 'Val Error')\n",
        "  plt.xlabel('Epoca')\n",
        "  plt.ylabel('Error')\n",
        "  plt.legend()\n",
        "  plt.title(title)\n",
        "  plt.show()\n",
        "\n",
        "  # Error de test\n",
        "\n",
        "  (train_images, train_labels), (test_images, test_labels) = datasets.cifar10.load_data()\n",
        "  # Normalize pixel values to be between 0 and 1\n",
        "  train_images, test_images = train_images / 255.0, test_images / 255.0\n",
        "  test_loss, test_acc = model.evaluate(test_images,  test_labels)\n",
        "  print(f\"Test error en el modelo final: {1 - test_acc}\")"
      ],
      "metadata": {
        "id": "KCEAg6AwXLWl"
      },
      "execution_count": 2,
      "outputs": []
    },
    {
      "cell_type": "markdown",
      "source": [
        "## Ejercicio 1"
      ],
      "metadata": {
        "id": "pFUnVZ6Cg1fv"
      }
    },
    {
      "cell_type": "code",
      "source": [
        "def ej1(model):\n",
        "\n",
        "  (train_images, train_labels), (test_images, test_labels) = datasets.cifar10.load_data()\n",
        "\n",
        "  # Normalizamos como lo hace el ejemplo del tutorial\n",
        "  train_images, test_images = train_images / 255.0, test_images / 255.0\n",
        "\n",
        "\n",
        "  # Separamos conjunto de validación\n",
        "  train_images, val_images, train_labels, val_labels = train_test_split(\n",
        "      train_images, train_labels, test_size=0.2, random_state=0\n",
        "  )\n",
        "\n",
        "  # Compilamos y entrenamos\n",
        "\n",
        "  model.compile(\n",
        "      optimizer='adam',\n",
        "      loss=tf.keras.losses.SparseCategoricalCrossentropy(from_logits=True),\n",
        "      metrics=['accuracy']\n",
        "  )\n",
        "\n",
        "  history = model.fit(\n",
        "      train_images, \n",
        "      train_labels, \n",
        "      epochs=10, \n",
        "      validation_data=(val_images, val_labels)\n",
        "  )\n",
        "\n",
        "  return history, model"
      ],
      "metadata": {
        "id": "ZFkCxBg8Zq-p"
      },
      "execution_count": null,
      "outputs": []
    },
    {
      "cell_type": "code",
      "source": [
        "# Agregamos las capas\n",
        "model1 = models.Sequential()\n",
        "model1.add(layers.Conv2D(32, (3, 3), activation='relu', padding='same', input_shape=(32, 32, 3)))\n",
        "model1.add(layers.MaxPooling2D((2, 2)))\n",
        "model1.add(layers.Conv2D(64, (3, 3), padding='same', activation='relu'))\n",
        "model1.add(layers.Conv2D(64, (3, 3), padding='same', activation='relu'))\n",
        "model1.add(layers.MaxPooling2D((2, 2)))\n",
        "model1.add(layers.Conv2D(64, (3, 3), padding='same', activation='relu'))\n",
        "model1.add(layers.Conv2D(64, (3, 3), padding='same', activation='relu'))\n",
        "# model.add(layers.MaxPooling2D((2, 2)))\n",
        "model1.add(layers.Flatten())\n",
        "model1.add(layers.Dense(64))\n",
        "model1.add(layers.Dense(128))\n",
        "model1.add(layers.Dense(128))\n",
        "model1.add(layers.Dense(10))\n",
        "\n",
        "history1, model1 = ej1(model1)"
      ],
      "metadata": {
        "colab": {
          "base_uri": "https://localhost:8080/"
        },
        "id": "pYwkKwpUcavp",
        "outputId": "f5489e2c-0921-4939-e5d4-47afd50b3aae"
      },
      "execution_count": null,
      "outputs": [
        {
          "output_type": "stream",
          "name": "stdout",
          "text": [
            "Epoch 1/10\n",
            "1250/1250 [==============================] - 8s 6ms/step - loss: 1.5149 - accuracy: 0.4418 - val_loss: 1.1985 - val_accuracy: 0.5771\n",
            "Epoch 2/10\n",
            "1250/1250 [==============================] - 9s 7ms/step - loss: 1.1222 - accuracy: 0.6001 - val_loss: 1.0246 - val_accuracy: 0.6378\n",
            "Epoch 3/10\n",
            "1250/1250 [==============================] - 8s 6ms/step - loss: 0.9404 - accuracy: 0.6672 - val_loss: 0.9508 - val_accuracy: 0.6660\n",
            "Epoch 4/10\n",
            "1250/1250 [==============================] - 7s 6ms/step - loss: 0.8252 - accuracy: 0.7079 - val_loss: 0.9101 - val_accuracy: 0.6824\n",
            "Epoch 5/10\n",
            "1250/1250 [==============================] - 6s 5ms/step - loss: 0.7322 - accuracy: 0.7409 - val_loss: 0.8578 - val_accuracy: 0.6999\n",
            "Epoch 6/10\n",
            "1250/1250 [==============================] - 7s 6ms/step - loss: 0.6523 - accuracy: 0.7698 - val_loss: 0.9439 - val_accuracy: 0.6777\n",
            "Epoch 7/10\n",
            "1250/1250 [==============================] - 7s 5ms/step - loss: 0.5858 - accuracy: 0.7927 - val_loss: 0.8910 - val_accuracy: 0.7095\n",
            "Epoch 8/10\n",
            "1250/1250 [==============================] - 7s 5ms/step - loss: 0.5315 - accuracy: 0.8120 - val_loss: 0.9034 - val_accuracy: 0.7038\n",
            "Epoch 9/10\n",
            "1250/1250 [==============================] - 7s 5ms/step - loss: 0.4802 - accuracy: 0.8303 - val_loss: 0.9525 - val_accuracy: 0.6983\n",
            "Epoch 10/10\n",
            "1250/1250 [==============================] - 6s 5ms/step - loss: 0.4296 - accuracy: 0.8461 - val_loss: 0.9653 - val_accuracy: 0.7090\n"
          ]
        }
      ]
    },
    {
      "cell_type": "markdown",
      "source": [
        "### Resultados"
      ],
      "metadata": {
        "id": "_ZaDlKtbI51Z"
      }
    },
    {
      "cell_type": "code",
      "source": [
        "graficar_resultados(history1, model1, 'Ejercicio 1')\n"
      ],
      "metadata": {
        "colab": {
          "base_uri": "https://localhost:8080/",
          "height": 330
        },
        "id": "MGv4ms0fcdVj",
        "outputId": "e7d370b3-2dd4-4654-fbae-26699a9aed6b"
      },
      "execution_count": null,
      "outputs": [
        {
          "output_type": "display_data",
          "data": {
            "text/plain": [
              "<Figure size 432x288 with 1 Axes>"
            ],
            "image/png": "[encoded data removed]"
          },
          "metadata": {
            "needs_background": "light"
          }
        },
        {
          "output_type": "stream",
          "name": "stdout",
          "text": [
            "313/313 [==============================] - 1s 3ms/step - loss: 0.9999 - accuracy: 0.7081\n",
            "Test error en el modelo final: 0.29189997911453247\n"
          ]
        }
      ]
    },
    {
      "cell_type": "markdown",
      "source": [
        "### Conclusiones\n",
        "\n",
        "Se logró un error de test de aproximadamente 0.29, pero podemos ver en la gráfica que ya en las primeras épocas comienza a haber un claro overfitting. Es posible que el diseño de esta red no sea el más adecuado para resolver este problema."
      ],
      "metadata": {
        "id": "vRcZs4OSjIaB"
      }
    },
    {
      "cell_type": "markdown",
      "source": [
        "## Ejercicio 2"
      ],
      "metadata": {
        "id": "l4bOOx9Ck85a"
      }
    },
    {
      "cell_type": "code",
      "source": [
        "def ej2(models):\n",
        "  results = []\n",
        "  for model in models:\n",
        "\n",
        "    (train_images, train_labels), (test_images, test_labels) = datasets.cifar10.load_data()\n",
        "\n",
        "    # Normalizamos como lo hace el ejemplo del tutorial\n",
        "    train_images, test_images = train_images / 255.0, test_images / 255.0\n",
        "\n",
        "\n",
        "    # Separamos conjunto de validación\n",
        "    train_images, val_images, train_labels, val_labels = train_test_split(\n",
        "        train_images, train_labels, test_size=0.2, random_state=0\n",
        "    )\n",
        "\n",
        "    # Compilamos y entrenamos\n",
        "\n",
        "    model.compile(\n",
        "        optimizer='adam',\n",
        "        loss=tf.keras.losses.SparseCategoricalCrossentropy(from_logits=True),\n",
        "        metrics=['accuracy']\n",
        "    )\n",
        "\n",
        "    history = model.fit(\n",
        "        train_images, \n",
        "        train_labels, \n",
        "        epochs=20,\n",
        "        validation_data=(val_images, val_labels)\n",
        "    )\n",
        "\n",
        "    results.append((history, model))\n",
        "\n",
        "  return results"
      ],
      "metadata": {
        "id": "e10NeNCTk-lO"
      },
      "execution_count": null,
      "outputs": []
    },
    {
      "cell_type": "code",
      "source": [
        "ms2 = []\n",
        "for p in [0.2, 0.5]:\n",
        "    # Agregamos las capas\n",
        "    model2 = models.Sequential()\n",
        "    model2.add(layers.Conv2D(32, (3, 3), activation='relu', padding='same', input_shape=(32, 32, 3)))\n",
        "    model2.add(layers.MaxPooling2D((2, 2)))\n",
        "    model2.add(layers.Conv2D(64, (3, 3), padding='same', activation='relu'))\n",
        "    model2.add(layers.Conv2D(64, (3, 3), padding='same', activation='relu'))\n",
        "    model2.add(layers.MaxPooling2D((2, 2)))\n",
        "    model2.add(layers.Conv2D(64, (3, 3), padding='same', activation='relu'))\n",
        "    model2.add(layers.Conv2D(64, (3, 3), padding='same', activation='relu'))\n",
        "    model2.add(layers.Dropout(p, input_shape=(32, 32, 3))) # Dropout\n",
        "    model2.add(layers.Flatten())\n",
        "    model2.add(layers.Dense(64))\n",
        "    model2.add(layers.Dropout(p, input_shape=(32, 32, 3))) # Dropout\n",
        "    model2.add(layers.Dense(128))\n",
        "    model2.add(layers.Dense(128))\n",
        "    model2.add(layers.Dense(10))\n",
        "\n",
        "    ms2.append(model2)\n",
        "\n",
        "results2 = ej2(ms2)"
      ],
      "metadata": {
        "id": "JMjg_GoamjJv",
        "outputId": "b4ac2d63-93f0-4429-ff03-4038db0e308d",
        "colab": {
          "base_uri": "https://localhost:8080/"
        }
      },
      "execution_count": null,
      "outputs": [
        {
          "output_type": "stream",
          "name": "stdout",
          "text": [
            "Epoch 1/20\n",
            "1250/1250 [==============================] - 7s 5ms/step - loss: 1.5779 - accuracy: 0.4181 - val_loss: 1.2263 - val_accuracy: 0.5556\n",
            "Epoch 2/20\n",
            "1250/1250 [==============================] - 6s 5ms/step - loss: 1.1770 - accuracy: 0.5811 - val_loss: 1.0618 - val_accuracy: 0.6335\n",
            "Epoch 3/20\n",
            "1250/1250 [==============================] - 6s 5ms/step - loss: 1.0011 - accuracy: 0.6478 - val_loss: 0.9496 - val_accuracy: 0.6647\n",
            "Epoch 4/20\n",
            "1250/1250 [==============================] - 6s 5ms/step - loss: 0.8965 - accuracy: 0.6855 - val_loss: 1.0436 - val_accuracy: 0.6394\n",
            "Epoch 5/20\n",
            "1250/1250 [==============================] - 6s 5ms/step - loss: 0.8212 - accuracy: 0.7110 - val_loss: 0.9278 - val_accuracy: 0.6797\n",
            "Epoch 6/20\n",
            "1250/1250 [==============================] - 6s 5ms/step - loss: 0.7626 - accuracy: 0.7349 - val_loss: 0.8729 - val_accuracy: 0.6965\n",
            "Epoch 7/20\n",
            "1250/1250 [==============================] - 6s 5ms/step - loss: 0.7145 - accuracy: 0.7487 - val_loss: 0.8499 - val_accuracy: 0.7086\n",
            "Epoch 8/20\n",
            "1250/1250 [==============================] - 6s 5ms/step - loss: 0.6637 - accuracy: 0.7680 - val_loss: 0.8400 - val_accuracy: 0.7129\n",
            "Epoch 9/20\n",
            "1250/1250 [==============================] - 6s 5ms/step - loss: 0.6199 - accuracy: 0.7816 - val_loss: 0.8639 - val_accuracy: 0.7159\n",
            "Epoch 10/20\n",
            "1250/1250 [==============================] - 6s 5ms/step - loss: 0.5892 - accuracy: 0.7911 - val_loss: 0.8021 - val_accuracy: 0.7232\n",
            "Epoch 11/20\n",
            "1250/1250 [==============================] - 6s 5ms/step - loss: 0.5469 - accuracy: 0.8074 - val_loss: 0.8194 - val_accuracy: 0.7312\n",
            "Epoch 12/20\n",
            "1250/1250 [==============================] - 6s 5ms/step - loss: 0.5186 - accuracy: 0.8170 - val_loss: 0.8383 - val_accuracy: 0.7222\n",
            "Epoch 13/20\n",
            "1250/1250 [==============================] - 6s 5ms/step - loss: 0.5005 - accuracy: 0.8239 - val_loss: 0.8702 - val_accuracy: 0.7193\n",
            "Epoch 14/20\n",
            "1250/1250 [==============================] - 6s 5ms/step - loss: 0.4633 - accuracy: 0.8369 - val_loss: 0.8987 - val_accuracy: 0.7204\n",
            "Epoch 15/20\n",
            "1250/1250 [==============================] - 6s 5ms/step - loss: 0.4366 - accuracy: 0.8458 - val_loss: 0.8747 - val_accuracy: 0.7303\n",
            "Epoch 16/20\n",
            "1250/1250 [==============================] - 6s 5ms/step - loss: 0.4103 - accuracy: 0.8532 - val_loss: 0.9255 - val_accuracy: 0.7176\n",
            "Epoch 17/20\n",
            "1250/1250 [==============================] - 6s 5ms/step - loss: 0.3930 - accuracy: 0.8605 - val_loss: 0.9319 - val_accuracy: 0.7244\n",
            "Epoch 18/20\n",
            "1250/1250 [==============================] - 6s 5ms/step - loss: 0.3791 - accuracy: 0.8645 - val_loss: 0.9058 - val_accuracy: 0.7267\n",
            "Epoch 19/20\n",
            "1250/1250 [==============================] - 7s 5ms/step - loss: 0.3564 - accuracy: 0.8727 - val_loss: 0.9151 - val_accuracy: 0.7321\n",
            "Epoch 20/20\n",
            "1250/1250 [==============================] - 6s 5ms/step - loss: 0.3386 - accuracy: 0.8795 - val_loss: 1.0012 - val_accuracy: 0.7140\n",
            "Epoch 1/20\n",
            "1250/1250 [==============================] - 7s 5ms/step - loss: 1.6666 - accuracy: 0.3770 - val_loss: 1.3801 - val_accuracy: 0.4804\n",
            "Epoch 2/20\n",
            "1250/1250 [==============================] - 6s 5ms/step - loss: 1.3310 - accuracy: 0.5149 - val_loss: 1.1431 - val_accuracy: 0.5863\n",
            "Epoch 3/20\n",
            "1250/1250 [==============================] - 6s 5ms/step - loss: 1.1843 - accuracy: 0.5767 - val_loss: 1.1550 - val_accuracy: 0.5922\n",
            "Epoch 4/20\n",
            "1250/1250 [==============================] - 6s 5ms/step - loss: 1.0795 - accuracy: 0.6150 - val_loss: 0.9626 - val_accuracy: 0.6669\n",
            "Epoch 5/20\n",
            "1250/1250 [==============================] - 6s 5ms/step - loss: 1.0059 - accuracy: 0.6453 - val_loss: 0.9167 - val_accuracy: 0.6793\n",
            "Epoch 6/20\n",
            "1250/1250 [==============================] - 6s 5ms/step - loss: 0.9529 - accuracy: 0.6657 - val_loss: 0.9371 - val_accuracy: 0.6696\n",
            "Epoch 7/20\n",
            "1250/1250 [==============================] - 6s 5ms/step - loss: 0.8937 - accuracy: 0.6862 - val_loss: 0.8483 - val_accuracy: 0.7019\n",
            "Epoch 8/20\n",
            "1250/1250 [==============================] - 6s 5ms/step - loss: 0.8540 - accuracy: 0.7014 - val_loss: 0.9540 - val_accuracy: 0.6761\n",
            "Epoch 9/20\n",
            "1250/1250 [==============================] - 6s 5ms/step - loss: 0.8107 - accuracy: 0.7195 - val_loss: 0.8233 - val_accuracy: 0.7168\n",
            "Epoch 10/20\n",
            "1250/1250 [==============================] - 6s 5ms/step - loss: 0.7810 - accuracy: 0.7252 - val_loss: 0.8204 - val_accuracy: 0.7209\n",
            "Epoch 11/20\n",
            "1250/1250 [==============================] - 6s 5ms/step - loss: 0.7536 - accuracy: 0.7383 - val_loss: 0.8007 - val_accuracy: 0.7273\n",
            "Epoch 12/20\n",
            "1250/1250 [==============================] - 6s 5ms/step - loss: 0.7289 - accuracy: 0.7490 - val_loss: 0.7654 - val_accuracy: 0.7414\n",
            "Epoch 13/20\n",
            "1250/1250 [==============================] - 7s 6ms/step - loss: 0.7009 - accuracy: 0.7557 - val_loss: 0.7869 - val_accuracy: 0.7355\n",
            "Epoch 14/20\n",
            "1250/1250 [==============================] - 6s 5ms/step - loss: 0.6855 - accuracy: 0.7602 - val_loss: 0.8057 - val_accuracy: 0.7269\n",
            "Epoch 15/20\n",
            "1250/1250 [==============================] - 6s 5ms/step - loss: 0.6550 - accuracy: 0.7683 - val_loss: 0.7453 - val_accuracy: 0.7511\n",
            "Epoch 16/20\n",
            "1250/1250 [==============================] - 6s 5ms/step - loss: 0.6315 - accuracy: 0.7815 - val_loss: 0.7631 - val_accuracy: 0.7435\n",
            "Epoch 17/20\n",
            "1250/1250 [==============================] - 6s 5ms/step - loss: 0.6218 - accuracy: 0.7858 - val_loss: 0.7720 - val_accuracy: 0.7414\n",
            "Epoch 18/20\n",
            "1250/1250 [==============================] - 6s 5ms/step - loss: 0.5923 - accuracy: 0.7940 - val_loss: 0.7659 - val_accuracy: 0.7469\n",
            "Epoch 19/20\n",
            "1250/1250 [==============================] - 6s 5ms/step - loss: 0.5736 - accuracy: 0.7983 - val_loss: 0.7931 - val_accuracy: 0.7365\n",
            "Epoch 20/20\n",
            "1250/1250 [==============================] - 6s 5ms/step - loss: 0.5583 - accuracy: 0.8061 - val_loss: 0.8022 - val_accuracy: 0.7449\n"
          ]
        }
      ]
    },
    {
      "cell_type": "markdown",
      "source": [
        "### Resultados"
      ],
      "metadata": {
        "id": "dBSj19mCI8tr"
      }
    },
    {
      "cell_type": "code",
      "source": [
        "# p = 0.2\n",
        "\n",
        "history2a, model2a = results2[0]\n",
        "graficar_resultados(history2a, model2a, 'Ejercicio 2 - p = 0.2')\n",
        "\n",
        "history2b, model2b = results2[1]\n",
        "graficar_resultados(history2b, model2b, 'Ejercicio 2 - p = 0.5')\n",
        "\n"
      ],
      "metadata": {
        "id": "K6y-XMusmzGp",
        "outputId": "263fce7c-601f-4c9e-ad52-5e5087fa1a83",
        "colab": {
          "base_uri": "https://localhost:8080/",
          "height": 642
        }
      },
      "execution_count": null,
      "outputs": [
        {
          "output_type": "display_data",
          "data": {
            "text/plain": [
              "<Figure size 432x288 with 1 Axes>"
            ],
            "image/png": "[encoded data removed]"
          },
          "metadata": {
            "needs_background": "light"
          }
        },
        {
          "output_type": "stream",
          "name": "stdout",
          "text": [
            "313/313 [==============================] - 1s 3ms/step - loss: 1.0416 - accuracy: 0.7102\n",
            "Test error en el modelo final: 0.2897999882698059\n"
          ]
        },
        {
          "output_type": "display_data",
          "data": {
            "text/plain": [
              "<Figure size 432x288 with 1 Axes>"
            ],
            "image/png": "[encoded data removed]"
          },
          "metadata": {
            "needs_background": "light"
          }
        },
        {
          "output_type": "stream",
          "name": "stdout",
          "text": [
            "313/313 [==============================] - 1s 3ms/step - loss: 0.8302 - accuracy: 0.7393\n",
            "Test error en el modelo final: 0.260699987411499\n"
          ]
        }
      ]
    },
    {
      "cell_type": "markdown",
      "source": [
        "### Conclusiones\n",
        "\n",
        "Podemos ver claramente que con p = 0.2 hay un claro overfitting mientras que con p = 0.5 se reduce drásticamente. Aún así, para p = 0.5, se puede ver al final, en las últimas épocas, que las curvas comienzan a diverger lentamente. Restaría probar entrenar nuevamente con más épocas para constatar si esto efectivamente sucede así. En conclusión, nos quedamos con el valor de p = 0.5 como el óptimo, ya que tiene mucho menos overfitting y el valor del error en test es un poco mejor (en aproximadamente un 2%)."
      ],
      "metadata": {
        "id": "MmA70vJ2S5Pk"
      }
    },
    {
      "cell_type": "markdown",
      "source": [
        "## Ejercicio 3"
      ],
      "metadata": {
        "id": "rHuaAKTITnwP"
      }
    },
    {
      "cell_type": "code",
      "source": [
        "def ej3(model):\n",
        "\n",
        "  (train_images, train_labels), (test_images, test_labels) = datasets.cifar10.load_data()\n",
        "\n",
        "  # Normalizamos como lo hace el ejemplo del tutorial\n",
        "  train_images, test_images = train_images / 255.0, test_images / 255.0\n",
        "\n",
        "\n",
        "  # Separamos conjunto de validación\n",
        "  train_images, val_images, train_labels, val_labels = train_test_split(\n",
        "      train_images, train_labels, test_size=0.2, random_state=0\n",
        "  )\n",
        "\n",
        "  # Compilamos y entrenamos\n",
        "\n",
        "  model.compile(\n",
        "      optimizer='adam',\n",
        "      loss=tf.keras.losses.SparseCategoricalCrossentropy(from_logits=True),\n",
        "      metrics=['accuracy']\n",
        "  )\n",
        "\n",
        "  history = model.fit(\n",
        "      train_images, \n",
        "      train_labels, \n",
        "      epochs=20,\n",
        "      validation_data=(val_images, val_labels)\n",
        "  )\n",
        "\n",
        "  return history, model"
      ],
      "metadata": {
        "id": "4HZODoLiTvSr"
      },
      "execution_count": 3,
      "outputs": []
    },
    {
      "cell_type": "code",
      "source": [
        "img_height = 32\n",
        "img_width = 32\n",
        "data_augmentation = keras.Sequential(\n",
        "    [\n",
        "          layers.RandomFlip(\"horizontal\", input_shape=(img_height, img_width, 3)),\n",
        "          layers.RandomRotation(0.1),\n",
        "          layers.RandomZoom(0.1),\n",
        "     ]\n",
        ")\n",
        "\n",
        "# Agregamos las capas\n",
        "model3 = models.Sequential()\n",
        "model3.add(data_augmentation)\n",
        "model3.add(layers.Conv2D(32, (3, 3), activation='relu', padding='same', input_shape=(32, 32, 3)))\n",
        "model3.add(layers.MaxPooling2D((2, 2)))\n",
        "model3.add(layers.Conv2D(64, (3, 3), padding='same', activation='relu'))\n",
        "model3.add(layers.Conv2D(64, (3, 3), padding='same', activation='relu'))\n",
        "model3.add(layers.MaxPooling2D((2, 2)))\n",
        "model3.add(layers.Conv2D(64, (3, 3), padding='same', activation='relu'))\n",
        "model3.add(layers.Conv2D(64, (3, 3), padding='same', activation='relu'))\n",
        "model3.add(layers.Dropout(0.5, input_shape=(32, 32, 3))) # Dropout\n",
        "model3.add(layers.MaxPooling2D((2, 2)))\n",
        "model3.add(layers.Flatten())\n",
        "model3.add(layers.Dense(64))\n",
        "model3.add(layers.Dropout(0.5, input_shape=(32, 32, 3))) # Dropout\n",
        "model3.add(layers.Dense(128))\n",
        "model3.add(layers.Dense(128))\n",
        "model3.add(layers.Dense(10))\n",
        "\n",
        "history3, mdl3 = ej3(model3)"
      ],
      "metadata": {
        "id": "e2RSjfFTUXYW",
        "outputId": "e75f82d5-778c-4373-900a-41e430130ee6",
        "colab": {
          "base_uri": "https://localhost:8080/"
        }
      },
      "execution_count": 4,
      "outputs": [
        {
          "output_type": "stream",
          "name": "stdout",
          "text": [
            "Downloading data from https://www.cs.toronto.edu/~kriz/cifar-10-python.tar.gz\n",
            "170500096/170498071 [==============================] - 2s 0us/step\n",
            "170508288/170498071 [==============================] - 2s 0us/step\n",
            "Epoch 1/20\n",
            "1250/1250 [==============================] - 20s 6ms/step - loss: 1.8125 - accuracy: 0.3275 - val_loss: 1.6047 - val_accuracy: 0.4347\n",
            "Epoch 2/20\n",
            "1250/1250 [==============================] - 8s 6ms/step - loss: 1.5715 - accuracy: 0.4234 - val_loss: 1.4318 - val_accuracy: 0.4941\n",
            "Epoch 3/20\n",
            "1250/1250 [==============================] - 7s 6ms/step - loss: 1.4769 - accuracy: 0.4611 - val_loss: 1.3742 - val_accuracy: 0.5088\n",
            "Epoch 4/20\n",
            "1250/1250 [==============================] - 8s 7ms/step - loss: 1.4090 - accuracy: 0.4899 - val_loss: 1.2642 - val_accuracy: 0.5568\n",
            "Epoch 5/20\n",
            "1250/1250 [==============================] - 8s 6ms/step - loss: 1.3581 - accuracy: 0.5083 - val_loss: 1.2669 - val_accuracy: 0.5534\n",
            "Epoch 6/20\n",
            "1250/1250 [==============================] - 8s 6ms/step - loss: 1.3080 - accuracy: 0.5299 - val_loss: 1.1657 - val_accuracy: 0.5959\n",
            "Epoch 7/20\n",
            "1250/1250 [==============================] - 8s 6ms/step - loss: 1.2779 - accuracy: 0.5457 - val_loss: 1.1366 - val_accuracy: 0.6050\n",
            "Epoch 8/20\n",
            "1250/1250 [==============================] - 7s 6ms/step - loss: 1.2466 - accuracy: 0.5584 - val_loss: 1.1916 - val_accuracy: 0.5762\n",
            "Epoch 9/20\n",
            "1250/1250 [==============================] - 8s 6ms/step - loss: 1.2177 - accuracy: 0.5709 - val_loss: 1.1332 - val_accuracy: 0.6248\n",
            "Epoch 10/20\n",
            "1250/1250 [==============================] - 8s 6ms/step - loss: 1.2003 - accuracy: 0.5752 - val_loss: 1.1012 - val_accuracy: 0.6177\n",
            "Epoch 11/20\n",
            "1250/1250 [==============================] - 8s 6ms/step - loss: 1.1723 - accuracy: 0.5823 - val_loss: 1.0618 - val_accuracy: 0.6366\n",
            "Epoch 12/20\n",
            "1250/1250 [==============================] - 7s 6ms/step - loss: 1.1516 - accuracy: 0.5930 - val_loss: 1.0553 - val_accuracy: 0.6376\n",
            "Epoch 13/20\n",
            "1250/1250 [==============================] - 7s 6ms/step - loss: 1.1356 - accuracy: 0.6002 - val_loss: 1.0340 - val_accuracy: 0.6461\n",
            "Epoch 14/20\n",
            "1250/1250 [==============================] - 7s 6ms/step - loss: 1.1193 - accuracy: 0.6068 - val_loss: 0.9878 - val_accuracy: 0.6675\n",
            "Epoch 15/20\n",
            "1250/1250 [==============================] - 8s 6ms/step - loss: 1.1038 - accuracy: 0.6131 - val_loss: 0.9756 - val_accuracy: 0.6611\n",
            "Epoch 16/20\n",
            "1250/1250 [==============================] - 7s 6ms/step - loss: 1.0886 - accuracy: 0.6173 - val_loss: 0.9651 - val_accuracy: 0.6665\n",
            "Epoch 17/20\n",
            "1250/1250 [==============================] - 8s 6ms/step - loss: 1.0751 - accuracy: 0.6258 - val_loss: 0.9373 - val_accuracy: 0.6796\n",
            "Epoch 18/20\n",
            "1250/1250 [==============================] - 8s 6ms/step - loss: 1.0608 - accuracy: 0.6302 - val_loss: 1.0138 - val_accuracy: 0.6558\n",
            "Epoch 19/20\n",
            "1250/1250 [==============================] - 8s 6ms/step - loss: 1.0501 - accuracy: 0.6354 - val_loss: 0.9298 - val_accuracy: 0.6978\n",
            "Epoch 20/20\n",
            "1250/1250 [==============================] - 7s 6ms/step - loss: 1.0438 - accuracy: 0.6363 - val_loss: 0.9079 - val_accuracy: 0.6952\n"
          ]
        }
      ]
    },
    {
      "cell_type": "markdown",
      "source": [
        "### Resultados"
      ],
      "metadata": {
        "id": "swvZBDp1I_Zr"
      }
    },
    {
      "cell_type": "code",
      "source": [
        "graficar_resultados(history3, mdl3, 'Ejercicio 3 - Data Augmentation')"
      ],
      "metadata": {
        "id": "YMCy_LydVr5w",
        "outputId": "b059febf-5850-4212-998f-7c6c527eeaf2",
        "colab": {
          "base_uri": "https://localhost:8080/",
          "height": 330
        }
      },
      "execution_count": 5,
      "outputs": [
        {
          "output_type": "display_data",
          "data": {
            "text/plain": [
              "<Figure size 432x288 with 1 Axes>"
            ],
            "image/png": "[encoded data removed]"
          },
          "metadata": {
            "needs_background": "light"
          }
        },
        {
          "output_type": "stream",
          "name": "stdout",
          "text": [
            "313/313 [==============================] - 1s 3ms/step - loss: 0.9220 - accuracy: 0.6898\n",
            "Test error en el modelo final: 0.3101999759674072\n"
          ]
        }
      ]
    },
    {
      "cell_type": "markdown",
      "source": [
        "### Conclusiones\n",
        "\n",
        "Hay menos sobreajuste ya que en esta gráfica las curvas se ven más 'similares', más allá de que la curva de validación presenta más 'picos' que la de entrenamiento. Sin embargo, no se ven mejoras en el error. En el ejercicio anterior vimos un error del 0.26 en test y acá vemos un error de aproximadamente 0.31. Por lo que indica que la capa de data augmentation no funcionó muy bien para reducir el error, pero si es útil para reducir el overfitting.\n"
      ],
      "metadata": {
        "id": "Jw1LspVLV6Wn"
      }
    },
    {
      "cell_type": "markdown",
      "source": [
        "## Ejercicio 4"
      ],
      "metadata": {
        "id": "AToxomKNIIOf"
      }
    },
    {
      "cell_type": "markdown",
      "source": [
        "Como idea para mejorar nuestro diseño de la red, optamos por agregar dos capas convolucionales de 128 filtros para ver si esto nos puede llegar a dar más accuracy. A continuación veremos los resultados obtenidos."
      ],
      "metadata": {
        "id": "7OQTBFfaM9Kf"
      }
    },
    {
      "cell_type": "markdown",
      "source": [
        "### Ejercicio 1 mejorado"
      ],
      "metadata": {
        "id": "HWqy8nxdQT4u"
      }
    },
    {
      "cell_type": "code",
      "source": [
        "model = tf.keras.models.Sequential()\n",
        "model.add(layers.Conv2D(32, (3, 3), activation='relu', padding='same', input_shape=(32, 32, 3)))\n",
        "model.add(layers.Conv2D(32, (3, 3), activation='relu', padding='same', input_shape=(32, 32, 3)))\n",
        "model.add(layers.MaxPooling2D((2, 2)))\n",
        "model.add(layers.Conv2D(64, (3, 3), padding='same', activation='relu'))\n",
        "model.add(layers.Conv2D(64, (3, 3), padding='same', activation='relu'))\n",
        "model.add(layers.MaxPooling2D((2, 2)))\n",
        "model.add(layers.Conv2D(128, (3, 3), padding='same', activation='relu'))\n",
        "model.add(layers.Conv2D(128, (3, 3), padding='same', activation='relu'))\n",
        "model.add(layers.Flatten())\n",
        "model.add(layers.Dense(128))\n",
        "model.add(layers.Dense(10))\n",
        "\n",
        "history, mdl = ej1(model)"
      ],
      "metadata": {
        "id": "TfwEX_s7V_Kw",
        "outputId": "a993fdd9-50c7-4acb-9e29-509ee1362861",
        "colab": {
          "base_uri": "https://localhost:8080/"
        }
      },
      "execution_count": null,
      "outputs": [
        {
          "output_type": "stream",
          "name": "stdout",
          "text": [
            "Epoch 1/10\n",
            "1250/1250 [==============================] - 8s 6ms/step - loss: 1.5183 - accuracy: 0.4457 - val_loss: 1.1825 - val_accuracy: 0.5829\n",
            "Epoch 2/10\n",
            "1250/1250 [==============================] - 8s 6ms/step - loss: 1.0334 - accuracy: 0.6346 - val_loss: 0.9254 - val_accuracy: 0.6721\n",
            "Epoch 3/10\n",
            "1250/1250 [==============================] - 7s 6ms/step - loss: 0.8446 - accuracy: 0.7009 - val_loss: 0.9284 - val_accuracy: 0.6781\n",
            "Epoch 4/10\n",
            "1250/1250 [==============================] - 7s 5ms/step - loss: 0.7234 - accuracy: 0.7468 - val_loss: 0.8003 - val_accuracy: 0.7204\n",
            "Epoch 5/10\n",
            "1250/1250 [==============================] - 7s 6ms/step - loss: 0.6360 - accuracy: 0.7753 - val_loss: 0.7753 - val_accuracy: 0.7273\n",
            "Epoch 6/10\n",
            "1250/1250 [==============================] - 7s 6ms/step - loss: 0.5519 - accuracy: 0.8053 - val_loss: 0.8334 - val_accuracy: 0.7139\n",
            "Epoch 7/10\n",
            "1250/1250 [==============================] - 8s 6ms/step - loss: 0.4814 - accuracy: 0.8284 - val_loss: 0.8851 - val_accuracy: 0.7177\n",
            "Epoch 8/10\n",
            "1250/1250 [==============================] - 8s 6ms/step - loss: 0.4204 - accuracy: 0.8505 - val_loss: 0.8776 - val_accuracy: 0.7230\n",
            "Epoch 9/10\n",
            "1250/1250 [==============================] - 7s 5ms/step - loss: 0.3660 - accuracy: 0.8693 - val_loss: 0.9790 - val_accuracy: 0.7268\n",
            "Epoch 10/10\n",
            "1250/1250 [==============================] - 7s 5ms/step - loss: 0.3158 - accuracy: 0.8880 - val_loss: 1.0022 - val_accuracy: 0.7250\n"
          ]
        }
      ]
    },
    {
      "cell_type": "markdown",
      "source": [
        "### Resultados - Ejercicio 1 Mejorado"
      ],
      "metadata": {
        "id": "bLm3WwNsJGln"
      }
    },
    {
      "cell_type": "code",
      "source": [
        "# Calculamos el error a partir del accuracy para poder graficar\n",
        "train_error = map(lambda x: 1 - x, history.history['accuracy'])\n",
        "val_error = map(lambda x: 1 - x,  history.history['val_accuracy'])\n",
        "\n",
        "# Graficamos\n",
        "plt.plot(list(train_error), label='Train Error')\n",
        "plt.plot(list(val_error), label = 'Val Error')\n",
        "plt.xlabel('Epoca')\n",
        "plt.ylabel('Error')\n",
        "plt.legend()\n",
        "plt.title('Ejercicio 1')\n",
        "plt.show()\n",
        "\n",
        "# Error de test\n",
        "\n",
        "(train_images, train_labels), (test_images, test_labels) = datasets.cifar10.load_data()\n",
        "\n",
        "# Normalize pixel values to be between 0 and 1\n",
        "train_images, test_images = train_images / 255.0, test_images / 255.0\n",
        "\n",
        "test_loss, test_acc = mdl.evaluate(test_images,  test_labels)\n",
        "print(f\"Test error en el modelo final {1 - test_acc}\")\n"
      ],
      "metadata": {
        "id": "FLz5wziXWIuC",
        "outputId": "f52156ce-f6ef-44dd-b4b3-08eb4c60c9b7",
        "colab": {
          "base_uri": "https://localhost:8080/",
          "height": 330
        }
      },
      "execution_count": null,
      "outputs": [
        {
          "output_type": "display_data",
          "data": {
            "text/plain": [
              "<Figure size 432x288 with 1 Axes>"
            ],
            "image/png": "[encoded data removed]"
          },
          "metadata": {
            "needs_background": "light"
          }
        },
        {
          "output_type": "stream",
          "name": "stdout",
          "text": [
            "313/313 [==============================] - 1s 4ms/step - loss: 1.0379 - accuracy: 0.7221\n",
            "Test error en el modelo final 0.27789998054504395\n"
          ]
        }
      ]
    },
    {
      "cell_type": "markdown",
      "source": [
        "### Ejercicio 2 mejorado"
      ],
      "metadata": {
        "id": "m-J7QNXwQmjg"
      }
    },
    {
      "cell_type": "code",
      "source": [
        "ms = []\n",
        "for p in [0.2, 0.5]:\n",
        "\n",
        "    model = tf.keras.models.Sequential()\n",
        "    model.add(layers.Conv2D(32, (3, 3), activation='relu', padding='same', input_shape=(32, 32, 3)))\n",
        "    model.add(layers.Conv2D(32, (3, 3), activation='relu', padding='same', input_shape=(32, 32, 3)))\n",
        "    model.add(layers.MaxPooling2D((2, 2)))\n",
        "    model.add(layers.Conv2D(64, (3, 3), padding='same', activation='relu'))\n",
        "    model.add(layers.Conv2D(64, (3, 3), padding='same', activation='relu'))\n",
        "    model.add(layers.MaxPooling2D((2, 2)))\n",
        "    model.add(layers.Conv2D(128, (3, 3), padding='same', activation='relu'))\n",
        "    model.add(layers.Conv2D(128, (3, 3), padding='same', activation='relu'))\n",
        "    model.add(layers.Dropout(p, input_shape=(32, 32, 3))) # Dropout\n",
        "    model.add(layers.Flatten())\n",
        "    model.add(layers.Dense(128))\n",
        "    model.add(layers.Dropout(p, input_shape=(32, 32, 3))) # Dropout\n",
        "    model.add(layers.Dense(10))\n",
        "\n",
        "    ms.append(model)\n",
        "\n",
        "modelos = ej2(ms)"
      ],
      "metadata": {
        "id": "o_ONAyJdQqCR",
        "outputId": "0ff2954a-b168-4948-efea-10eed1ac6483",
        "colab": {
          "base_uri": "https://localhost:8080/"
        }
      },
      "execution_count": null,
      "outputs": [
        {
          "output_type": "stream",
          "name": "stdout",
          "text": [
            "Epoch 1/20\n",
            "1250/1250 [==============================] - 8s 6ms/step - loss: 1.5102 - accuracy: 0.4458 - val_loss: 1.1353 - val_accuracy: 0.6012\n",
            "Epoch 2/20\n",
            "1250/1250 [==============================] - 7s 6ms/step - loss: 1.0442 - accuracy: 0.6317 - val_loss: 1.0516 - val_accuracy: 0.6324\n",
            "Epoch 3/20\n",
            "1250/1250 [==============================] - 7s 6ms/step - loss: 0.8683 - accuracy: 0.6941 - val_loss: 0.9163 - val_accuracy: 0.6766\n",
            "Epoch 4/20\n",
            "1250/1250 [==============================] - 7s 6ms/step - loss: 0.7493 - accuracy: 0.7365 - val_loss: 0.7962 - val_accuracy: 0.7253\n",
            "Epoch 5/20\n",
            "1250/1250 [==============================] - 7s 6ms/step - loss: 0.6624 - accuracy: 0.7678 - val_loss: 0.8016 - val_accuracy: 0.7207\n",
            "Epoch 6/20\n",
            "1250/1250 [==============================] - 10s 8ms/step - loss: 0.5904 - accuracy: 0.7918 - val_loss: 0.7855 - val_accuracy: 0.7389\n",
            "Epoch 7/20\n",
            "1250/1250 [==============================] - 8s 6ms/step - loss: 0.5261 - accuracy: 0.8131 - val_loss: 0.7898 - val_accuracy: 0.7342\n",
            "Epoch 8/20\n",
            "1250/1250 [==============================] - 8s 6ms/step - loss: 0.4758 - accuracy: 0.8307 - val_loss: 0.7704 - val_accuracy: 0.7554\n",
            "Epoch 9/20\n",
            "1250/1250 [==============================] - 7s 6ms/step - loss: 0.4367 - accuracy: 0.8439 - val_loss: 0.7755 - val_accuracy: 0.7463\n",
            "Epoch 10/20\n",
            "1250/1250 [==============================] - 7s 6ms/step - loss: 0.3967 - accuracy: 0.8609 - val_loss: 0.8626 - val_accuracy: 0.7381\n",
            "Epoch 11/20\n",
            "1250/1250 [==============================] - 8s 6ms/step - loss: 0.3593 - accuracy: 0.8724 - val_loss: 0.8428 - val_accuracy: 0.7542\n",
            "Epoch 12/20\n",
            "1250/1250 [==============================] - 7s 5ms/step - loss: 0.3375 - accuracy: 0.8825 - val_loss: 0.8737 - val_accuracy: 0.7532\n",
            "Epoch 13/20\n",
            "1250/1250 [==============================] - 7s 6ms/step - loss: 0.3035 - accuracy: 0.8924 - val_loss: 1.0499 - val_accuracy: 0.7346\n",
            "Epoch 14/20\n",
            "1250/1250 [==============================] - 7s 6ms/step - loss: 0.2852 - accuracy: 0.8966 - val_loss: 0.9680 - val_accuracy: 0.7514\n",
            "Epoch 15/20\n",
            "1250/1250 [==============================] - 7s 5ms/step - loss: 0.2706 - accuracy: 0.9046 - val_loss: 0.9843 - val_accuracy: 0.7548\n",
            "Epoch 16/20\n",
            "1250/1250 [==============================] - 7s 5ms/step - loss: 0.2520 - accuracy: 0.9111 - val_loss: 0.9740 - val_accuracy: 0.7525\n",
            "Epoch 17/20\n",
            "1250/1250 [==============================] - 7s 6ms/step - loss: 0.2408 - accuracy: 0.9155 - val_loss: 1.0329 - val_accuracy: 0.7442\n",
            "Epoch 18/20\n",
            "1250/1250 [==============================] - 7s 6ms/step - loss: 0.2329 - accuracy: 0.9184 - val_loss: 1.0833 - val_accuracy: 0.7439\n",
            "Epoch 19/20\n",
            "1250/1250 [==============================] - 8s 7ms/step - loss: 0.2263 - accuracy: 0.9225 - val_loss: 1.0545 - val_accuracy: 0.7469\n",
            "Epoch 20/20\n",
            "1250/1250 [==============================] - 7s 6ms/step - loss: 0.2169 - accuracy: 0.9238 - val_loss: 1.0806 - val_accuracy: 0.7437\n",
            "Epoch 1/20\n",
            "1250/1250 [==============================] - 9s 6ms/step - loss: 1.6285 - accuracy: 0.3966 - val_loss: 1.2786 - val_accuracy: 0.5391\n",
            "Epoch 2/20\n",
            "1250/1250 [==============================] - 7s 6ms/step - loss: 1.1949 - accuracy: 0.5756 - val_loss: 1.0293 - val_accuracy: 0.6328\n",
            "Epoch 3/20\n",
            "1250/1250 [==============================] - 7s 6ms/step - loss: 1.0104 - accuracy: 0.6461 - val_loss: 0.8730 - val_accuracy: 0.6909\n",
            "Epoch 4/20\n",
            "1250/1250 [==============================] - 8s 6ms/step - loss: 0.8874 - accuracy: 0.6902 - val_loss: 0.8358 - val_accuracy: 0.7035\n",
            "Epoch 5/20\n",
            "1250/1250 [==============================] - 7s 6ms/step - loss: 0.8149 - accuracy: 0.7172 - val_loss: 0.8095 - val_accuracy: 0.7161\n",
            "Epoch 6/20\n",
            "1250/1250 [==============================] - 7s 6ms/step - loss: 0.7532 - accuracy: 0.7396 - val_loss: 0.7369 - val_accuracy: 0.7435\n",
            "Epoch 7/20\n",
            "1250/1250 [==============================] - 7s 6ms/step - loss: 0.7060 - accuracy: 0.7549 - val_loss: 0.7401 - val_accuracy: 0.7458\n",
            "Epoch 8/20\n",
            "1250/1250 [==============================] - 7s 6ms/step - loss: 0.6636 - accuracy: 0.7713 - val_loss: 0.7150 - val_accuracy: 0.7559\n",
            "Epoch 9/20\n",
            "1250/1250 [==============================] - 7s 6ms/step - loss: 0.6203 - accuracy: 0.7862 - val_loss: 0.7281 - val_accuracy: 0.7534\n",
            "Epoch 10/20\n",
            "1250/1250 [==============================] - 7s 6ms/step - loss: 0.5916 - accuracy: 0.7934 - val_loss: 0.6724 - val_accuracy: 0.7732\n",
            "Epoch 11/20\n",
            "1250/1250 [==============================] - 7s 6ms/step - loss: 0.5743 - accuracy: 0.8001 - val_loss: 0.7022 - val_accuracy: 0.7645\n",
            "Epoch 12/20\n",
            "1250/1250 [==============================] - 8s 6ms/step - loss: 0.5379 - accuracy: 0.8122 - val_loss: 0.7204 - val_accuracy: 0.7616\n",
            "Epoch 13/20\n",
            "1250/1250 [==============================] - 7s 6ms/step - loss: 0.5131 - accuracy: 0.8223 - val_loss: 0.7194 - val_accuracy: 0.7654\n",
            "Epoch 14/20\n",
            "1250/1250 [==============================] - 7s 6ms/step - loss: 0.4986 - accuracy: 0.8259 - val_loss: 0.6761 - val_accuracy: 0.7767\n",
            "Epoch 15/20\n",
            "1250/1250 [==============================] - 7s 6ms/step - loss: 0.4707 - accuracy: 0.8360 - val_loss: 0.7302 - val_accuracy: 0.7623\n",
            "Epoch 16/20\n",
            "1250/1250 [==============================] - 7s 6ms/step - loss: 0.4581 - accuracy: 0.8389 - val_loss: 0.7691 - val_accuracy: 0.7626\n",
            "Epoch 17/20\n",
            "1250/1250 [==============================] - 8s 6ms/step - loss: 0.4383 - accuracy: 0.8479 - val_loss: 0.6886 - val_accuracy: 0.7771\n",
            "Epoch 18/20\n",
            "1250/1250 [==============================] - 7s 5ms/step - loss: 0.4312 - accuracy: 0.8514 - val_loss: 0.7211 - val_accuracy: 0.7707\n",
            "Epoch 19/20\n",
            "1250/1250 [==============================] - 7s 6ms/step - loss: 0.4157 - accuracy: 0.8559 - val_loss: 0.7487 - val_accuracy: 0.7645\n",
            "Epoch 20/20\n",
            "1250/1250 [==============================] - 7s 6ms/step - loss: 0.4089 - accuracy: 0.8561 - val_loss: 0.7600 - val_accuracy: 0.7716\n"
          ]
        }
      ]
    },
    {
      "cell_type": "markdown",
      "source": [
        "### Resultados - Ejercicio 2 Mejorado"
      ],
      "metadata": {
        "id": "mvn293lBSTnI"
      }
    },
    {
      "cell_type": "code",
      "source": [
        "graficar_resultados(history, modelos[0], 'Ejercicio 2 (mejorado) - Dropout')\n"
      ],
      "metadata": {
        "id": "lfctGVTRSZUG",
        "outputId": "0fb2faa2-a17a-4411-8539-8214823817d3",
        "colab": {
          "base_uri": "https://localhost:8080/",
          "height": 330
        }
      },
      "execution_count": null,
      "outputs": [
        {
          "output_type": "display_data",
          "data": {
            "text/plain": [
              "<Figure size 432x288 with 1 Axes>"
            ],
            "image/png": "[encoded data removed]"
          },
          "metadata": {
            "needs_background": "light"
          }
        },
        {
          "output_type": "stream",
          "name": "stdout",
          "text": [
            "313/313 [==============================] - 1s 4ms/step - loss: 1.1525 - accuracy: 0.7387\n",
            "Test error en el modelo final para p = 0.2: 0.2613000273704529\n"
          ]
        }
      ]
    },
    {
      "cell_type": "code",
      "source": [
        "graficar_resultados(history, modelos[1], 'Ejercicio 2 (mejorado) - Dropout')\n"
      ],
      "metadata": {
        "id": "AgNUyFjtS5ni",
        "outputId": "72063908-0c28-4acc-caf8-024a7ce48cc9",
        "colab": {
          "base_uri": "https://localhost:8080/",
          "height": 330
        }
      },
      "execution_count": null,
      "outputs": [
        {
          "output_type": "display_data",
          "data": {
            "text/plain": [
              "<Figure size 432x288 with 1 Axes>"
            ],
            "image/png": "[encoded data removed]"
          },
          "metadata": {
            "needs_background": "light"
          }
        },
        {
          "output_type": "stream",
          "name": "stdout",
          "text": [
            "313/313 [==============================] - 1s 4ms/step - loss: 0.8133 - accuracy: 0.7678\n",
            "Test error en el modelo final para p = 0.5: 0.232200026512146\n"
          ]
        }
      ]
    },
    {
      "cell_type": "markdown",
      "source": [
        "### Ejercicio 3 mejorado"
      ],
      "metadata": {
        "id": "CXpjBQiEUsah"
      }
    },
    {
      "cell_type": "code",
      "source": [
        "img_height = 32\n",
        "img_width = 32\n",
        "data_augmentation = keras.Sequential(\n",
        "    [\n",
        "          layers.RandomFlip(\"horizontal\", input_shape=(img_height, img_width, 3)),\n",
        "          layers.RandomRotation(0.1),\n",
        "          layers.RandomZoom(0.1),\n",
        "     ]\n",
        ")\n",
        "\n",
        "# Agregamos las capas\n",
        "model = tf.keras.models.Sequential()\n",
        "model.add(data_augmentation)\n",
        "model = tf.keras.models.Sequential()\n",
        "model.add(layers.Conv2D(32, (3, 3), activation='relu', padding='same', input_shape=(32, 32, 3)))\n",
        "model.add(layers.Conv2D(32, (3, 3), activation='relu', padding='same', input_shape=(32, 32, 3)))\n",
        "model.add(layers.MaxPooling2D((2, 2)))\n",
        "model.add(layers.Conv2D(64, (3, 3), padding='same', activation='relu'))\n",
        "model.add(layers.Conv2D(64, (3, 3), padding='same', activation='relu'))\n",
        "model.add(layers.MaxPooling2D((2, 2)))\n",
        "model.add(layers.Conv2D(128, (3, 3), padding='same', activation='relu'))\n",
        "model.add(layers.Conv2D(128, (3, 3), padding='same', activation='relu'))\n",
        "model.add(layers.Dropout(0.5, input_shape=(32, 32, 3))) # Dropout\n",
        "model.add(layers.Flatten())\n",
        "model.add(layers.Dense(128))\n",
        "model.add(layers.Dropout(0.5, input_shape=(32, 32, 3))) # Dropout\n",
        "model.add(layers.Dense(10))\n",
        "\n",
        "history, model = ej3(model)"
      ],
      "metadata": {
        "id": "E7hoMrgXU2VW",
        "outputId": "d3835830-b4c8-4972-c37d-2e3f04104204",
        "colab": {
          "base_uri": "https://localhost:8080/"
        }
      },
      "execution_count": 6,
      "outputs": [
        {
          "output_type": "stream",
          "name": "stdout",
          "text": [
            "Epoch 1/20\n",
            "1250/1250 [==============================] - 8s 6ms/step - loss: 1.6610 - accuracy: 0.3845 - val_loss: 1.3081 - val_accuracy: 0.5207\n",
            "Epoch 2/20\n",
            "1250/1250 [==============================] - 7s 6ms/step - loss: 1.2340 - accuracy: 0.5584 - val_loss: 1.0282 - val_accuracy: 0.6299\n",
            "Epoch 3/20\n",
            "1250/1250 [==============================] - 7s 6ms/step - loss: 1.0461 - accuracy: 0.6300 - val_loss: 0.9636 - val_accuracy: 0.6646\n",
            "Epoch 4/20\n",
            "1250/1250 [==============================] - 8s 6ms/step - loss: 0.9264 - accuracy: 0.6758 - val_loss: 0.8713 - val_accuracy: 0.6890\n",
            "Epoch 5/20\n",
            "1250/1250 [==============================] - 7s 6ms/step - loss: 0.8439 - accuracy: 0.7041 - val_loss: 0.8206 - val_accuracy: 0.7120\n",
            "Epoch 6/20\n",
            "1250/1250 [==============================] - 7s 6ms/step - loss: 0.7768 - accuracy: 0.7282 - val_loss: 0.8001 - val_accuracy: 0.7262\n",
            "Epoch 7/20\n",
            "1250/1250 [==============================] - 7s 6ms/step - loss: 0.7286 - accuracy: 0.7485 - val_loss: 0.7340 - val_accuracy: 0.7473\n",
            "Epoch 8/20\n",
            "1250/1250 [==============================] - 8s 7ms/step - loss: 0.6864 - accuracy: 0.7616 - val_loss: 0.7398 - val_accuracy: 0.7441\n",
            "Epoch 9/20\n",
            "1250/1250 [==============================] - 7s 6ms/step - loss: 0.6370 - accuracy: 0.7775 - val_loss: 0.7959 - val_accuracy: 0.7380\n",
            "Epoch 10/20\n",
            "1250/1250 [==============================] - 7s 6ms/step - loss: 0.6107 - accuracy: 0.7872 - val_loss: 0.7645 - val_accuracy: 0.7409\n",
            "Epoch 11/20\n",
            "1250/1250 [==============================] - 7s 6ms/step - loss: 0.5734 - accuracy: 0.7985 - val_loss: 0.7260 - val_accuracy: 0.7536\n",
            "Epoch 12/20\n",
            "1250/1250 [==============================] - 7s 6ms/step - loss: 0.5513 - accuracy: 0.8083 - val_loss: 0.7547 - val_accuracy: 0.7475\n",
            "Epoch 13/20\n",
            "1250/1250 [==============================] - 7s 6ms/step - loss: 0.5233 - accuracy: 0.8183 - val_loss: 0.7265 - val_accuracy: 0.7611\n",
            "Epoch 14/20\n",
            "1250/1250 [==============================] - 7s 6ms/step - loss: 0.5037 - accuracy: 0.8251 - val_loss: 0.7522 - val_accuracy: 0.7610\n",
            "Epoch 15/20\n",
            "1250/1250 [==============================] - 7s 6ms/step - loss: 0.4895 - accuracy: 0.8289 - val_loss: 0.7717 - val_accuracy: 0.7472\n",
            "Epoch 16/20\n",
            "1250/1250 [==============================] - 7s 6ms/step - loss: 0.4648 - accuracy: 0.8364 - val_loss: 0.7705 - val_accuracy: 0.7458\n",
            "Epoch 17/20\n",
            "1250/1250 [==============================] - 8s 6ms/step - loss: 0.4458 - accuracy: 0.8444 - val_loss: 0.7679 - val_accuracy: 0.7567\n",
            "Epoch 18/20\n",
            "1250/1250 [==============================] - 7s 6ms/step - loss: 0.4355 - accuracy: 0.8474 - val_loss: 0.7702 - val_accuracy: 0.7603\n",
            "Epoch 19/20\n",
            "1250/1250 [==============================] - 8s 6ms/step - loss: 0.4217 - accuracy: 0.8515 - val_loss: 0.7817 - val_accuracy: 0.7569\n",
            "Epoch 20/20\n",
            "1250/1250 [==============================] - 8s 6ms/step - loss: 0.4114 - accuracy: 0.8553 - val_loss: 0.8039 - val_accuracy: 0.7558\n"
          ]
        }
      ]
    },
    {
      "cell_type": "markdown",
      "source": [
        "### Resultados - Ejercicio 3 mejorado"
      ],
      "metadata": {
        "id": "RW5fHpJ5UvpL"
      }
    },
    {
      "cell_type": "code",
      "source": [
        "graficar_resultados(history, model, 'Ejercicio 3 (mejorado) - Data Augmentation')"
      ],
      "metadata": {
        "id": "EExmJ_ChV8og",
        "outputId": "3293dd5c-7918-4cd5-ea01-bc58eff1c42f",
        "colab": {
          "base_uri": "https://localhost:8080/",
          "height": 330
        }
      },
      "execution_count": 7,
      "outputs": [
        {
          "output_type": "display_data",
          "data": {
            "text/plain": [
              "<Figure size 432x288 with 1 Axes>"
            ],
            "image/png": "[encoded data removed]"
          },
          "metadata": {
            "needs_background": "light"
          }
        },
        {
          "output_type": "stream",
          "name": "stdout",
          "text": [
            "313/313 [==============================] - 1s 4ms/step - loss: 0.8263 - accuracy: 0.7522\n",
            "Test error en el modelo final: 0.24779999256134033\n"
          ]
        }
      ]
    },
    {
      "cell_type": "markdown",
      "source": [
        "### Conclusiones"
      ],
      "metadata": {
        "id": "1c2MJRRrJIEd"
      }
    },
    {
      "cell_type": "markdown",
      "source": [
        "Respecto al ejercicio 1 y 2 vemos resultados similares. Se alcanzó la mejora del 3% como se pide en el ejercicio pero con lo justo. Con respecto al overfitting no cambia mucho con el diseño de nuestra nueva red. Lo bueno es que pudimos disminuir aunque sea un poco el error sin tener más overfitting.\n",
        "\n",
        "Con respecto al ejercicio 3, que es quizás el más interesante de notar, podemos ver que tuvimos una mejora de mas o menos un 7%, lo cual es bueno pero no hay que dejar de observar que vemos más overfitting que en el modelo original, lo cual no pasó con el ejercicio 1 y 2. Sospecho que puede llegar a tener algo que ver la influencia de la capa de data_augmentation, pero no estoy segura del todo.\n",
        "\n",
        "Lo que concluimos es que aumentar las capas convolucionales puede llegar a ser bueno para aumentar la accuracy ya que le permite a la red extraer más características de las imagenes de entrada. Pero tampoco es tan simple como agregar muchas capas porque como vemos en los resultados del ejercicio 3 el overfitting comienza a aumentar rápidamente. Sospecho que puede ocurrir porque, al haber más capas convolucionales, puede estar aprendiendo 'features' de más que no son realmente cosas que caracterizan al ejemplo con el que se está entrenando, causando así un sobreajuste.\n"
      ],
      "metadata": {
        "id": "F3Hm5ZL9LoQs"
      }
    },
    {
      "cell_type": "markdown",
      "source": [
        "## Ejercicio 5"
      ],
      "metadata": {
        "id": "B3wzJOiGIObn"
      }
    },
    {
      "cell_type": "code",
      "source": [
        "def ej5():\n",
        "  img_height = 32\n",
        "  img_width = 32\n",
        "  data_augmentation = keras.Sequential(\n",
        "      [\n",
        "            layers.RandomFlip(\"horizontal\", input_shape=(img_height, img_width, 3)),\n",
        "            layers.RandomRotation(0.1),\n",
        "            layers.RandomZoom(0.1),\n",
        "            layers.RandomContrast(0.1),\n",
        "      ]\n",
        "  )\n",
        "\n",
        "  # Agregamos las capas\n",
        "  model = models.Sequential()\n",
        "  model.add(data_augmentation)\n",
        "  model.add(layers.Conv2D(32, (3, 3), activation='relu', padding='same', input_shape=(32, 32, 3)))\n",
        "  model.add(layers.MaxPooling2D((2, 2)))\n",
        "  model.add(layers.Conv2D(64, (3, 3), padding='same', activation='relu'))\n",
        "  model.add(layers.Conv2D(64, (3, 3), padding='same', activation='relu'))\n",
        "  model.add(layers.MaxPooling2D((2, 2)))\n",
        "  model.add(layers.Conv2D(64, (3, 3), padding='same', activation='relu'))\n",
        "  model.add(layers.Conv2D(64, (3, 3), padding='same', activation='relu'))\n",
        "  model.add(layers.Dropout(0.5, input_shape=(32, 32, 3))) # Dropout\n",
        "  model.add(layers.MaxPooling2D((2, 2)))\n",
        "  model.add(layers.Flatten())\n",
        "  model.add(layers.Dense(64))\n",
        "  model.add(layers.Dropout(0.5, input_shape=(32, 32, 3))) # Dropout\n",
        "  model.add(layers.Dense(128))\n",
        "  model.add(layers.Dense(128))\n",
        "  model.add(layers.Dense(10))\n",
        "\n",
        "  (train_images, train_labels), (test_images, test_labels) = datasets.cifar10.load_data()\n",
        "\n",
        "  # Normalizamos como lo hace el ejemplo del tutorial\n",
        "  train_images, test_images = train_images / 255.0, test_images / 255.0\n",
        "\n",
        "\n",
        "  # Separamos conjunto de validación\n",
        "  train_images, val_images, train_labels, val_labels = train_test_split(\n",
        "      train_images, train_labels, test_size=0.2, random_state=0\n",
        "  )\n",
        "\n",
        "  # Compilamos y entrenamos\n",
        "\n",
        "  model.compile(\n",
        "      optimizer='adam',\n",
        "      loss=tf.keras.losses.SparseCategoricalCrossentropy(from_logits=True),\n",
        "      metrics=['accuracy']\n",
        "  )\n",
        "\n",
        "  history = model.fit(\n",
        "      train_images, \n",
        "      train_labels, \n",
        "      epochs=20,\n",
        "      validation_data=(val_images, val_labels)\n",
        "  )\n",
        "\n",
        "  return history, model"
      ],
      "metadata": {
        "id": "_-ZweFSLIRB8"
      },
      "execution_count": 16,
      "outputs": []
    },
    {
      "cell_type": "code",
      "source": [
        "history, model = ej5()"
      ],
      "metadata": {
        "colab": {
          "base_uri": "https://localhost:8080/"
        },
        "id": "TYxgNzXxIys3",
        "outputId": "5898b43c-84d0-4db4-bbed-f578261149e9"
      },
      "execution_count": 17,
      "outputs": [
        {
          "output_type": "stream",
          "name": "stdout",
          "text": [
            "Epoch 1/20\n",
            "1250/1250 [==============================] - 10s 8ms/step - loss: 1.7853 - accuracy: 0.3382 - val_loss: 1.5096 - val_accuracy: 0.4338\n",
            "Epoch 2/20\n",
            "1250/1250 [==============================] - 8s 7ms/step - loss: 1.5431 - accuracy: 0.4348 - val_loss: 1.3762 - val_accuracy: 0.5162\n",
            "Epoch 3/20\n",
            "1250/1250 [==============================] - 8s 7ms/step - loss: 1.4327 - accuracy: 0.4807 - val_loss: 1.3321 - val_accuracy: 0.5184\n",
            "Epoch 4/20\n",
            "1250/1250 [==============================] - 8s 7ms/step - loss: 1.3615 - accuracy: 0.5116 - val_loss: 1.2254 - val_accuracy: 0.5639\n",
            "Epoch 5/20\n",
            "1250/1250 [==============================] - 8s 7ms/step - loss: 1.3067 - accuracy: 0.5344 - val_loss: 1.1727 - val_accuracy: 0.6094\n",
            "Epoch 6/20\n",
            "1250/1250 [==============================] - 8s 6ms/step - loss: 1.2718 - accuracy: 0.5490 - val_loss: 1.1336 - val_accuracy: 0.6009\n",
            "Epoch 7/20\n",
            "1250/1250 [==============================] - 8s 6ms/step - loss: 1.2398 - accuracy: 0.5595 - val_loss: 1.1420 - val_accuracy: 0.5943\n",
            "Epoch 8/20\n",
            "1250/1250 [==============================] - 8s 6ms/step - loss: 1.2073 - accuracy: 0.5764 - val_loss: 1.0604 - val_accuracy: 0.6364\n",
            "Epoch 9/20\n",
            "1250/1250 [==============================] - 8s 6ms/step - loss: 1.1713 - accuracy: 0.5895 - val_loss: 1.0454 - val_accuracy: 0.6571\n",
            "Epoch 10/20\n",
            "1250/1250 [==============================] - 8s 7ms/step - loss: 1.1548 - accuracy: 0.5935 - val_loss: 1.0278 - val_accuracy: 0.6507\n",
            "Epoch 11/20\n",
            "1250/1250 [==============================] - 8s 7ms/step - loss: 1.1361 - accuracy: 0.6032 - val_loss: 1.0065 - val_accuracy: 0.6595\n",
            "Epoch 12/20\n",
            "1250/1250 [==============================] - 8s 7ms/step - loss: 1.1153 - accuracy: 0.6131 - val_loss: 0.9564 - val_accuracy: 0.6833\n",
            "Epoch 13/20\n",
            "1250/1250 [==============================] - 8s 6ms/step - loss: 1.0947 - accuracy: 0.6170 - val_loss: 1.0066 - val_accuracy: 0.6597\n",
            "Epoch 14/20\n",
            "1250/1250 [==============================] - 8s 7ms/step - loss: 1.0814 - accuracy: 0.6219 - val_loss: 0.9250 - val_accuracy: 0.6865\n",
            "Epoch 15/20\n",
            "1250/1250 [==============================] - 8s 6ms/step - loss: 1.0672 - accuracy: 0.6318 - val_loss: 0.9691 - val_accuracy: 0.6660\n",
            "Epoch 16/20\n",
            "1250/1250 [==============================] - 8s 6ms/step - loss: 1.0512 - accuracy: 0.6345 - val_loss: 0.9542 - val_accuracy: 0.6747\n",
            "Epoch 17/20\n",
            "1250/1250 [==============================] - 8s 6ms/step - loss: 1.0496 - accuracy: 0.6377 - val_loss: 0.9582 - val_accuracy: 0.6823\n",
            "Epoch 18/20\n",
            "1250/1250 [==============================] - 8s 6ms/step - loss: 1.0295 - accuracy: 0.6432 - val_loss: 0.9293 - val_accuracy: 0.6785\n",
            "Epoch 19/20\n",
            "1250/1250 [==============================] - 8s 7ms/step - loss: 1.0178 - accuracy: 0.6473 - val_loss: 0.8883 - val_accuracy: 0.6991\n",
            "Epoch 20/20\n",
            "1250/1250 [==============================] - 8s 6ms/step - loss: 1.0081 - accuracy: 0.6509 - val_loss: 0.8631 - val_accuracy: 0.7141\n"
          ]
        }
      ]
    },
    {
      "cell_type": "markdown",
      "source": [
        "### Resultados"
      ],
      "metadata": {
        "id": "M_L06D0dJB2Y"
      }
    },
    {
      "cell_type": "code",
      "source": [
        "# Calculamos el error a partir del accuracy para poder graficar\n",
        "train_error = map(lambda x: 1 - x, history.history['accuracy'])\n",
        "val_error = map(lambda x: 1 - x,  history.history['val_accuracy'])\n",
        "\n",
        "# Graficamos\n",
        "plt.plot(range(1, 21), list(train_error), label='Train Error')\n",
        "plt.plot(range(1, 21), list(val_error), label = 'Val Error')\n",
        "plt.xlabel('Epoca')\n",
        "plt.ylabel('Error')\n",
        "plt.legend()\n",
        "plt.title('Ejercicio 3 - Data Augmentation')\n",
        "plt.show()\n",
        "\n",
        "# Error de test\n",
        "\n",
        "(train_images, train_labels), (test_images, test_labels) = datasets.cifar10.load_data()\n",
        "# Normalize pixel values to be between 0 and 1\n",
        "train_images, test_images = train_images / 255.0, test_images / 255.0\n",
        "test_loss, test_acc = model.evaluate(test_images,  test_labels)\n",
        "print(f\"Test error en el modelo final: {1 - test_acc}\")"
      ],
      "metadata": {
        "colab": {
          "base_uri": "https://localhost:8080/",
          "height": 330
        },
        "id": "UhwDYytDItDY",
        "outputId": "0ecfde04-05e8-4bbd-c589-7c0d22754f22"
      },
      "execution_count": 18,
      "outputs": [
        {
          "output_type": "display_data",
          "data": {
            "text/plain": [
              "<Figure size 432x288 with 1 Axes>"
            ],
            "image/png": "[encoded data removed]"
          },
          "metadata": {
            "needs_background": "light"
          }
        },
        {
          "output_type": "stream",
          "name": "stdout",
          "text": [
            "313/313 [==============================] - 1s 3ms/step - loss: 0.8744 - accuracy: 0.7115\n",
            "Test error en el modelo final: 0.28850001096725464\n"
          ]
        }
      ]
    },
    {
      "cell_type": "markdown",
      "source": [
        "### Conclusiones"
      ],
      "metadata": {
        "id": "8VBzSqyGJDVE"
      }
    },
    {
      "cell_type": "markdown",
      "source": [
        "No se notan mejoras respecto al error, de hecho, en la mayoría de las corridas resulto ser más alto, más allá de que el resultado actual es mejor al del ejercicio 3 en aproximadamente un 3%. Lo que si podemos notar es como las curvas están más 'suavizadas'. Por otro lado, se probó agregar más de una capa de data augmentation, tal como: `layers.RandomFlip(\"vertical\", input_shape=(img_height, img_width, 3))` pero se llegó a tener un error de más de 0.4, que es bastante mayor a lo obtenido en los resultados actuales. Por lo que se optó por dejar sólo una capa más de data augmentation. Aún así me resulta curioso por qué podría estar teniendo más error agregando más capas. Con respecto al overfitting no se notan cambios, no logro ver mucho más para concluir."
      ],
      "metadata": {
        "id": "DtCseFrvVdye"
      }
    }
  ],
  "metadata": {
    "language_info": {
      "name": "python"
    },
    "orig_nbformat": 4,
    "colab": {
      "name": "CNN.ipynb",
      "provenance": [],
      "toc_visible": true
    },
    "kernelspec": {
      "name": "python3",
      "display_name": "Python 3"
    },
    "gpuClass": "standard",
    "accelerator": "GPU"
  },
  "nbformat": 4,
  "nbformat_minor": 0
}