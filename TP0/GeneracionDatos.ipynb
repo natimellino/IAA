{
 "cells": [
  {
   "cell_type": "markdown",
   "metadata": {},
   "source": [
    "# Introducción al Aprendizaje Automatizado - TP0\n",
    "## **Alumno:** Mellino, Natalia\n",
    "\n"
   ]
  },
  {
   "cell_type": "markdown",
   "metadata": {},
   "source": [
    "### Apartado a)\n",
    "\n",
    "Definimos una función que genera un dataframe de longitud dada $n$ de acuerdo a \n",
    "lo siguiente:\n",
    "\n",
    "- Los datos tienen $d$ inputs, que son valores reales correspondientes a la \n",
    "posición del punto en un espacio $d$-dimensional.\n",
    "- El output es binario, y corresponde a la clase a la que pertenece el ejemplo:\n",
    "    - La clase 1 corresponde a puntos generados al azar, provenientes de una\n",
    "    distribución normal con centro en el (1, 1, ..., 1) y matriz de covarianza\n",
    "    diagonal, con desviación estandar: $C * \\sqrt{d}$\n",
    "    - La clase 0 tiene la misma distribución pero centrada en el (-1, -1, ..., -1).\n",
    "- Los parámetros que toma la función son: $n, d, C$.\n",
    "- De los $n$ puntos generados, $n/2$ deben pertenecer a cada clase."
   ]
  },
  {
   "cell_type": "code",
   "execution_count": null,
   "metadata": {},
   "outputs": [],
   "source": [
    "import pandas as pd\n",
    "import numpy as np\n",
    "from math import sqrt\n",
    "from typing import List\n",
    "\n",
    "\n",
    "# Definimos primero una función general para poder usar tanto en el apartado a)\n",
    "# como en el b)\n",
    "def generate_dataframe(d: int, n: int, deviation: float, center0: List[int], center1: List[int]):    \n",
    "    m = [deviation**2] * d\n",
    "    # Generamos los n/2 puntos de la clase 0\n",
    "    data0 = np.random.multivariate_normal(center0, np.diag(m), n//2)  \n",
    "    # Generamos los n/2 puntos de la clase 1\n",
    "    data1 = np.random.multivariate_normal(center1, np.diag(m), math.ceil(n/2))  \n",
    "\n",
    "\n",
    "    # Concatenamos ambos arrays, primero colocamos los puntos correspondientes a \n",
    "    # la clase 0 y luego los correspondientes a la clase 1 así luego no es más\n",
    "    # fácil clasificarlos.\n",
    "    data = np.concatenate((data0, data1), axis=0)\n",
    "\n",
    "    # Generamos las columnas que representarán las coordenadas de cada punto.\n",
    "    cols = list(map(str, list(range(d))))\n",
    "    # Generamos el dataframe\n",
    "    df = pd.DataFrame(data, columns=cols)\n",
    "    # Agregamos al final del dataframe la columna que representa la clase de\n",
    "    # cada punto.\n",
    "    df['Class'] = ([0] * (n // 2)) + ([1] * (math.ceil(n/2)))\n",
    "    \n",
    "    return df\n",
    "\n",
    "def generate_dataframe_a(d: int, n: int, C: float): \n",
    "    deviation = C * sqrt(d)\n",
    "    c0 = [-1] * d\n",
    "    c1 = [1] * d\n",
    "    return generate_dataframe(d, n, deviation, c0, c1)\n"
   ]
  },
  {
   "cell_type": "markdown",
   "metadata": {},
   "source": [
    "### Apartado b)\n",
    "\n",
    "Para este apartado se pide lo mismo que en el a) pero cada distribución tiene\n",
    "centro $(1, 0, ..., 0)$ y $(-1, 0, ..., 0)$ respectivamente. La desviación estándar \n",
    "es $C$ independientemente de $d$."
   ]
  },
  {
   "cell_type": "code",
   "execution_count": null,
   "metadata": {},
   "outputs": [],
   "source": [
    "def generate_dataframe_b(d: int, n: int, C: float):\n",
    "    deviation = C\n",
    "    c0 = [-1] + ([0] * (d - 1))\n",
    "    c1 = [1] + ([0] * (d - 1))\n",
    "    return generate_dataframe(d, n, deviation, c0, c1)"
   ]
  },
  {
   "cell_type": "markdown",
   "metadata": {},
   "source": [
    "### Análisis\n",
    "\n",
    "Ya tenemos nuestra función que genera nuestro dataframe, ahora lo graficaremos\n",
    "para analizar visualmente los datos.\n",
    "\n",
    "Tomamos como parámetros: $d= 2, n = 200, C = 0.75$ y analizamos el gráfico que\n",
    "nos genera el dataframe del apartado a)."
   ]
  },
  {
   "cell_type": "code",
   "execution_count": null,
   "metadata": {},
   "outputs": [],
   "source": [
    "import matplotlib.pyplot as plt\n",
    "\n",
    "\n",
    "df = generate_dataframe_a(d=2, n=200, C=0.75)\n",
    "df.plot(x=0, y=1, kind='scatter', c='Class', colormap='jet')\n"
   ]
  },
  {
   "cell_type": "markdown",
   "metadata": {},
   "source": [
    "Ahora, con los mismo valores, analizamos el gráfico que nos devuelve el generado\n",
    "por el dataframe del apartado b)."
   ]
  },
  {
   "cell_type": "code",
   "execution_count": null,
   "metadata": {},
   "outputs": [],
   "source": [
    "import matplotlib.pyplot as plt\n",
    "\n",
    "\n",
    "df = generate_dataframe_b(d=2, n=200, C=0.75)\n",
    "df.plot(x=0, y=1, kind='scatter', c='Class', colormap='jet')\n",
    "plt.show()"
   ]
  },
  {
   "cell_type": "markdown",
   "metadata": {},
   "source": [
    "Ahora se nos pide generar conjuntos con: $d = 4, n = 2000, C = 2.0$ y verificar\n",
    "que las medias y desviaciones estándar sean correctas."
   ]
  },
  {
   "cell_type": "markdown",
   "metadata": {},
   "source": [
    "Ahora procedemos a analizar la media y desviación estándar en cada caso."
   ]
  },
  {
   "cell_type": "code",
   "execution_count": null,
   "metadata": {},
   "outputs": [],
   "source": [
    "import numpy as np\n",
    "\n",
    "n = 2000\n",
    "\n",
    "# Dataframe para el apartado a)\n",
    "df_a = generate_dataframe_a(d = 4, n = 2000, C = 2.0)\n",
    "# Dataframe para el apartado b)\n",
    "df_b = generate_dataframe_b(d = 4, n = 2000, C = 2.0)\n",
    "\n",
    "print(\"Media para el dataframe del apartado a)\")\n",
    "ga = df_a.groupby('Class')\n",
    "print(ga.mean())\n",
    "print(\"\\nDesviación estandar para el dataframe del apartado a)\")\n",
    "print(ga.std())\n",
    "\n",
    "gb = df_b.groupby('Class')\n",
    "print(\"\\nMedia para el dataframe del apartado b)\")\n",
    "print(gb.mean())\n",
    "print(\"\\nDesviación estandar para el dataframe del apartado b)\")\n",
    "print(gb.std())"
   ]
  },
  {
   "cell_type": "markdown",
   "metadata": {},
   "source": [
    "Observando el output podemos ver que los valores se acercan a los esperados con\n",
    "un cierto margen de error."
   ]
  },
  {
   "cell_type": "markdown",
   "metadata": {},
   "source": [
    "## Apartado c)\n",
    "\n",
    "**Espirales anidadas:** los datos 2 inputs, $x$ e $y$ que corresponden a puntos\n",
    "generados al azar  con una distribución uniforme dentro de un círculo de radio 1.\n",
    "El output es binario, correspondiendo a la clase 0 los puntos que se encuentran\n",
    "entre las curvas $\\rho = \\frac{\\theta}{4\\pi}$ y $\\rho = \\frac{\\theta + \\pi}{4\\pi}$"
   ]
  },
  {
   "cell_type": "code",
   "execution_count": 13,
   "metadata": {},
   "outputs": [
    {
     "name": "stdout",
     "output_type": "stream",
     "text": [
      "           x      y\n",
      "Class              \n",
      "0      10000  10000\n",
      "1      10000  10000\n"
     ]
    },
    {
     "data": {
      "image/png": "[encoded data removed]",
      "text/plain": [
       "<Figure size 432x288 with 2 Axes>"
      ]
     },
     "metadata": {
      "needs_background": "light"
     },
     "output_type": "display_data"
    }
   ],
   "source": [
    "import random\n",
    "import math\n",
    "import matplotlib.pyplot as plt\n",
    "import pandas as pd\n",
    "\n",
    "# Las funciones que representan nuestras curvas\n",
    "def curve1(theta):\n",
    "    return theta / (4 * math.pi)\n",
    "\n",
    "def curve2(theta):\n",
    "    return (theta + math.pi) / (4 * math.pi)\n",
    "\n",
    "def generate_points_c(n):\n",
    "\n",
    "    len0 = n // 2\n",
    "    len1 = n - len0\n",
    "\n",
    "    class0 = 0\n",
    "    class1 = 0\n",
    "\n",
    "    # Radio y centro del circulo\n",
    "    radius = 1\n",
    "    x, y = (0, 0)\n",
    "\n",
    "    # Guardamos las coordenadas x e y respectivamente\n",
    "    xs = []\n",
    "    ys = []\n",
    "\n",
    "    clases = []\n",
    "    # Tamaño random de puntos a generar\n",
    "    # for i in range(0, n):\n",
    "    while (class0 < len0) or (class1 < len1):\n",
    "    # random.random() devuelve numeros entre 0.0 y 1.0\n",
    "        theta = 2 * math.pi * random.random()\n",
    "        r = radius * math.sqrt(random.random())\n",
    "\n",
    "        # clase = 0\n",
    "        # Sumando de a 0.5 vamos dando vuelta alrededor de todo el espiral (esto \n",
    "        # se puede ver analizando una gráfica de la curva1) y vemos \n",
    "        # si el radio cae en alguna de las franjas correctas, y de ser así\n",
    "        # le asignamos la clase 1 a ese punto, en caso contrario esta permanecerá\n",
    "        # en 0.\n",
    "        flag = False\n",
    "        for theta0 in [theta + (2 * math.pi * i) for i in range(-1, 6)]:\n",
    "            if (curve1(theta0) < r and r < curve2(theta0)):\n",
    "                if class1 < len1:\n",
    "                    class1 += 1\n",
    "                    # Convertimos las coordenadas polares a cartesianas y almacenamos.\n",
    "                    xs.append(r * math.cos(theta) + x)\n",
    "                    ys.append(r * math.sin(theta) + y)\n",
    "                    # Guadamos la clase correspondiente al punto generado.\n",
    "                    clases.append(1)\n",
    "                flag = True\n",
    "                continue\n",
    "        if class0 < len0 and not flag:\n",
    "            class0 += 1\n",
    "            # Convertimos las coordenadas polares a cartesianas y almacenamos.\n",
    "            xs.append(r * math.cos(theta) + x)\n",
    "            ys.append(r * math.sin(theta) + y)\n",
    "            # Guadamos la clase correspondiente al punto generado.\n",
    "            clases.append(0)\n",
    "\n",
    "    # Generamos el dataframe\n",
    "    points = {'x': xs, 'y': ys, 'Class': clases}\n",
    "    df = pd.DataFrame(points)\n",
    "    print(df.groupby('Class').count())\n",
    "    return df\n",
    "\n",
    "# Graficamos\n",
    "df = generate_points_c(20000)\n",
    "df.plot(x=0, y=1, kind='scatter', c='Class', colormap='jet')\n",
    "\n"
   ]
  }
 ],
 "metadata": {
  "interpreter": {
   "hash": "916dbcbb3f70747c44a77c7bcd40155683ae19c65e1c03b4aa3499c5328201f1"
  },
  "kernelspec": {
   "display_name": "Python 3.8.5 64-bit",
   "language": "python",
   "name": "python3"
  },
  "language_info": {
   "codemirror_mode": {
    "name": "ipython",
    "version": 3
   },
   "file_extension": ".py",
   "mimetype": "text/x-python",
   "name": "python",
   "nbconvert_exporter": "python",
   "pygments_lexer": "ipython3",
   "version": "3.8.10"
  },
  "orig_nbformat": 4
 },
 "nbformat": 4,
 "nbformat_minor": 2
}
