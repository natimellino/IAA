{
 "cells": [
  {
   "cell_type": "markdown",
   "metadata": {},
   "source": [
    "# Trabajo Práctico N° 2: Redes Neuronales\n",
    "## Natalia Mellino - Introducción al Aprendizaje Automatizado"
   ]
  },
  {
   "cell_type": "code",
   "execution_count": 1,
   "metadata": {},
   "outputs": [],
   "source": [
    "# imports here\n",
    "\n",
    "import numpy as np\n",
    "import sklearn as sk\n",
    "import pandas as pd\n",
    "from sklearn.neural_network import MLPRegressor\n",
    "from sklearn.neural_network import MLPClassifier\n",
    "from copy import deepcopy\n",
    "import matplotlib.pyplot as plt\n",
    "import espirales_anidadas"
   ]
  },
  {
   "cell_type": "code",
   "execution_count": 2,
   "metadata": {},
   "outputs": [
    {
     "name": "stdout",
     "output_type": "stream",
     "text": [
      "MLPRegressor(activation='logistic', alpha=0.0, batch_size=1,\n",
      "             hidden_layer_sizes=(60,), learning_rate_init=0.01, max_iter=25,\n",
      "             nesterovs_momentum=False, solver='sgd', tol=0.0, warm_start=True)\n"
     ]
    }
   ],
   "source": [
    "#defino parámetros de la red\n",
    "epocas_por_entrenamiento=25    #numero de epocas que entrena cada vez\n",
    "eta=0.01              #learning rate\n",
    "alfa=0.9               #momentum\n",
    "N2=60                 #neuronas en la capa oculta\n",
    "\n",
    "#defino MLP para regresión\n",
    "regr = MLPRegressor(hidden_layer_sizes=(N2,), activation='logistic', solver='sgd', alpha=0.0, batch_size=1, learning_rate='constant', learning_rate_init=eta,momentum=alfa,nesterovs_momentum=False,tol=0.0,warm_start=True,max_iter=epocas_por_entrenamiento)\n",
    "#defino MLP para clasificación\n",
    "clasif = MLPClassifier(hidden_layer_sizes=(N2,), activation='logistic', solver='sgd', alpha=0.0, batch_size=1, learning_rate='constant', learning_rate_init=eta,momentum=alfa,nesterovs_momentum=False,tol=0.0,warm_start=True,max_iter=epocas_por_entrenamiento)\n",
    "print(regr)"
   ]
  },
  {
   "cell_type": "code",
   "execution_count": 3,
   "metadata": {},
   "outputs": [],
   "source": [
    "# Entrenar red para REGRESION\n",
    "\n",
    "def entrenar_red_regresion(red, evaluaciones, X_train, y_train, X_val, y_val, X_test, y_test):\n",
    "    best_red = None\n",
    "    error_train = None\n",
    "    error_val = None\n",
    "    error_test = None\n",
    "    for i in range(evaluaciones):\n",
    "        # Entrenamos\n",
    "        model = red.fit(X_train, y_train)\n",
    "        # Predecimos\n",
    "        pred_train = model.predict(X_train)\n",
    "        pred_val = model.predict(X_val)\n",
    "        pred_test = model.predict(X_test)\n",
    "        # Guardamos error y vemos si la red que tenemos es mejor que la anterior\n",
    "        current_error_train = sk.metrics.mean_squared_error(y_train, pred_train)\n",
    "        current_error_val = sk.metrics.mean_squared_error(y_val, pred_val)\n",
    "        current_error_test = sk.metrics.mean_squared_error(y_test, pred_test)\n",
    "\n",
    "        if error_val is None or current_error_val < error_val:\n",
    "            best_red = deepcopy(model)\n",
    "            error_train = current_error_train\n",
    "            error_test = current_error_test\n",
    "            error_val = current_error_val\n",
    "\n",
    "    return best_red, error_train, error_val, error_test"
   ]
  },
  {
   "cell_type": "code",
   "execution_count": 5,
   "metadata": {},
   "outputs": [],
   "source": [
    "# Entrenar red para CLASIFICACIÓN\n",
    "\n",
    "def entrenar_red_clasificacion(red, evaluaciones, X_train, y_train, X_val, y_val, X_test, y_test):\n",
    "    best_red = None\n",
    "    error_train = None\n",
    "    error_val = None\n",
    "    error_test = None\n",
    "    for i in range(evaluaciones):\n",
    "        # Entrenamos\n",
    "        model = red.fit(X_train, y_train)\n",
    "        # Predecimos\n",
    "        pred_train = model.predict(X_train)\n",
    "        pred_val = model.predict(X_val)\n",
    "        pred_test = model.predict(X_test)\n",
    "        # Guardamos error y vemos si la red que tenemos es mejor que la anterior\n",
    "        current_error_train = sk.metrics.zero_one_loss(y_train, pred_train)\n",
    "        current_error_val = sk.metrics.zero_one_loss(y_val, pred_val)\n",
    "        current_error_test = sk.metrics.zero_one_loss(y_test, pred_test)\n",
    "\n",
    "        if error_val is None or current_error_val < error_val:\n",
    "            best_red = deepcopy(model)\n",
    "            error_train = current_error_train\n",
    "            error_test = current_error_test\n",
    "            error_val = current_error_val\n",
    "\n",
    "    return best_red, error_train, error_val, error_test"
   ]
  },
  {
   "cell_type": "code",
   "execution_count": null,
   "metadata": {},
   "outputs": [],
   "source": [
    "# Función para graficar errores y predicciones\n",
    "\n",
    "# regr, e_train, e_val, e_test = entrenar_red_regresion(regr, epocas, X_train, y_train, X_val, y_val, X_test, y_test)\n",
    "\n",
    "def graficar_errores(e_train, e_val, e_test, epocas):\n",
    "    plt.plot(range(epocas), e_train, label=\"train\", linestyle=\":\")\n",
    "    plt.plot(range(epocas), e_val, label=\"validacion\", linestyle=\"-.\")\n",
    "    plt.plot(range(epocas), e_test, label=\"test\", linestyle=\"-\")\n",
    "    plt.legend()\n",
    "    plt.show()"
   ]
  },
  {
   "cell_type": "markdown",
   "metadata": {},
   "source": [
    "## Ejercicio 1"
   ]
  },
  {
   "cell_type": "code",
   "execution_count": null,
   "metadata": {},
   "outputs": [],
   "source": [
    "def ej1():\n",
    "    train = espirales_anidadas.generate_points_c(600)\n",
    "    test = espirales_anidadas.generate_points_c(2000)\n",
    "\n",
    "    evaluaciones = 1000\n",
    "    epocas = 20\n",
    "    eta = 0.1 # lr\n",
    "    alfa = 0.9 # m\n",
    "\n",
    "    n_neuronas = [2, 10, 20, 40]"
   ]
  }
 ],
 "metadata": {
  "interpreter": {
   "hash": "916dbcbb3f70747c44a77c7bcd40155683ae19c65e1c03b4aa3499c5328201f1"
  },
  "kernelspec": {
   "display_name": "Python 3.8.10 64-bit",
   "language": "python",
   "name": "python3"
  },
  "language_info": {
   "codemirror_mode": {
    "name": "ipython",
    "version": 3
   },
   "file_extension": ".py",
   "mimetype": "text/x-python",
   "name": "python",
   "nbconvert_exporter": "python",
   "pygments_lexer": "ipython3",
   "version": "3.8.10"
  },
  "orig_nbformat": 4
 },
 "nbformat": 4,
 "nbformat_minor": 2
}
